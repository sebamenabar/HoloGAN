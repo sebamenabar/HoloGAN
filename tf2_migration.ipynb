{
 "cells": [
  {
   "cell_type": "code",
   "execution_count": 2,
   "metadata": {
    "ExecuteTime": {
     "end_time": "2020-03-16T17:50:10.380561Z",
     "start_time": "2020-03-16T17:50:10.375218Z"
    }
   },
   "outputs": [],
   "source": [
    "import os\n",
    "import sys"
   ]
  },
  {
   "cell_type": "code",
   "execution_count": 3,
   "metadata": {
    "ExecuteTime": {
     "end_time": "2020-03-16T17:50:11.467836Z",
     "start_time": "2020-03-16T17:50:11.459763Z"
    }
   },
   "outputs": [],
   "source": [
    "import tensorflow as tf\n",
    "from tensorflow.keras.preprocessing.image import ImageDataGenerator\n",
    "\n",
    "import IPython.display as display\n",
    "from PIL import Image\n",
    "import numpy as np\n",
    "import matplotlib.pyplot as plt\n",
    "\n",
    "AUTOTUNE = tf.data.experimental.AUTOTUNE"
   ]
  },
  {
   "cell_type": "code",
   "execution_count": 4,
   "metadata": {
    "ExecuteTime": {
     "end_time": "2020-03-16T17:50:11.700553Z",
     "start_time": "2020-03-16T17:50:11.694043Z"
    }
   },
   "outputs": [],
   "source": [
    "train_dir = os.path.join('one_image_dataset/')\n",
    "validation_dir = os.path.join('one_image_dataset/')"
   ]
  },
  {
   "cell_type": "code",
   "execution_count": 5,
   "metadata": {
    "ExecuteTime": {
     "end_time": "2020-03-16T17:50:11.917024Z",
     "start_time": "2020-03-16T17:50:11.902516Z"
    }
   },
   "outputs": [
    {
     "name": "stdout",
     "output_type": "stream",
     "text": [
      "num_tr 1\n",
      "num_val 1\n"
     ]
    }
   ],
   "source": [
    "num_tr = len(os.listdir(train_dir))\n",
    "num_val = len(os.listdir(validation_dir))\n",
    "\n",
    "print('num_tr', num_tr)\n",
    "print('num_val', num_val)\n",
    "\n",
    "BATCH_SIZE = 1\n",
    "epochs = 15\n",
    "IMG_HEIGHT = 64\n",
    "IMG_WIDTH = 64"
   ]
  },
  {
   "cell_type": "code",
   "execution_count": 11,
   "metadata": {
    "ExecuteTime": {
     "end_time": "2020-03-16T17:50:47.822535Z",
     "start_time": "2020-03-16T17:50:47.809566Z"
    }
   },
   "outputs": [],
   "source": [
    "def decode_img(img):\n",
    "    # convert the compressed string to a 3D uint8 tensor\n",
    "    img = tf.image.decode_jpeg(img, channels=3)\n",
    "    # Use `convert_image_dtype` to convert to floats in the [0,1] range.\n",
    "    img = tf.image.convert_image_dtype(img, tf.float32)\n",
    "    # resize the image to the desired size.\n",
    "    return tf.image.resize(img, [IMG_WIDTH, IMG_HEIGHT])\n",
    "\n",
    "\n",
    "def process_path(file_path):\n",
    "    # label = get_label(file_path)\n",
    "    # load the raw data from the file as a string\n",
    "    img = tf.io.read_file(file_path)\n",
    "    img = decode_img(img)\n",
    "    return img\n",
    "\n",
    "\n",
    "def show_batch(image_batch):\n",
    "    plt.figure(figsize=(10, 10))\n",
    "    for n in range(min(25, image_batch.shape[0])):\n",
    "        ax = plt.subplot(5, 5, n + 1)\n",
    "        plt.imshow(image_batch[n])\n",
    "        # plt.title(CLASS_NAMES[label_batch[n] == 1][0].title())\n",
    "        plt.axis('off')"
   ]
  },
  {
   "cell_type": "code",
   "execution_count": 7,
   "metadata": {
    "ExecuteTime": {
     "end_time": "2020-03-16T17:50:12.789126Z",
     "start_time": "2020-03-16T17:50:12.309207Z"
    }
   },
   "outputs": [
    {
     "name": "stdout",
     "output_type": "stream",
     "text": [
      "Image shape:  (64, 64, 3)\n"
     ]
    }
   ],
   "source": [
    "list_ds_train = tf.data.Dataset.list_files(str(train_dir + '*.png'))\n",
    "labeled_ds = list_ds_train.map(process_path, num_parallel_calls=AUTOTUNE)\n",
    "\n",
    "for image in labeled_ds.take(1):\n",
    "    print(\"Image shape: \", image.numpy().shape)"
   ]
  },
  {
   "cell_type": "code",
   "execution_count": 8,
   "metadata": {
    "ExecuteTime": {
     "end_time": "2020-03-16T17:50:12.809899Z",
     "start_time": "2020-03-16T17:50:12.794271Z"
    }
   },
   "outputs": [],
   "source": [
    "def prepare_for_training(ds, cache=True, shuffle_buffer_size=1000):\n",
    "    # This is a small dataset, only load it once, and keep it in memory.\n",
    "    # use `.cache(filename)` to cache preprocessing work for datasets that don't\n",
    "    # fit in memory.\n",
    "    if cache:\n",
    "        if isinstance(cache, str):\n",
    "            ds = ds.cache(cache)\n",
    "        else:\n",
    "            ds = ds.cache()\n",
    "\n",
    "    ds = ds.shuffle(buffer_size=shuffle_buffer_size)\n",
    "\n",
    "    # Repeat forever\n",
    "    ds = ds.repeat()\n",
    "\n",
    "    ds = ds.batch(BATCH_SIZE)\n",
    "\n",
    "    # `prefetch` lets the dataset fetch batches in the background while the model\n",
    "    # is training.\n",
    "    ds = ds.prefetch(buffer_size=AUTOTUNE)\n",
    "\n",
    "    return ds"
   ]
  },
  {
   "cell_type": "code",
   "execution_count": 9,
   "metadata": {
    "ExecuteTime": {
     "end_time": "2020-03-16T17:50:12.982932Z",
     "start_time": "2020-03-16T17:50:12.971792Z"
    }
   },
   "outputs": [],
   "source": [
    "train_ds = prepare_for_training(labeled_ds)"
   ]
  },
  {
   "cell_type": "code",
   "execution_count": 12,
   "metadata": {
    "ExecuteTime": {
     "end_time": "2020-03-16T17:50:49.872144Z",
     "start_time": "2020-03-16T17:50:49.662890Z"
    }
   },
   "outputs": [
    {
     "data": {
      "image/png": "[encoded data removed]",
      "text/plain": [
       "<Figure size 720x720 with 1 Axes>"
      ]
     },
     "metadata": {
      "needs_background": "light"
     },
     "output_type": "display_data"
    }
   ],
   "source": [
    "image_batch = next(iter(train_ds))\n",
    "show_batch(image_batch.numpy())"
   ]
  },
  {
   "cell_type": "code",
   "execution_count": 17,
   "metadata": {
    "ExecuteTime": {
     "end_time": "2020-03-16T18:54:27.293060Z",
     "start_time": "2020-03-16T18:54:27.286109Z"
    }
   },
   "outputs": [],
   "source": [
    "import tensorflow.keras as K\n",
    "from tensorflow.keras import Model\n",
    "from tensorflow.keras.layers import Dense, Flatten, Conv2D"
   ]
  },
  {
   "cell_type": "code",
   "execution_count": 64,
   "metadata": {
    "ExecuteTime": {
     "end_time": "2020-03-16T20:51:13.555696Z",
     "start_time": "2020-03-16T20:51:13.540103Z"
    },
    "code_folding": [
     0
    ]
   },
   "outputs": [],
   "source": [
    "class AdaIN(Model):\n",
    "    def __init__(self, feat_dim, z_dim):\n",
    "        super().__init__()\n",
    "        self.z_proj = Dense(\n",
    "            units=feat_dim * 2,\n",
    "            input_shape=(z_dim,),\n",
    "            activation='relu',\n",
    "            use_bias=True,            kernel_initializer=tf.initializers.RandomNormal(stddev=0.02),\n",
    "            bias_initializer='zeros',\n",
    "        )\n",
    "        \n",
    "    def call(self, features, z):\n",
    "        \"\"\"\n",
    "        Adaptive instance normalization component. Works with both 4D and 5D tensors\n",
    "        :features: features to be normalized\n",
    "        :scale: scaling factor. This would otherwise be calculated as the sigma from a \"style\" features in style transfer\n",
    "        :bias: bias factor. This would otherwise be calculated as the mean from a \"style\" features in style transfer\n",
    "        \"\"\"\n",
    "        scale, bias = tf.split(self.z_proj(z), 2, num=2, axis=1)\n",
    "        mean, variance = tf.nn.moments(features, list(range(len(features.get_shape())))[1:-1],\n",
    "                                       keepdims=True)  # Only consider spatial dimension\n",
    "        sigma = tf.math.rsqrt(variance + 1e-8)\n",
    "        normalized = (features - mean) * sigma\n",
    "        scale_broadcast = tf.reshape(scale, tf.shape(mean))\n",
    "        bias_broadcast = tf.reshape(bias, tf.shape(mean))\n",
    "        normalized = scale_broadcast * normalized\n",
    "        normalized += bias_broadcast\n",
    "        return normalized"
   ]
  },
  {
   "cell_type": "code",
   "execution_count": 120,
   "metadata": {
    "ExecuteTime": {
     "end_time": "2020-03-16T21:50:34.205796Z",
     "start_time": "2020-03-16T21:50:34.121270Z"
    },
    "code_folding": [
     0,
     85
    ]
   },
   "outputs": [],
   "source": [
    "class ObjectGenerator(Model):\n",
    "    def __init__(self, z_dim, w_dim):\n",
    "        super().__init__()\n",
    "        \n",
    "        self.lrelu = K.layers.LeakyReLU(alpha=0.2)\n",
    "        \n",
    "        self.w = tf.Variable(tf.random.normal((4, 4, 4, w_dim), stddev=0.02), trainable=True)\n",
    "        self.adain0 = AdaIN(w_dim, z_dim)\n",
    "        \n",
    "        self.deconv1 = K.layers.Conv3DTranspose(\n",
    "            filters=128,\n",
    "            kernel_size=(3, 3, 3),\n",
    "            strides=(2, 2, 2),\n",
    "            padding='same',\n",
    "            kernel_initializer=tf.initializers.RandomNormal(stddev=0.02),\n",
    "            bias_initializer='zeros',\n",
    "        )\n",
    "        self.adain1 = AdaIN(128, z_dim)\n",
    "        \n",
    "        self.deconv2 = K.layers.Conv3DTranspose(\n",
    "            filters=64,\n",
    "            kernel_size=(3, 3, 3),\n",
    "            strides=(2, 2, 2),\n",
    "            padding='same',\n",
    "            kernel_initializer=tf.initializers.RandomNormal(stddev=0.02),\n",
    "            bias_initializer='zeros',\n",
    "        )\n",
    "        self.adain2 = AdaIN(64, z_dim)\n",
    "        \n",
    "        self.proj1 = K.layers.Conv3DTranspose(\n",
    "            filters=64,\n",
    "            kernel_size=(3, 3, 3),\n",
    "            strides=(1, 1, 1),\n",
    "            padding='same',\n",
    "            kernel_initializer=tf.initializers.RandomNormal(stddev=0.02),\n",
    "            bias_initializer='zeros',\n",
    "        )\n",
    "        self.proj2 = K.layers.Conv3DTranspose(\n",
    "            filters=64,\n",
    "            kernel_size=(3, 3, 3),\n",
    "            strides=(1, 1, 1),\n",
    "            padding='same',\n",
    "            kernel_initializer=tf.initializers.RandomNormal(stddev=0.02),\n",
    "            bias_initializer='zeros',\n",
    "        )\n",
    "        \n",
    "    def call(self, z, view_in=None):\n",
    "        '''\n",
    "        w: (bsz, num_objs, height, width, depth, channels)\n",
    "        z: (bsz, num_objs, z_dim)\n",
    "        view_in: (bsz, num_objs, 6)\n",
    "        '''\n",
    "        # TODO: reshape all objects of all samples in the batch\n",
    "        # everything is 1 object during development/debugging\n",
    "        # w = tf.reshape(w, ...) # (bsz * num_objs, height, width, depth, channels)\n",
    "        # z = tf.reshape(w, ...) # (bsz * num_objs, z_dim)\n",
    "        # view_in = tf.reshape(w, ...) # (bsz * num_objs, 6)\n",
    "        bsz, z_bg_dim = z.shape\n",
    "        w = tf.repeat(tf.expand_dims(self.w, 0), bsz, axis=0, name='w')\n",
    "        \n",
    "        h0 = self.adain0(w, z)\n",
    "        h0 = self.lrelu(h0)\n",
    "        \n",
    "        h1 = self.deconv1(h0)\n",
    "        h1 = self.adain1(h1, z)\n",
    "        h1 = self.lrelu(h1)\n",
    "        \n",
    "        h2 = self.deconv2(h1)\n",
    "        h2 = self.adain2(h2, z)\n",
    "        h2 = self.lrelu(h2)\n",
    "        \n",
    "        ## TODO 3d transform\n",
    "        # 3d_transform\n",
    "        ## \n",
    "        \n",
    "        # TEMP replace learnable projection with\n",
    "        # a transformation\n",
    "        h2_proj1 = self.proj1(h2)\n",
    "        h2_proj1 = self.lrelu(h2_proj1)\n",
    "        \n",
    "        h2_proj2 = self.proj2(h2_proj1)\n",
    "        h2_proj2 = self.lrelu(h2_proj2)\n",
    "        \n",
    "        return h2_proj2\n",
    "\n",
    "class Generator(Model):\n",
    "    def __init__(self, z_dim_bg=30, z_dim_fg=90):\n",
    "        super().__init__()\n",
    "        \n",
    "        self.z_dim_bg = z_dim_bg\n",
    "        self.z_dim_fg = z_dim_fg\n",
    "        # self.lrelu = K.layers.LeakyReLU(alpha=0.2)\n",
    "        \n",
    "        self.lrelu = K.layers.LeakyReLU(alpha=0.2)\n",
    "        self.bg_generator = ObjectGenerator(z_dim_bg, 256)\n",
    "        self.fg_generator = ObjectGenerator(z_dim_fg, 512)\n",
    "        \n",
    "        self.deconv3 = K.layers.Conv2DTranspose(\n",
    "            filters=64,\n",
    "            kernel_size=(1, 1),\n",
    "            strides=(1, 1),\n",
    "            padding='same',\n",
    "            kernel_initializer=tf.initializers.RandomNormal(stddev=0.02),\n",
    "            bias_initializer='zeros',\n",
    "        )\n",
    "        self.deconv4 = K.layers.Conv2DTranspose(\n",
    "            filters=64,\n",
    "            kernel_size=(4, 4),\n",
    "            strides=(2, 2),\n",
    "            padding='same',\n",
    "            kernel_initializer=tf.initializers.RandomNormal(stddev=0.02),\n",
    "            bias_initializer='zeros',\n",
    "        )\n",
    "        self.deconv5 = K.layers.Conv2DTranspose(\n",
    "            filters=64,\n",
    "            kernel_size=(4, 4),\n",
    "            strides=(2, 2),\n",
    "            padding='same',\n",
    "            kernel_initializer=tf.initializers.RandomNormal(stddev=0.02),\n",
    "            bias_initializer='zeros',\n",
    "        )\n",
    "        self.deconv6 = K.layers.Conv2DTranspose(\n",
    "            filters=3,\n",
    "            kernel_size=(4, 4),\n",
    "            strides=(1, 1),\n",
    "            padding='same',\n",
    "            kernel_initializer=tf.initializers.RandomNormal(stddev=0.02),\n",
    "            bias_initializer='zeros',\n",
    "        )\n",
    "        #self.deconv7 = K.layers.Conv2DTranspose(\n",
    "        #    filters=3,\n",
    "        #    kernel_size=(4, 4),\n",
    "        #    strides=(1, 1),\n",
    "        #    padding='same',\n",
    "        #    kernel_initializer=tf.initializers.RandomNormal(stddev=0.02),\n",
    "        #    bias_initializer='zeros',\n",
    "        #)\n",
    "        \n",
    "    def call(self, bsz, z_bg=None, z_fg=None):\n",
    "        # bsz, z_bg_dim = z_bg.shape\n",
    "        z_bg = tf.ones((bsz, self.z_dim_bg), dtype=tf.float32)\n",
    "        z_fg = tf.ones((bsz, self.z_dim_fg), dtype=tf.float32)\n",
    "        \n",
    "        bg = self.bg_generator(z_bg, None)\n",
    "        fg = self.fg_generator(z_fg, None)\n",
    "        \n",
    "        bg = tf.expand_dims(bg, 1)\n",
    "        fg = tf.expand_dims(fg, 1)\n",
    "        \n",
    "        composed_scene = tf.concat((bg, fg), axis=1)\n",
    "        composed_scene = tf.math.reduce_max(composed_scene, axis=1, name='composed_scene')\n",
    "        \n",
    "        h2_2d = tf.reshape(composed_scene, (bsz, 16, 16, 16 * 64))\n",
    "        \n",
    "        h3 = self.lrelu(self.deconv3(h2_2d))\n",
    "        h4 = self.lrelu(self.deconv4(h3))\n",
    "        h5 = self.lrelu(self.deconv5(h4))\n",
    "        h6 = tf.math.sigmoid(self.deconv6(h5))\n",
    "        # h6 = self.lrelu(self.deconv6(h5))\n",
    "        # h7 = tf.math.sigmoid(self.deconv7(h6))\n",
    "        \n",
    "        return h6"
   ]
  },
  {
   "cell_type": "code",
   "execution_count": 155,
   "metadata": {
    "ExecuteTime": {
     "end_time": "2020-03-17T15:37:44.924799Z",
     "start_time": "2020-03-17T15:37:44.685692Z"
    }
   },
   "outputs": [
    {
     "data": {
      "text/plain": [
       "TensorShape([2, 1])"
      ]
     },
     "execution_count": 155,
     "metadata": {},
     "output_type": "execute_result"
    }
   ],
   "source": [
    "from tensorflow.keras.constraints import Constraint\n",
    "POWER_ITERATIONS = 1\n",
    "\n",
    "\n",
    "def l2_normalize(x, eps=1e-12):\n",
    "    '''\n",
    "  Scale input by the inverse of it's euclidean norm\n",
    "  '''\n",
    "    return x / tf.linalg.norm(x + eps)\n",
    "\n",
    "\n",
    "class Spectral_Norm(Constraint):\n",
    "    '''\n",
    "    Uses power iteration method to calculate a fast approximation \n",
    "    of the spectral norm (Golub & Van der Vorst)\n",
    "    The weights are then scaled by the inverse of the spectral norm\n",
    "    '''\n",
    "    def __init__(self, power_iters=POWER_ITERATIONS):\n",
    "        self.n_iters = power_iters\n",
    "\n",
    "    def __call__(self, w):\n",
    "        flattened_w = tf.reshape(w, [w.shape[0], -1])\n",
    "        u = tf.random.normal([flattened_w.shape[0]])\n",
    "        v = tf.random.normal([flattened_w.shape[1]])\n",
    "        for i in range(self.n_iters):\n",
    "            v = tf.linalg.matvec(tf.transpose(flattened_w), u)\n",
    "            v = l2_normalize(v)\n",
    "            u = tf.linalg.matvec(flattened_w, v)\n",
    "            u = l2_normalize(u)\n",
    "        sigma = tf.tensordot(u, tf.linalg.matvec(flattened_w, v), axes=1)\n",
    "        return w / sigma\n",
    "\n",
    "    def get_config(self):\n",
    "        return {'n_iters': self.n_iters}\n",
    "\n",
    "class InstanceNorm(Model):\n",
    "    def __init__(self, num_channels):\n",
    "        super().__init__()\n",
    "        self.scale = tf.Variable(initial_value=tf.random.normal((num_channels,), 1.0, 0.02))\n",
    "        self.offset = tf.Variable(initial_value=tf.zeros((num_channels,), dtype=tf.float32))\n",
    "    \n",
    "    def call(self, x):\n",
    "        mean, variance = tf.nn.moments(x, axes=[1, 2], keepdims=True)\n",
    "        epsilon = 1e-5\n",
    "        inv = tf.math.rsqrt(variance + epsilon)\n",
    "        normalized = (x - mean) * inv\n",
    "        return self.scale * normalized + self.offset\n",
    "    \n",
    "class Discriminator(Model):\n",
    "    def __init__(self):\n",
    "        super().__init__()\n",
    "        \n",
    "        self.lrelu = K.layers.LeakyReLU(alpha=0.2)\n",
    "        \n",
    "        self.conv0 = Conv2D(\n",
    "            filters=64,\n",
    "            kernel_size=(5, 5),\n",
    "            strides=(2, 2),\n",
    "            padding='SAME',\n",
    "            kernel_initializer=tf.initializers.TruncatedNormal(stddev=0.02),\n",
    "            bias_initializer='zeros',\n",
    "            # kernel_constraint=Spectral_Norm(),\n",
    "        )\n",
    "        \n",
    "        self.conv1 = Conv2D(\n",
    "            filters=128,\n",
    "            kernel_size=(5, 5),\n",
    "            strides=(2, 2),\n",
    "            padding='SAME',\n",
    "            kernel_initializer=tf.initializers.TruncatedNormal(stddev=0.02),\n",
    "            bias_initializer='zeros',\n",
    "            kernel_constraint=Spectral_Norm(),\n",
    "        )\n",
    "        self.inst_norm1 = InstanceNorm(128)\n",
    "        \n",
    "        self.conv2 = Conv2D(\n",
    "            filters=256,\n",
    "            kernel_size=(5, 5),\n",
    "            strides=(2, 2),\n",
    "            padding='SAME',\n",
    "            kernel_initializer=tf.initializers.TruncatedNormal(stddev=0.02),\n",
    "            bias_initializer='zeros',\n",
    "            kernel_constraint=Spectral_Norm(),\n",
    "        )\n",
    "        self.inst_norm2 = InstanceNorm(256)\n",
    "        \n",
    "        self.conv3 = Conv2D(\n",
    "            filters=512,\n",
    "            kernel_size=(5, 5),\n",
    "            strides=(2, 2),\n",
    "            padding='SAME',\n",
    "            kernel_initializer=tf.initializers.TruncatedNormal(stddev=0.02),\n",
    "            bias_initializer='zeros',\n",
    "            kernel_constraint=Spectral_Norm(),\n",
    "        )\n",
    "        self.inst_norm3 = InstanceNorm(512)\n",
    "        \n",
    "        self.linear = Dense(1, kernel_constraint=Spectral_Norm())\n",
    "\n",
    "    def call(self, x):\n",
    "        \n",
    "        x = self.lrelu(self.conv0(x))\n",
    "        x = self.lrelu(self.inst_norm1(self.conv1(x)))\n",
    "        x = self.lrelu(self.inst_norm2(self.conv2(x)))\n",
    "        x = self.lrelu(self.inst_norm3(self.conv3(x)))\n",
    "        \n",
    "        return self.linear(tf.reshape(x, (-1, 4 * 4 * 512)))\n",
    "        \n",
    "discriminator = Discriminator()\n",
    "_res = discriminator(tf.random.normal((2, 64, 64, 3)))\n",
    "_res.shape"
   ]
  },
  {
   "cell_type": "code",
   "execution_count": 164,
   "metadata": {
    "ExecuteTime": {
     "end_time": "2020-03-17T15:48:44.937737Z",
     "start_time": "2020-03-17T15:48:44.925962Z"
    }
   },
   "outputs": [],
   "source": [
    "def discriminator_loss(real, generated):\n",
    "    real_loss = bce(tf.ones_like(real), real)\n",
    "\n",
    "    generated_loss = bce(tf.zeros_like(generated), generated)\n",
    "\n",
    "    total_disc_loss = real_loss + generated_loss\n",
    "\n",
    "    return total_disc_loss * 0.5\n",
    "\n",
    "def generator_loss(generated):\n",
    "    return bce(tf.ones_like(generated), generated)"
   ]
  },
  {
   "cell_type": "code",
   "execution_count": 170,
   "metadata": {
    "ExecuteTime": {
     "end_time": "2020-03-17T15:59:27.113218Z",
     "start_time": "2020-03-17T15:59:27.051496Z"
    }
   },
   "outputs": [],
   "source": [
    "# optimizer = K.optimizers.Adam()\n",
    "generator_optimizer = tf.keras.optimizers.Adam(1e-4)\n",
    "discriminator_optimizer = tf.keras.optimizers.Adam(1e-4)\n",
    "\n",
    "# mse = K.losses.MeanSquaredError()\n",
    "bce = K.losses.BinaryCrossentropy(from_logits=True)\n",
    "generator = Generator()"
   ]
  },
  {
   "cell_type": "code",
   "execution_count": 125,
   "metadata": {
    "ExecuteTime": {
     "end_time": "2020-03-16T21:52:28.632681Z",
     "start_time": "2020-03-16T21:52:28.623445Z"
    }
   },
   "outputs": [],
   "source": [
    "from tqdm import tqdm_notebook as tqdm"
   ]
  },
  {
   "cell_type": "code",
   "execution_count": null,
   "metadata": {
    "ExecuteTime": {
     "start_time": "2020-03-17T15:59:34.901Z"
    }
   },
   "outputs": [
    {
     "data": {
      "application/vnd.jupyter.widget-view+json": {
       "model_id": "f32157a65598438d931a714dfab227dc",
       "version_major": 2,
       "version_minor": 0
      },
      "text/plain": [
       "HBox(children=(IntProgress(value=0, max=1000), HTML(value='')))"
      ]
     },
     "metadata": {},
     "output_type": "display_data"
    }
   ],
   "source": [
    "num_steps = 1000\n",
    "pbar = tqdm(range(num_steps), total=num_steps)\n",
    "\n",
    "total_g_loss = 0.\n",
    "total_d_loss = 0.\n",
    "\n",
    "for it in pbar:\n",
    "    \n",
    "    with tf.GradientTape(persistent=True) as tape:\n",
    "        generated = generator(1)\n",
    "        \n",
    "        d_fake_logits = discriminator(generated)\n",
    "        d_real_logits = discriminator(image_batch)\n",
    "        \n",
    "        d_loss = discriminator_loss(d_real_logits, d_fake_logits)\n",
    "        g_loss = generator_loss(d_fake_logits)\n",
    "        \n",
    "    g_variables = generator.trainable_variables\n",
    "    d_variables = discriminator.trainable_variables\n",
    "\n",
    "    g_gradients = tape.gradient(g_loss, g_variables)\n",
    "    d_gradients = tape.gradient(d_loss, d_variables)\n",
    "\n",
    "    generator_optimizer.apply_gradients(zip(g_gradients, g_variables))\n",
    "    discriminator_optimizer.apply_gradients(zip(d_gradients, d_variables)) \n",
    "    \n",
    "    total_g_loss += g_loss.numpy()\n",
    "    total_d_loss += d_loss.numpy()\n",
    "    \n",
    "    pbar.set_postfix(g_loss=f'{g_loss.numpy():.4f} ({total_g_loss / (it + 1):.4f})',\n",
    "                     d_loss=f'{d_loss.numpy():.4f} ({total_d_loss / (it + 1):.4f})')\n",
    "    # break"
   ]
  },
  {
   "cell_type": "code",
   "execution_count": 157,
   "metadata": {
    "ExecuteTime": {
     "end_time": "2020-03-17T15:37:52.901585Z",
     "start_time": "2020-03-17T15:37:52.885590Z"
    }
   },
   "outputs": [
    {
     "data": {
      "text/plain": [
       "<tf.Tensor: shape=(1, 1), dtype=float32, numpy=array([[-0.6935361]], dtype=float32)>"
      ]
     },
     "execution_count": 157,
     "metadata": {},
     "output_type": "execute_result"
    }
   ],
   "source": [
    "d_logits"
   ]
  },
  {
   "cell_type": "code",
   "execution_count": 122,
   "metadata": {
    "ExecuteTime": {
     "end_time": "2020-03-16T21:51:30.038050Z",
     "start_time": "2020-03-16T21:51:30.029863Z"
    }
   },
   "outputs": [
    {
     "data": {
      "text/plain": [
       "0.0071974434"
      ]
     },
     "execution_count": 122,
     "metadata": {},
     "output_type": "execute_result"
    }
   ],
   "source": [
    "loss.numpy()"
   ]
  },
  {
   "cell_type": "code",
   "execution_count": 168,
   "metadata": {
    "ExecuteTime": {
     "end_time": "2020-03-17T15:51:32.892455Z",
     "start_time": "2020-03-17T15:51:32.681623Z"
    }
   },
   "outputs": [
    {
     "data": {
      "image/png": "[encoded data removed]",
      "text/plain": [
       "<Figure size 720x720 with 1 Axes>"
      ]
     },
     "metadata": {
      "needs_background": "light"
     },
     "output_type": "display_data"
    }
   ],
   "source": [
    "show_batch(image_batch)"
   ]
  },
  {
   "cell_type": "code",
   "execution_count": 169,
   "metadata": {
    "ExecuteTime": {
     "end_time": "2020-03-17T15:51:33.622428Z",
     "start_time": "2020-03-17T15:51:33.376733Z"
    }
   },
   "outputs": [
    {
     "data": {
      "image/png": "[encoded data removed]",
      "text/plain": [
       "<Figure size 720x720 with 1 Axes>"
      ]
     },
     "metadata": {
      "needs_background": "light"
     },
     "output_type": "display_data"
    }
   ],
   "source": [
    "show_batch(generated)"
   ]
  },
  {
   "cell_type": "code",
   "execution_count": 92,
   "metadata": {
    "ExecuteTime": {
     "end_time": "2020-03-16T21:45:38.107609Z",
     "start_time": "2020-03-16T21:45:38.096836Z"
    }
   },
   "outputs": [
    {
     "data": {
      "text/plain": [
       "TensorShape([1, 64, 64, 3])"
      ]
     },
     "execution_count": 92,
     "metadata": {},
     "output_type": "execute_result"
    }
   ],
   "source": [
    "image_batch.shape"
   ]
  },
  {
   "cell_type": "code",
   "execution_count": null,
   "metadata": {},
   "outputs": [],
   "source": []
  }
 ],
 "metadata": {
  "kernelspec": {
   "display_name": "tf2",
   "language": "python",
   "name": "tf2"
  },
  "language_info": {
   "codemirror_mode": {
    "name": "ipython",
    "version": 3
   },
   "file_extension": ".py",
   "mimetype": "text/x-python",
   "name": "python",
   "nbconvert_exporter": "python",
   "pygments_lexer": "ipython3",
   "version": "3.7.5"
  },
  "toc": {
   "base_numbering": 1,
   "nav_menu": {},
   "number_sections": true,
   "sideBar": true,
   "skip_h1_title": false,
   "title_cell": "Table of Contents",
   "title_sidebar": "Contents",
   "toc_cell": false,
   "toc_position": {},
   "toc_section_display": true,
   "toc_window_display": false
  }
 },
 "nbformat": 4,
 "nbformat_minor": 2
}
