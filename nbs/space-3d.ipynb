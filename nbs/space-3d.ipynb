{
 "cells": [
  {
   "cell_type": "code",
   "execution_count": 1,
   "metadata": {
    "ExecuteTime": {
     "end_time": "2020-03-31T19:47:22.724679Z",
     "start_time": "2020-03-31T19:47:22.707775Z"
    }
   },
   "outputs": [],
   "source": [
    "%load_ext autoreload\n",
    "%autoreload 2"
   ]
  },
  {
   "cell_type": "code",
   "execution_count": 2,
   "metadata": {
    "ExecuteTime": {
     "end_time": "2020-03-31T19:47:23.999713Z",
     "start_time": "2020-03-31T19:47:23.988100Z"
    }
   },
   "outputs": [],
   "source": [
    "import os\n",
    "import sys\n",
    "\n",
    "sys.path.insert(0, '../src')"
   ]
  },
  {
   "cell_type": "code",
   "execution_count": 3,
   "metadata": {
    "ExecuteTime": {
     "end_time": "2020-03-31T19:47:26.350858Z",
     "start_time": "2020-03-31T19:47:24.055370Z"
    }
   },
   "outputs": [
    {
     "name": "stdout",
     "output_type": "stream",
     "text": [
      "cuda\n"
     ]
    }
   ],
   "source": [
    "import torch\n",
    "import torch.nn as nn\n",
    "from torchvision import transforms as T\n",
    "\n",
    "from tqdm.autonotebook import tqdm\n",
    "from torchsummaryX import summary\n",
    "\n",
    "from model import Generator\n",
    "from space_modules import SceneEncoder\n",
    "from data_utils import ImageFilelistMultiscale, show_batch\n",
    "\n",
    "if torch.cuda.is_available():\n",
    "    device = torch.device('cuda')\n",
    "else:\n",
    "    device = torch.device('cpu')\n",
    "print(device)"
   ]
  },
  {
   "cell_type": "code",
   "execution_count": 22,
   "metadata": {
    "ExecuteTime": {
     "end_time": "2020-03-31T20:12:47.034943Z",
     "start_time": "2020-03-31T20:12:45.909762Z"
    }
   },
   "outputs": [],
   "source": [
    "dataset = ImageFilelistMultiscale('/storage1/datasets/CLEVR_v1.0/images/train/', '*.png', resolutions=((64,64), (128, 128)))\n",
    "subset = torch.utils.data.Subset(dataset, list(range(256)))\n",
    "\n",
    "loader = torch.utils.data.DataLoader(\n",
    "    subset,\n",
    "    batch_size=64,\n",
    "    shuffle=True,\n",
    "    pin_memory=True,\n",
    ")\n",
    "batch64, batch128 = next(iter(loader))"
   ]
  },
  {
   "cell_type": "code",
   "execution_count": 43,
   "metadata": {
    "ExecuteTime": {
     "end_time": "2020-03-31T18:44:41.733381Z",
     "start_time": "2020-03-31T18:44:41.569358Z"
    },
    "scrolled": true
   },
   "outputs": [
    {
     "name": "stdout",
     "output_type": "stream",
     "text": [
      "============================================================================================================\n",
      "                                                        Kernel Shape  \\\n",
      "Layer                                                                  \n",
      "0_img_encoder.conv_layers.0.Conv2d_0                   [3, 16, 4, 4]   \n",
      "1_img_encoder.conv_layers.0.GroupNorm_1                         [16]   \n",
      "2_img_encoder.conv_layers.0.CELU_2                                 -   \n",
      "3_img_encoder.conv_layers.1.Conv2d_0                  [16, 32, 4, 4]   \n",
      "4_img_encoder.conv_layers.1.GroupNorm_1                         [32]   \n",
      "5_img_encoder.conv_layers.1.CELU_2                                 -   \n",
      "6_img_encoder.conv_layers.2.Conv2d_0                  [32, 64, 4, 4]   \n",
      "7_img_encoder.conv_layers.2.GroupNorm_1                         [64]   \n",
      "8_img_encoder.conv_layers.2.CELU_2                                 -   \n",
      "9_img_encoder.conv_layers.3.Conv2d_0                 [64, 128, 3, 3]   \n",
      "10_img_encoder.conv_layers.3.GroupNorm_1                       [128]   \n",
      "11_img_encoder.conv_layers.3.CELU_2                                -   \n",
      "12_img_encoder.conv_layers.4.Conv2d_0               [128, 256, 3, 3]   \n",
      "13_img_encoder.conv_layers.4.GroupNorm_1                       [256]   \n",
      "14_img_encoder.conv_layers.4.CELU_2                                -   \n",
      "15_img_encoder.conv_layers.5.Conv2d_0               [256, 128, 1, 1]   \n",
      "16_img_encoder.conv_layers.5.GroupNorm_1                       [128]   \n",
      "17_img_encoder.conv_layers.5.CELU_2                                -   \n",
      "18_img_encoder.res_conn.0.Conv2d_0                  [128, 128, 3, 3]   \n",
      "19_img_encoder.res_conn.0.GroupNorm_1                          [128]   \n",
      "20_img_encoder.res_conn.0.CELU_2                                   -   \n",
      "21_img_encoder.res_conn.1.Conv2d_0                  [128, 128, 3, 3]   \n",
      "22_img_encoder.res_conn.1.GroupNorm_1                          [128]   \n",
      "23_img_encoder.res_conn.1.CELU_2                                   -   \n",
      "24_img_encoder.res_enc.Conv2d_0                     [256, 128, 3, 3]   \n",
      "25_img_encoder.res_enc.GroupNorm_1                             [128]   \n",
      "26_img_encoder.res_enc.CELU_2                                      -   \n",
      "27_bg_encoder.Conv2d_0                               [128, 64, 3, 3]   \n",
      "28_bg_encoder.BatchNorm2d_1                                     [64]   \n",
      "29_bg_encoder.MaxPool2d_2                                          -   \n",
      "30_bg_encoder.ELU_3                                                -   \n",
      "31_bg_encoder.Conv2d_4                                [64, 73, 3, 3]   \n",
      "32_bg_encoder.BatchNorm2d_5                                     [73]   \n",
      "33_bg_encoder.MaxPool2d_6                                          -   \n",
      "34_znet                                               [128, 9, 1, 1]   \n",
      "35_transform_decoder.Linear_scale_center_encoder             [4, 64]   \n",
      "36_transform_decoder.ELU_act                                       -   \n",
      "37_transform_decoder.Bilinear_interaction1              [64, 64, 64]   \n",
      "38_transform_decoder.ELU_act                                       -   \n",
      "39_transform_decoder.interaction2.Bilinear_bili...     [64, 64, 128]   \n",
      "40_transform_decoder.interaction2.Linear_linear            [192, 64]   \n",
      "41_transform_decoder.ELU_act                                       -   \n",
      "42_transform_decoder.Linear_linear                          [64, 64]   \n",
      "43_transform_decoder.ELU_act                                       -   \n",
      "44_transform_decoder.Linear_out_proj                         [64, 9]   \n",
      "\n",
      "                                                        Output Shape  \\\n",
      "Layer                                                                  \n",
      "0_img_encoder.conv_layers.0.Conv2d_0                 [2, 16, 64, 64]   \n",
      "1_img_encoder.conv_layers.0.GroupNorm_1              [2, 16, 64, 64]   \n",
      "2_img_encoder.conv_layers.0.CELU_2                   [2, 16, 64, 64]   \n",
      "3_img_encoder.conv_layers.1.Conv2d_0                 [2, 32, 32, 32]   \n",
      "4_img_encoder.conv_layers.1.GroupNorm_1              [2, 32, 32, 32]   \n",
      "5_img_encoder.conv_layers.1.CELU_2                   [2, 32, 32, 32]   \n",
      "6_img_encoder.conv_layers.2.Conv2d_0                 [2, 64, 16, 16]   \n",
      "7_img_encoder.conv_layers.2.GroupNorm_1              [2, 64, 16, 16]   \n",
      "8_img_encoder.conv_layers.2.CELU_2                   [2, 64, 16, 16]   \n",
      "9_img_encoder.conv_layers.3.Conv2d_0                [2, 128, 16, 16]   \n",
      "10_img_encoder.conv_layers.3.GroupNorm_1            [2, 128, 16, 16]   \n",
      "11_img_encoder.conv_layers.3.CELU_2                 [2, 128, 16, 16]   \n",
      "12_img_encoder.conv_layers.4.Conv2d_0               [2, 256, 16, 16]   \n",
      "13_img_encoder.conv_layers.4.GroupNorm_1            [2, 256, 16, 16]   \n",
      "14_img_encoder.conv_layers.4.CELU_2                 [2, 256, 16, 16]   \n",
      "15_img_encoder.conv_layers.5.Conv2d_0               [2, 128, 16, 16]   \n",
      "16_img_encoder.conv_layers.5.GroupNorm_1            [2, 128, 16, 16]   \n",
      "17_img_encoder.conv_layers.5.CELU_2                 [2, 128, 16, 16]   \n",
      "18_img_encoder.res_conn.0.Conv2d_0                  [2, 128, 16, 16]   \n",
      "19_img_encoder.res_conn.0.GroupNorm_1               [2, 128, 16, 16]   \n",
      "20_img_encoder.res_conn.0.CELU_2                    [2, 128, 16, 16]   \n",
      "21_img_encoder.res_conn.1.Conv2d_0                  [2, 128, 16, 16]   \n",
      "22_img_encoder.res_conn.1.GroupNorm_1               [2, 128, 16, 16]   \n",
      "23_img_encoder.res_conn.1.CELU_2                    [2, 128, 16, 16]   \n",
      "24_img_encoder.res_enc.Conv2d_0                     [2, 128, 16, 16]   \n",
      "25_img_encoder.res_enc.GroupNorm_1                  [2, 128, 16, 16]   \n",
      "26_img_encoder.res_enc.CELU_2                       [2, 128, 16, 16]   \n",
      "27_bg_encoder.Conv2d_0                                 [2, 64, 8, 8]   \n",
      "28_bg_encoder.BatchNorm2d_1                            [2, 64, 8, 8]   \n",
      "29_bg_encoder.MaxPool2d_2                              [2, 64, 4, 4]   \n",
      "30_bg_encoder.ELU_3                                    [2, 64, 4, 4]   \n",
      "31_bg_encoder.Conv2d_4                                 [2, 73, 2, 2]   \n",
      "32_bg_encoder.BatchNorm2d_5                            [2, 73, 2, 2]   \n",
      "33_bg_encoder.MaxPool2d_6                              [2, 73, 1, 1]   \n",
      "34_znet                                               [2, 9, 16, 16]   \n",
      "35_transform_decoder.Linear_scale_center_encoder        [2, 137, 64]   \n",
      "36_transform_decoder.ELU_act                            [2, 137, 64]   \n",
      "37_transform_decoder.Bilinear_interaction1              [2, 137, 64]   \n",
      "38_transform_decoder.ELU_act                            [2, 137, 64]   \n",
      "39_transform_decoder.interaction2.Bilinear_bili...      [2, 137, 64]   \n",
      "40_transform_decoder.interaction2.Linear_linear         [2, 137, 64]   \n",
      "41_transform_decoder.ELU_act                            [2, 137, 64]   \n",
      "42_transform_decoder.Linear_linear                      [2, 137, 64]   \n",
      "43_transform_decoder.ELU_act                            [2, 137, 64]   \n",
      "44_transform_decoder.Linear_out_proj                     [2, 137, 9]   \n",
      "\n",
      "                                                      Params   Mult-Adds  \n",
      "Layer                                                                     \n",
      "0_img_encoder.conv_layers.0.Conv2d_0                   784.0   3.145728M  \n",
      "1_img_encoder.conv_layers.0.GroupNorm_1                 32.0        16.0  \n",
      "2_img_encoder.conv_layers.0.CELU_2                         -           -  \n",
      "3_img_encoder.conv_layers.1.Conv2d_0                  8.224k   8.388608M  \n",
      "4_img_encoder.conv_layers.1.GroupNorm_1                 64.0        32.0  \n",
      "5_img_encoder.conv_layers.1.CELU_2                         -           -  \n",
      "6_img_encoder.conv_layers.2.Conv2d_0                 32.832k   8.388608M  \n",
      "7_img_encoder.conv_layers.2.GroupNorm_1                128.0        64.0  \n",
      "8_img_encoder.conv_layers.2.CELU_2                         -           -  \n",
      "9_img_encoder.conv_layers.3.Conv2d_0                 73.856k  18.874368M  \n",
      "10_img_encoder.conv_layers.3.GroupNorm_1               256.0       128.0  \n",
      "11_img_encoder.conv_layers.3.CELU_2                        -           -  \n",
      "12_img_encoder.conv_layers.4.Conv2d_0               295.168k  75.497472M  \n",
      "13_img_encoder.conv_layers.4.GroupNorm_1               512.0       256.0  \n",
      "14_img_encoder.conv_layers.4.CELU_2                        -           -  \n",
      "15_img_encoder.conv_layers.5.Conv2d_0                32.896k   8.388608M  \n",
      "16_img_encoder.conv_layers.5.GroupNorm_1               256.0       128.0  \n",
      "17_img_encoder.conv_layers.5.CELU_2                        -           -  \n",
      "18_img_encoder.res_conn.0.Conv2d_0                  147.584k  37.748736M  \n",
      "19_img_encoder.res_conn.0.GroupNorm_1                  256.0       128.0  \n",
      "20_img_encoder.res_conn.0.CELU_2                           -           -  \n",
      "21_img_encoder.res_conn.1.Conv2d_0                  147.584k  37.748736M  \n",
      "22_img_encoder.res_conn.1.GroupNorm_1                  256.0       128.0  \n",
      "23_img_encoder.res_conn.1.CELU_2                           -           -  \n",
      "24_img_encoder.res_enc.Conv2d_0                      295.04k  75.497472M  \n",
      "25_img_encoder.res_enc.GroupNorm_1                     256.0       128.0  \n",
      "26_img_encoder.res_enc.CELU_2                              -           -  \n",
      "27_bg_encoder.Conv2d_0                               73.792k   4.718592M  \n",
      "28_bg_encoder.BatchNorm2d_1                            128.0        64.0  \n",
      "29_bg_encoder.MaxPool2d_2                                  -           -  \n",
      "30_bg_encoder.ELU_3                                        -           -  \n",
      "31_bg_encoder.Conv2d_4                               42.121k    168.192k  \n",
      "32_bg_encoder.BatchNorm2d_5                            146.0        73.0  \n",
      "33_bg_encoder.MaxPool2d_6                                  -           -  \n",
      "34_znet                                               1.161k    294.912k  \n",
      "35_transform_decoder.Linear_scale_center_encoder       320.0       256.0  \n",
      "36_transform_decoder.ELU_act                               -           -  \n",
      "37_transform_decoder.Bilinear_interaction1          262.208k    262.144k  \n",
      "38_transform_decoder.ELU_act                               -           -  \n",
      "39_transform_decoder.interaction2.Bilinear_bili...  524.352k    524.288k  \n",
      "40_transform_decoder.interaction2.Linear_linear      12.288k     12.288k  \n",
      "41_transform_decoder.ELU_act                               -           -  \n",
      "42_transform_decoder.Linear_linear                     4.16k      4.096k  \n",
      "43_transform_decoder.ELU_act                               -           -  \n",
      "44_transform_decoder.Linear_out_proj                   585.0       576.0  \n",
      "------------------------------------------------------------------------------------------------------------\n",
      "                           Totals\n",
      "Total params            1.957245M\n",
      "Trainable params        1.957245M\n",
      "Non-trainable params          0.0\n",
      "Mult-Adds             279.664825M\n",
      "============================================================================================================\n"
     ]
    },
    {
     "data": {
      "text/html": [
       "<div>\n",
       "<style scoped>\n",
       "    .dataframe tbody tr th:only-of-type {\n",
       "        vertical-align: middle;\n",
       "    }\n",
       "\n",
       "    .dataframe tbody tr th {\n",
       "        vertical-align: top;\n",
       "    }\n",
       "\n",
       "    .dataframe thead th {\n",
       "        text-align: right;\n",
       "    }\n",
       "</style>\n",
       "<table border=\"1\" class=\"dataframe\">\n",
       "  <thead>\n",
       "    <tr style=\"text-align: right;\">\n",
       "      <th></th>\n",
       "      <th>Kernel Shape</th>\n",
       "      <th>Output Shape</th>\n",
       "      <th>Params</th>\n",
       "      <th>Mult-Adds</th>\n",
       "    </tr>\n",
       "    <tr>\n",
       "      <th>Layer</th>\n",
       "      <th></th>\n",
       "      <th></th>\n",
       "      <th></th>\n",
       "      <th></th>\n",
       "    </tr>\n",
       "  </thead>\n",
       "  <tbody>\n",
       "    <tr>\n",
       "      <td>0_img_encoder.conv_layers.0.Conv2d_0</td>\n",
       "      <td>[3, 16, 4, 4]</td>\n",
       "      <td>[2, 16, 64, 64]</td>\n",
       "      <td>784.0</td>\n",
       "      <td>3145728.0</td>\n",
       "    </tr>\n",
       "    <tr>\n",
       "      <td>1_img_encoder.conv_layers.0.GroupNorm_1</td>\n",
       "      <td>[16]</td>\n",
       "      <td>[2, 16, 64, 64]</td>\n",
       "      <td>32.0</td>\n",
       "      <td>16.0</td>\n",
       "    </tr>\n",
       "    <tr>\n",
       "      <td>2_img_encoder.conv_layers.0.CELU_2</td>\n",
       "      <td>-</td>\n",
       "      <td>[2, 16, 64, 64]</td>\n",
       "      <td>NaN</td>\n",
       "      <td>NaN</td>\n",
       "    </tr>\n",
       "    <tr>\n",
       "      <td>3_img_encoder.conv_layers.1.Conv2d_0</td>\n",
       "      <td>[16, 32, 4, 4]</td>\n",
       "      <td>[2, 32, 32, 32]</td>\n",
       "      <td>8224.0</td>\n",
       "      <td>8388608.0</td>\n",
       "    </tr>\n",
       "    <tr>\n",
       "      <td>4_img_encoder.conv_layers.1.GroupNorm_1</td>\n",
       "      <td>[32]</td>\n",
       "      <td>[2, 32, 32, 32]</td>\n",
       "      <td>64.0</td>\n",
       "      <td>32.0</td>\n",
       "    </tr>\n",
       "    <tr>\n",
       "      <td>5_img_encoder.conv_layers.1.CELU_2</td>\n",
       "      <td>-</td>\n",
       "      <td>[2, 32, 32, 32]</td>\n",
       "      <td>NaN</td>\n",
       "      <td>NaN</td>\n",
       "    </tr>\n",
       "    <tr>\n",
       "      <td>6_img_encoder.conv_layers.2.Conv2d_0</td>\n",
       "      <td>[32, 64, 4, 4]</td>\n",
       "      <td>[2, 64, 16, 16]</td>\n",
       "      <td>32832.0</td>\n",
       "      <td>8388608.0</td>\n",
       "    </tr>\n",
       "    <tr>\n",
       "      <td>7_img_encoder.conv_layers.2.GroupNorm_1</td>\n",
       "      <td>[64]</td>\n",
       "      <td>[2, 64, 16, 16]</td>\n",
       "      <td>128.0</td>\n",
       "      <td>64.0</td>\n",
       "    </tr>\n",
       "    <tr>\n",
       "      <td>8_img_encoder.conv_layers.2.CELU_2</td>\n",
       "      <td>-</td>\n",
       "      <td>[2, 64, 16, 16]</td>\n",
       "      <td>NaN</td>\n",
       "      <td>NaN</td>\n",
       "    </tr>\n",
       "    <tr>\n",
       "      <td>9_img_encoder.conv_layers.3.Conv2d_0</td>\n",
       "      <td>[64, 128, 3, 3]</td>\n",
       "      <td>[2, 128, 16, 16]</td>\n",
       "      <td>73856.0</td>\n",
       "      <td>18874368.0</td>\n",
       "    </tr>\n",
       "    <tr>\n",
       "      <td>10_img_encoder.conv_layers.3.GroupNorm_1</td>\n",
       "      <td>[128]</td>\n",
       "      <td>[2, 128, 16, 16]</td>\n",
       "      <td>256.0</td>\n",
       "      <td>128.0</td>\n",
       "    </tr>\n",
       "    <tr>\n",
       "      <td>11_img_encoder.conv_layers.3.CELU_2</td>\n",
       "      <td>-</td>\n",
       "      <td>[2, 128, 16, 16]</td>\n",
       "      <td>NaN</td>\n",
       "      <td>NaN</td>\n",
       "    </tr>\n",
       "    <tr>\n",
       "      <td>12_img_encoder.conv_layers.4.Conv2d_0</td>\n",
       "      <td>[128, 256, 3, 3]</td>\n",
       "      <td>[2, 256, 16, 16]</td>\n",
       "      <td>295168.0</td>\n",
       "      <td>75497472.0</td>\n",
       "    </tr>\n",
       "    <tr>\n",
       "      <td>13_img_encoder.conv_layers.4.GroupNorm_1</td>\n",
       "      <td>[256]</td>\n",
       "      <td>[2, 256, 16, 16]</td>\n",
       "      <td>512.0</td>\n",
       "      <td>256.0</td>\n",
       "    </tr>\n",
       "    <tr>\n",
       "      <td>14_img_encoder.conv_layers.4.CELU_2</td>\n",
       "      <td>-</td>\n",
       "      <td>[2, 256, 16, 16]</td>\n",
       "      <td>NaN</td>\n",
       "      <td>NaN</td>\n",
       "    </tr>\n",
       "    <tr>\n",
       "      <td>15_img_encoder.conv_layers.5.Conv2d_0</td>\n",
       "      <td>[256, 128, 1, 1]</td>\n",
       "      <td>[2, 128, 16, 16]</td>\n",
       "      <td>32896.0</td>\n",
       "      <td>8388608.0</td>\n",
       "    </tr>\n",
       "    <tr>\n",
       "      <td>16_img_encoder.conv_layers.5.GroupNorm_1</td>\n",
       "      <td>[128]</td>\n",
       "      <td>[2, 128, 16, 16]</td>\n",
       "      <td>256.0</td>\n",
       "      <td>128.0</td>\n",
       "    </tr>\n",
       "    <tr>\n",
       "      <td>17_img_encoder.conv_layers.5.CELU_2</td>\n",
       "      <td>-</td>\n",
       "      <td>[2, 128, 16, 16]</td>\n",
       "      <td>NaN</td>\n",
       "      <td>NaN</td>\n",
       "    </tr>\n",
       "    <tr>\n",
       "      <td>18_img_encoder.res_conn.0.Conv2d_0</td>\n",
       "      <td>[128, 128, 3, 3]</td>\n",
       "      <td>[2, 128, 16, 16]</td>\n",
       "      <td>147584.0</td>\n",
       "      <td>37748736.0</td>\n",
       "    </tr>\n",
       "    <tr>\n",
       "      <td>19_img_encoder.res_conn.0.GroupNorm_1</td>\n",
       "      <td>[128]</td>\n",
       "      <td>[2, 128, 16, 16]</td>\n",
       "      <td>256.0</td>\n",
       "      <td>128.0</td>\n",
       "    </tr>\n",
       "    <tr>\n",
       "      <td>20_img_encoder.res_conn.0.CELU_2</td>\n",
       "      <td>-</td>\n",
       "      <td>[2, 128, 16, 16]</td>\n",
       "      <td>NaN</td>\n",
       "      <td>NaN</td>\n",
       "    </tr>\n",
       "    <tr>\n",
       "      <td>21_img_encoder.res_conn.1.Conv2d_0</td>\n",
       "      <td>[128, 128, 3, 3]</td>\n",
       "      <td>[2, 128, 16, 16]</td>\n",
       "      <td>147584.0</td>\n",
       "      <td>37748736.0</td>\n",
       "    </tr>\n",
       "    <tr>\n",
       "      <td>22_img_encoder.res_conn.1.GroupNorm_1</td>\n",
       "      <td>[128]</td>\n",
       "      <td>[2, 128, 16, 16]</td>\n",
       "      <td>256.0</td>\n",
       "      <td>128.0</td>\n",
       "    </tr>\n",
       "    <tr>\n",
       "      <td>23_img_encoder.res_conn.1.CELU_2</td>\n",
       "      <td>-</td>\n",
       "      <td>[2, 128, 16, 16]</td>\n",
       "      <td>NaN</td>\n",
       "      <td>NaN</td>\n",
       "    </tr>\n",
       "    <tr>\n",
       "      <td>24_img_encoder.res_enc.Conv2d_0</td>\n",
       "      <td>[256, 128, 3, 3]</td>\n",
       "      <td>[2, 128, 16, 16]</td>\n",
       "      <td>295040.0</td>\n",
       "      <td>75497472.0</td>\n",
       "    </tr>\n",
       "    <tr>\n",
       "      <td>25_img_encoder.res_enc.GroupNorm_1</td>\n",
       "      <td>[128]</td>\n",
       "      <td>[2, 128, 16, 16]</td>\n",
       "      <td>256.0</td>\n",
       "      <td>128.0</td>\n",
       "    </tr>\n",
       "    <tr>\n",
       "      <td>26_img_encoder.res_enc.CELU_2</td>\n",
       "      <td>-</td>\n",
       "      <td>[2, 128, 16, 16]</td>\n",
       "      <td>NaN</td>\n",
       "      <td>NaN</td>\n",
       "    </tr>\n",
       "    <tr>\n",
       "      <td>27_bg_encoder.Conv2d_0</td>\n",
       "      <td>[128, 64, 3, 3]</td>\n",
       "      <td>[2, 64, 8, 8]</td>\n",
       "      <td>73792.0</td>\n",
       "      <td>4718592.0</td>\n",
       "    </tr>\n",
       "    <tr>\n",
       "      <td>28_bg_encoder.BatchNorm2d_1</td>\n",
       "      <td>[64]</td>\n",
       "      <td>[2, 64, 8, 8]</td>\n",
       "      <td>128.0</td>\n",
       "      <td>64.0</td>\n",
       "    </tr>\n",
       "    <tr>\n",
       "      <td>29_bg_encoder.MaxPool2d_2</td>\n",
       "      <td>-</td>\n",
       "      <td>[2, 64, 4, 4]</td>\n",
       "      <td>NaN</td>\n",
       "      <td>NaN</td>\n",
       "    </tr>\n",
       "    <tr>\n",
       "      <td>30_bg_encoder.ELU_3</td>\n",
       "      <td>-</td>\n",
       "      <td>[2, 64, 4, 4]</td>\n",
       "      <td>NaN</td>\n",
       "      <td>NaN</td>\n",
       "    </tr>\n",
       "    <tr>\n",
       "      <td>31_bg_encoder.Conv2d_4</td>\n",
       "      <td>[64, 73, 3, 3]</td>\n",
       "      <td>[2, 73, 2, 2]</td>\n",
       "      <td>42121.0</td>\n",
       "      <td>168192.0</td>\n",
       "    </tr>\n",
       "    <tr>\n",
       "      <td>32_bg_encoder.BatchNorm2d_5</td>\n",
       "      <td>[73]</td>\n",
       "      <td>[2, 73, 2, 2]</td>\n",
       "      <td>146.0</td>\n",
       "      <td>73.0</td>\n",
       "    </tr>\n",
       "    <tr>\n",
       "      <td>33_bg_encoder.MaxPool2d_6</td>\n",
       "      <td>-</td>\n",
       "      <td>[2, 73, 1, 1]</td>\n",
       "      <td>NaN</td>\n",
       "      <td>NaN</td>\n",
       "    </tr>\n",
       "    <tr>\n",
       "      <td>34_znet</td>\n",
       "      <td>[128, 9, 1, 1]</td>\n",
       "      <td>[2, 9, 16, 16]</td>\n",
       "      <td>1161.0</td>\n",
       "      <td>294912.0</td>\n",
       "    </tr>\n",
       "    <tr>\n",
       "      <td>35_transform_decoder.Linear_scale_center_encoder</td>\n",
       "      <td>[4, 64]</td>\n",
       "      <td>[2, 137, 64]</td>\n",
       "      <td>320.0</td>\n",
       "      <td>256.0</td>\n",
       "    </tr>\n",
       "    <tr>\n",
       "      <td>36_transform_decoder.ELU_act</td>\n",
       "      <td>-</td>\n",
       "      <td>[2, 137, 64]</td>\n",
       "      <td>NaN</td>\n",
       "      <td>NaN</td>\n",
       "    </tr>\n",
       "    <tr>\n",
       "      <td>37_transform_decoder.Bilinear_interaction1</td>\n",
       "      <td>[64, 64, 64]</td>\n",
       "      <td>[2, 137, 64]</td>\n",
       "      <td>262208.0</td>\n",
       "      <td>262144.0</td>\n",
       "    </tr>\n",
       "    <tr>\n",
       "      <td>38_transform_decoder.ELU_act</td>\n",
       "      <td>-</td>\n",
       "      <td>[2, 137, 64]</td>\n",
       "      <td>NaN</td>\n",
       "      <td>NaN</td>\n",
       "    </tr>\n",
       "    <tr>\n",
       "      <td>39_transform_decoder.interaction2.Bilinear_bilinear</td>\n",
       "      <td>[64, 64, 128]</td>\n",
       "      <td>[2, 137, 64]</td>\n",
       "      <td>524352.0</td>\n",
       "      <td>524288.0</td>\n",
       "    </tr>\n",
       "    <tr>\n",
       "      <td>40_transform_decoder.interaction2.Linear_linear</td>\n",
       "      <td>[192, 64]</td>\n",
       "      <td>[2, 137, 64]</td>\n",
       "      <td>12288.0</td>\n",
       "      <td>12288.0</td>\n",
       "    </tr>\n",
       "    <tr>\n",
       "      <td>41_transform_decoder.ELU_act</td>\n",
       "      <td>-</td>\n",
       "      <td>[2, 137, 64]</td>\n",
       "      <td>NaN</td>\n",
       "      <td>NaN</td>\n",
       "    </tr>\n",
       "    <tr>\n",
       "      <td>42_transform_decoder.Linear_linear</td>\n",
       "      <td>[64, 64]</td>\n",
       "      <td>[2, 137, 64]</td>\n",
       "      <td>4160.0</td>\n",
       "      <td>4096.0</td>\n",
       "    </tr>\n",
       "    <tr>\n",
       "      <td>43_transform_decoder.ELU_act</td>\n",
       "      <td>-</td>\n",
       "      <td>[2, 137, 64]</td>\n",
       "      <td>NaN</td>\n",
       "      <td>NaN</td>\n",
       "    </tr>\n",
       "    <tr>\n",
       "      <td>44_transform_decoder.Linear_out_proj</td>\n",
       "      <td>[64, 9]</td>\n",
       "      <td>[2, 137, 9]</td>\n",
       "      <td>585.0</td>\n",
       "      <td>576.0</td>\n",
       "    </tr>\n",
       "  </tbody>\n",
       "</table>\n",
       "</div>"
      ],
      "text/plain": [
       "                                                        Kernel Shape  \\\n",
       "Layer                                                                  \n",
       "0_img_encoder.conv_layers.0.Conv2d_0                   [3, 16, 4, 4]   \n",
       "1_img_encoder.conv_layers.0.GroupNorm_1                         [16]   \n",
       "2_img_encoder.conv_layers.0.CELU_2                                 -   \n",
       "3_img_encoder.conv_layers.1.Conv2d_0                  [16, 32, 4, 4]   \n",
       "4_img_encoder.conv_layers.1.GroupNorm_1                         [32]   \n",
       "5_img_encoder.conv_layers.1.CELU_2                                 -   \n",
       "6_img_encoder.conv_layers.2.Conv2d_0                  [32, 64, 4, 4]   \n",
       "7_img_encoder.conv_layers.2.GroupNorm_1                         [64]   \n",
       "8_img_encoder.conv_layers.2.CELU_2                                 -   \n",
       "9_img_encoder.conv_layers.3.Conv2d_0                 [64, 128, 3, 3]   \n",
       "10_img_encoder.conv_layers.3.GroupNorm_1                       [128]   \n",
       "11_img_encoder.conv_layers.3.CELU_2                                -   \n",
       "12_img_encoder.conv_layers.4.Conv2d_0               [128, 256, 3, 3]   \n",
       "13_img_encoder.conv_layers.4.GroupNorm_1                       [256]   \n",
       "14_img_encoder.conv_layers.4.CELU_2                                -   \n",
       "15_img_encoder.conv_layers.5.Conv2d_0               [256, 128, 1, 1]   \n",
       "16_img_encoder.conv_layers.5.GroupNorm_1                       [128]   \n",
       "17_img_encoder.conv_layers.5.CELU_2                                -   \n",
       "18_img_encoder.res_conn.0.Conv2d_0                  [128, 128, 3, 3]   \n",
       "19_img_encoder.res_conn.0.GroupNorm_1                          [128]   \n",
       "20_img_encoder.res_conn.0.CELU_2                                   -   \n",
       "21_img_encoder.res_conn.1.Conv2d_0                  [128, 128, 3, 3]   \n",
       "22_img_encoder.res_conn.1.GroupNorm_1                          [128]   \n",
       "23_img_encoder.res_conn.1.CELU_2                                   -   \n",
       "24_img_encoder.res_enc.Conv2d_0                     [256, 128, 3, 3]   \n",
       "25_img_encoder.res_enc.GroupNorm_1                             [128]   \n",
       "26_img_encoder.res_enc.CELU_2                                      -   \n",
       "27_bg_encoder.Conv2d_0                               [128, 64, 3, 3]   \n",
       "28_bg_encoder.BatchNorm2d_1                                     [64]   \n",
       "29_bg_encoder.MaxPool2d_2                                          -   \n",
       "30_bg_encoder.ELU_3                                                -   \n",
       "31_bg_encoder.Conv2d_4                                [64, 73, 3, 3]   \n",
       "32_bg_encoder.BatchNorm2d_5                                     [73]   \n",
       "33_bg_encoder.MaxPool2d_6                                          -   \n",
       "34_znet                                               [128, 9, 1, 1]   \n",
       "35_transform_decoder.Linear_scale_center_encoder             [4, 64]   \n",
       "36_transform_decoder.ELU_act                                       -   \n",
       "37_transform_decoder.Bilinear_interaction1              [64, 64, 64]   \n",
       "38_transform_decoder.ELU_act                                       -   \n",
       "39_transform_decoder.interaction2.Bilinear_bili...     [64, 64, 128]   \n",
       "40_transform_decoder.interaction2.Linear_linear            [192, 64]   \n",
       "41_transform_decoder.ELU_act                                       -   \n",
       "42_transform_decoder.Linear_linear                          [64, 64]   \n",
       "43_transform_decoder.ELU_act                                       -   \n",
       "44_transform_decoder.Linear_out_proj                         [64, 9]   \n",
       "\n",
       "                                                        Output Shape  \\\n",
       "Layer                                                                  \n",
       "0_img_encoder.conv_layers.0.Conv2d_0                 [2, 16, 64, 64]   \n",
       "1_img_encoder.conv_layers.0.GroupNorm_1              [2, 16, 64, 64]   \n",
       "2_img_encoder.conv_layers.0.CELU_2                   [2, 16, 64, 64]   \n",
       "3_img_encoder.conv_layers.1.Conv2d_0                 [2, 32, 32, 32]   \n",
       "4_img_encoder.conv_layers.1.GroupNorm_1              [2, 32, 32, 32]   \n",
       "5_img_encoder.conv_layers.1.CELU_2                   [2, 32, 32, 32]   \n",
       "6_img_encoder.conv_layers.2.Conv2d_0                 [2, 64, 16, 16]   \n",
       "7_img_encoder.conv_layers.2.GroupNorm_1              [2, 64, 16, 16]   \n",
       "8_img_encoder.conv_layers.2.CELU_2                   [2, 64, 16, 16]   \n",
       "9_img_encoder.conv_layers.3.Conv2d_0                [2, 128, 16, 16]   \n",
       "10_img_encoder.conv_layers.3.GroupNorm_1            [2, 128, 16, 16]   \n",
       "11_img_encoder.conv_layers.3.CELU_2                 [2, 128, 16, 16]   \n",
       "12_img_encoder.conv_layers.4.Conv2d_0               [2, 256, 16, 16]   \n",
       "13_img_encoder.conv_layers.4.GroupNorm_1            [2, 256, 16, 16]   \n",
       "14_img_encoder.conv_layers.4.CELU_2                 [2, 256, 16, 16]   \n",
       "15_img_encoder.conv_layers.5.Conv2d_0               [2, 128, 16, 16]   \n",
       "16_img_encoder.conv_layers.5.GroupNorm_1            [2, 128, 16, 16]   \n",
       "17_img_encoder.conv_layers.5.CELU_2                 [2, 128, 16, 16]   \n",
       "18_img_encoder.res_conn.0.Conv2d_0                  [2, 128, 16, 16]   \n",
       "19_img_encoder.res_conn.0.GroupNorm_1               [2, 128, 16, 16]   \n",
       "20_img_encoder.res_conn.0.CELU_2                    [2, 128, 16, 16]   \n",
       "21_img_encoder.res_conn.1.Conv2d_0                  [2, 128, 16, 16]   \n",
       "22_img_encoder.res_conn.1.GroupNorm_1               [2, 128, 16, 16]   \n",
       "23_img_encoder.res_conn.1.CELU_2                    [2, 128, 16, 16]   \n",
       "24_img_encoder.res_enc.Conv2d_0                     [2, 128, 16, 16]   \n",
       "25_img_encoder.res_enc.GroupNorm_1                  [2, 128, 16, 16]   \n",
       "26_img_encoder.res_enc.CELU_2                       [2, 128, 16, 16]   \n",
       "27_bg_encoder.Conv2d_0                                 [2, 64, 8, 8]   \n",
       "28_bg_encoder.BatchNorm2d_1                            [2, 64, 8, 8]   \n",
       "29_bg_encoder.MaxPool2d_2                              [2, 64, 4, 4]   \n",
       "30_bg_encoder.ELU_3                                    [2, 64, 4, 4]   \n",
       "31_bg_encoder.Conv2d_4                                 [2, 73, 2, 2]   \n",
       "32_bg_encoder.BatchNorm2d_5                            [2, 73, 2, 2]   \n",
       "33_bg_encoder.MaxPool2d_6                              [2, 73, 1, 1]   \n",
       "34_znet                                               [2, 9, 16, 16]   \n",
       "35_transform_decoder.Linear_scale_center_encoder        [2, 137, 64]   \n",
       "36_transform_decoder.ELU_act                            [2, 137, 64]   \n",
       "37_transform_decoder.Bilinear_interaction1              [2, 137, 64]   \n",
       "38_transform_decoder.ELU_act                            [2, 137, 64]   \n",
       "39_transform_decoder.interaction2.Bilinear_bili...      [2, 137, 64]   \n",
       "40_transform_decoder.interaction2.Linear_linear         [2, 137, 64]   \n",
       "41_transform_decoder.ELU_act                            [2, 137, 64]   \n",
       "42_transform_decoder.Linear_linear                      [2, 137, 64]   \n",
       "43_transform_decoder.ELU_act                            [2, 137, 64]   \n",
       "44_transform_decoder.Linear_out_proj                     [2, 137, 9]   \n",
       "\n",
       "                                                      Params   Mult-Adds  \n",
       "Layer                                                                     \n",
       "0_img_encoder.conv_layers.0.Conv2d_0                   784.0   3145728.0  \n",
       "1_img_encoder.conv_layers.0.GroupNorm_1                 32.0        16.0  \n",
       "2_img_encoder.conv_layers.0.CELU_2                       NaN         NaN  \n",
       "3_img_encoder.conv_layers.1.Conv2d_0                  8224.0   8388608.0  \n",
       "4_img_encoder.conv_layers.1.GroupNorm_1                 64.0        32.0  \n",
       "5_img_encoder.conv_layers.1.CELU_2                       NaN         NaN  \n",
       "6_img_encoder.conv_layers.2.Conv2d_0                 32832.0   8388608.0  \n",
       "7_img_encoder.conv_layers.2.GroupNorm_1                128.0        64.0  \n",
       "8_img_encoder.conv_layers.2.CELU_2                       NaN         NaN  \n",
       "9_img_encoder.conv_layers.3.Conv2d_0                 73856.0  18874368.0  \n",
       "10_img_encoder.conv_layers.3.GroupNorm_1               256.0       128.0  \n",
       "11_img_encoder.conv_layers.3.CELU_2                      NaN         NaN  \n",
       "12_img_encoder.conv_layers.4.Conv2d_0               295168.0  75497472.0  \n",
       "13_img_encoder.conv_layers.4.GroupNorm_1               512.0       256.0  \n",
       "14_img_encoder.conv_layers.4.CELU_2                      NaN         NaN  \n",
       "15_img_encoder.conv_layers.5.Conv2d_0                32896.0   8388608.0  \n",
       "16_img_encoder.conv_layers.5.GroupNorm_1               256.0       128.0  \n",
       "17_img_encoder.conv_layers.5.CELU_2                      NaN         NaN  \n",
       "18_img_encoder.res_conn.0.Conv2d_0                  147584.0  37748736.0  \n",
       "19_img_encoder.res_conn.0.GroupNorm_1                  256.0       128.0  \n",
       "20_img_encoder.res_conn.0.CELU_2                         NaN         NaN  \n",
       "21_img_encoder.res_conn.1.Conv2d_0                  147584.0  37748736.0  \n",
       "22_img_encoder.res_conn.1.GroupNorm_1                  256.0       128.0  \n",
       "23_img_encoder.res_conn.1.CELU_2                         NaN         NaN  \n",
       "24_img_encoder.res_enc.Conv2d_0                     295040.0  75497472.0  \n",
       "25_img_encoder.res_enc.GroupNorm_1                     256.0       128.0  \n",
       "26_img_encoder.res_enc.CELU_2                            NaN         NaN  \n",
       "27_bg_encoder.Conv2d_0                               73792.0   4718592.0  \n",
       "28_bg_encoder.BatchNorm2d_1                            128.0        64.0  \n",
       "29_bg_encoder.MaxPool2d_2                                NaN         NaN  \n",
       "30_bg_encoder.ELU_3                                      NaN         NaN  \n",
       "31_bg_encoder.Conv2d_4                               42121.0    168192.0  \n",
       "32_bg_encoder.BatchNorm2d_5                            146.0        73.0  \n",
       "33_bg_encoder.MaxPool2d_6                                NaN         NaN  \n",
       "34_znet                                               1161.0    294912.0  \n",
       "35_transform_decoder.Linear_scale_center_encoder       320.0       256.0  \n",
       "36_transform_decoder.ELU_act                             NaN         NaN  \n",
       "37_transform_decoder.Bilinear_interaction1          262208.0    262144.0  \n",
       "38_transform_decoder.ELU_act                             NaN         NaN  \n",
       "39_transform_decoder.interaction2.Bilinear_bili...  524352.0    524288.0  \n",
       "40_transform_decoder.interaction2.Linear_linear      12288.0     12288.0  \n",
       "41_transform_decoder.ELU_act                             NaN         NaN  \n",
       "42_transform_decoder.Linear_linear                    4160.0      4096.0  \n",
       "43_transform_decoder.ELU_act                             NaN         NaN  \n",
       "44_transform_decoder.Linear_out_proj                   585.0       576.0  "
      ]
     },
     "execution_count": 43,
     "metadata": {},
     "output_type": "execute_result"
    }
   ],
   "source": [
    "scene_encoder = SceneEncoder().to(device)\n",
    "summary(scene_encoder, batch)"
   ]
  },
  {
   "cell_type": "code",
   "execution_count": 48,
   "metadata": {
    "ExecuteTime": {
     "end_time": "2020-03-31T18:46:35.140239Z",
     "start_time": "2020-03-31T18:46:35.092436Z"
    }
   },
   "outputs": [
    {
     "name": "stdout",
     "output_type": "stream",
     "text": [
      "dict_keys(['img_feats', 'bg_feats', 'bg_transform_params', 'glimpses_info', 'obj_pres', 'valid_img_feats', 'valid_scale', 'valid_center', 'fg_transform_params'])\n",
      "Background features: torch.Size([2, 64])\n",
      "Background transform params: torch.Size([2, 9])\n",
      "Foreground features: torch.Size([2, 137, 128])\n",
      "Foreground transform params: torch.Size([2, 137, 9])\n"
     ]
    }
   ],
   "source": [
    "encoded_scene = scene_encoder(batch)\n",
    "print(encoded_scene.keys())\n",
    "z_bg = encoded_scene['bg_feats']\n",
    "print('Background features:', z_bg.size())\n",
    "view_in_bg = encoded_scene['bg_transform_params']\n",
    "print('Background transform params:', view_in_bg.size())\n",
    "z_fg = encoded_scene['valid_img_feats']\n",
    "print('Foreground features:', z_fg.size())\n",
    "view_in_fg = encoded_scene['fg_transform_params']\n",
    "print('Foreground transform params:', view_in_fg.size())"
   ]
  },
  {
   "cell_type": "code",
   "execution_count": 51,
   "metadata": {
    "ExecuteTime": {
     "end_time": "2020-03-31T18:47:15.419851Z",
     "start_time": "2020-03-31T18:47:15.288560Z"
    }
   },
   "outputs": [],
   "source": [
    "generator = Generator(z_dim_bg=64, z_dim_fg=128, use_learnable_proj=False, use_inverse_transform=False).to(device)"
   ]
  },
  {
   "cell_type": "code",
   "execution_count": 74,
   "metadata": {
    "ExecuteTime": {
     "end_time": "2020-03-31T19:05:19.182385Z",
     "start_time": "2020-03-31T19:05:19.053139Z"
    }
   },
   "outputs": [
    {
     "name": "stderr",
     "output_type": "stream",
     "text": [
      "/home/samenabar/.venvs/grievous/lib/python3.6/site-packages/torch/nn/functional.py:2764: UserWarning: Default grid_sample and affine_grid behavior has changed to align_corners=False since 1.3.0. Please specify align_corners=True if the old behavior is desired. See the documentation of grid_sample for details.\n",
      "  warnings.warn(\"Default grid_sample and affine_grid behavior has changed \"\n",
      "/home/samenabar/.venvs/grievous/lib/python3.6/site-packages/torch/nn/functional.py:2705: UserWarning: Default grid_sample and affine_grid behavior has changed to align_corners=False since 1.3.0. Please specify align_corners=True if the old behavior is desired. See the documentation of grid_sample for details.\n",
      "  warnings.warn(\"Default grid_sample and affine_grid behavior has changed \"\n"
     ]
    }
   ],
   "source": [
    "generated = generator(z_bg=z_bg, z_fg=z_fg, view_in_bg=view_in_bg, view_in_fg=view_in_fg)"
   ]
  },
  {
   "cell_type": "code",
   "execution_count": 77,
   "metadata": {
    "ExecuteTime": {
     "end_time": "2020-03-31T19:05:30.468344Z",
     "start_time": "2020-03-31T19:05:30.429363Z"
    }
   },
   "outputs": [
    {
     "data": {
      "image/png": "[encoded data removed]",
      "text/plain": [
       "<PIL.Image.Image image mode=RGB size=64x64 at 0x7F7C1787E8D0>"
      ]
     },
     "execution_count": 77,
     "metadata": {},
     "output_type": "execute_result"
    }
   ],
   "source": [
    "T.functional.to_pil_image(generated[0])"
   ]
  },
  {
   "cell_type": "code",
   "execution_count": 80,
   "metadata": {
    "ExecuteTime": {
     "end_time": "2020-03-31T19:08:39.283991Z",
     "start_time": "2020-03-31T19:08:38.720328Z"
    }
   },
   "outputs": [
    {
     "name": "stdout",
     "output_type": "stream",
     "text": [
      "====================================================================================================================\n",
      "                                                         Kernel Shape  \\\n",
      "Layer                                                                   \n",
      "0_bg_generator.adain0.Linear_z_proj                         [64, 512]   \n",
      "1_bg_generator.adain0.ReLU_relu                                     -   \n",
      "2_bg_generator.adain0.InstanceNorm3d_ins_norm                       -   \n",
      "3_bg_generator.LeakyReLU_lrelu                                      -   \n",
      "4_bg_generator.deconvs.ConvTranspose3d_0          [128, 256, 3, 3, 3]   \n",
      "5_bg_generator.adains.0.Linear_z_proj                       [64, 256]   \n",
      "6_bg_generator.adains.0.ReLU_relu                                   -   \n",
      "7_bg_generator.adains.0.InstanceNorm3d_ins_norm                     -   \n",
      "8_bg_generator.LeakyReLU_lrelu                                      -   \n",
      "9_bg_generator.deconvs.ConvTranspose3d_1           [64, 128, 3, 3, 3]   \n",
      "10_bg_generator.adains.1.Linear_z_proj                      [64, 128]   \n",
      "11_bg_generator.adains.1.ReLU_relu                                  -   \n",
      "12_bg_generator.adains.1.InstanceNorm3d_ins_norm                    -   \n",
      "13_bg_generator.LeakyReLU_lrelu                                     -   \n",
      "14_fg_generator.adain0.Linear_z_proj                      [128, 1024]   \n",
      "15_fg_generator.adain0.ReLU_relu                                    -   \n",
      "16_fg_generator.adain0.InstanceNorm3d_ins_norm                      -   \n",
      "17_fg_generator.LeakyReLU_lrelu                                     -   \n",
      "18_fg_generator.deconvs.ConvTranspose3d_0         [128, 512, 3, 3, 3]   \n",
      "19_fg_generator.adains.0.Linear_z_proj                     [128, 256]   \n",
      "20_fg_generator.adains.0.ReLU_relu                                  -   \n",
      "21_fg_generator.adains.0.InstanceNorm3d_ins_norm                    -   \n",
      "22_fg_generator.LeakyReLU_lrelu                                     -   \n",
      "23_fg_generator.deconvs.ConvTranspose3d_1          [64, 128, 3, 3, 3]   \n",
      "24_fg_generator.adains.1.Linear_z_proj                     [128, 128]   \n",
      "25_fg_generator.adains.1.ReLU_relu                                  -   \n",
      "26_fg_generator.adains.1.InstanceNorm3d_ins_norm                    -   \n",
      "27_fg_generator.LeakyReLU_lrelu                                     -   \n",
      "28_proj_conv                                        [1024, 256, 1, 1]   \n",
      "29_lrelu                                                            -   \n",
      "30_deconvs.ConvTranspose2d_0                          [64, 256, 4, 4]   \n",
      "31_inst_norms.0.Linear_z_proj                               [64, 128]   \n",
      "32_inst_norms.0.ReLU_relu                                           -   \n",
      "33_inst_norms.0.InstanceNorm2d_ins_norm                             -   \n",
      "34_lrelu                                                            -   \n",
      "35_deconvs.ConvTranspose2d_1                           [64, 64, 4, 4]   \n",
      "36_inst_norms.1.Linear_z_proj                               [64, 128]   \n",
      "37_inst_norms.1.ReLU_relu                                           -   \n",
      "38_inst_norms.1.InstanceNorm2d_ins_norm                             -   \n",
      "39_lrelu                                                            -   \n",
      "40_out_conv                                             [3, 64, 5, 5]   \n",
      "\n",
      "                                                           Output Shape  \\\n",
      "Layer                                                                     \n",
      "0_bg_generator.adain0.Linear_z_proj                            [2, 512]   \n",
      "1_bg_generator.adain0.ReLU_relu                                [2, 512]   \n",
      "2_bg_generator.adain0.InstanceNorm3d_ins_norm         [2, 256, 4, 4, 4]   \n",
      "3_bg_generator.LeakyReLU_lrelu                        [2, 256, 4, 4, 4]   \n",
      "4_bg_generator.deconvs.ConvTranspose3d_0              [2, 128, 8, 8, 8]   \n",
      "5_bg_generator.adains.0.Linear_z_proj                          [2, 256]   \n",
      "6_bg_generator.adains.0.ReLU_relu                              [2, 256]   \n",
      "7_bg_generator.adains.0.InstanceNorm3d_ins_norm       [2, 128, 8, 8, 8]   \n",
      "8_bg_generator.LeakyReLU_lrelu                        [2, 128, 8, 8, 8]   \n",
      "9_bg_generator.deconvs.ConvTranspose3d_1            [2, 64, 16, 16, 16]   \n",
      "10_bg_generator.adains.1.Linear_z_proj                         [2, 128]   \n",
      "11_bg_generator.adains.1.ReLU_relu                             [2, 128]   \n",
      "12_bg_generator.adains.1.InstanceNorm3d_ins_norm    [2, 64, 16, 16, 16]   \n",
      "13_bg_generator.LeakyReLU_lrelu                     [2, 64, 16, 16, 16]   \n",
      "14_fg_generator.adain0.Linear_z_proj                        [274, 1024]   \n",
      "15_fg_generator.adain0.ReLU_relu                            [274, 1024]   \n",
      "16_fg_generator.adain0.InstanceNorm3d_ins_norm      [274, 512, 4, 4, 4]   \n",
      "17_fg_generator.LeakyReLU_lrelu                     [274, 512, 4, 4, 4]   \n",
      "18_fg_generator.deconvs.ConvTranspose3d_0           [274, 128, 8, 8, 8]   \n",
      "19_fg_generator.adains.0.Linear_z_proj                       [274, 256]   \n",
      "20_fg_generator.adains.0.ReLU_relu                           [274, 256]   \n",
      "21_fg_generator.adains.0.InstanceNorm3d_ins_norm    [274, 128, 8, 8, 8]   \n",
      "22_fg_generator.LeakyReLU_lrelu                     [274, 128, 8, 8, 8]   \n",
      "23_fg_generator.deconvs.ConvTranspose3d_1         [274, 64, 16, 16, 16]   \n",
      "24_fg_generator.adains.1.Linear_z_proj                       [274, 128]   \n",
      "25_fg_generator.adains.1.ReLU_relu                           [274, 128]   \n",
      "26_fg_generator.adains.1.InstanceNorm3d_ins_norm  [274, 64, 16, 16, 16]   \n",
      "27_fg_generator.LeakyReLU_lrelu                   [274, 64, 16, 16, 16]   \n",
      "28_proj_conv                                           [2, 256, 16, 16]   \n",
      "29_lrelu                                               [2, 256, 16, 16]   \n",
      "30_deconvs.ConvTranspose2d_0                            [2, 64, 32, 32]   \n",
      "31_inst_norms.0.Linear_z_proj                                  [2, 128]   \n",
      "32_inst_norms.0.ReLU_relu                                      [2, 128]   \n",
      "33_inst_norms.0.InstanceNorm2d_ins_norm                 [2, 64, 32, 32]   \n",
      "34_lrelu                                                [2, 64, 32, 32]   \n",
      "35_deconvs.ConvTranspose2d_1                            [2, 64, 64, 64]   \n",
      "36_inst_norms.1.Linear_z_proj                                  [2, 128]   \n",
      "37_inst_norms.1.ReLU_relu                                      [2, 128]   \n",
      "38_inst_norms.1.InstanceNorm2d_ins_norm                 [2, 64, 64, 64]   \n",
      "39_lrelu                                                [2, 64, 64, 64]   \n",
      "40_out_conv                                              [2, 3, 64, 64]   \n",
      "\n",
      "                                                    Params    Mult-Adds  \n",
      "Layer                                                                    \n",
      "0_bg_generator.adain0.Linear_z_proj                 33.28k      32.768k  \n",
      "1_bg_generator.adain0.ReLU_relu                          -            -  \n",
      "2_bg_generator.adain0.InstanceNorm3d_ins_norm            -            -  \n",
      "3_bg_generator.LeakyReLU_lrelu                           -            -  \n",
      "4_bg_generator.deconvs.ConvTranspose3d_0          884.864k  452.984832M  \n",
      "5_bg_generator.adains.0.Linear_z_proj               16.64k      16.384k  \n",
      "6_bg_generator.adains.0.ReLU_relu                        -            -  \n",
      "7_bg_generator.adains.0.InstanceNorm3d_ins_norm          -            -  \n",
      "8_bg_generator.LeakyReLU_lrelu                           -            -  \n",
      "9_bg_generator.deconvs.ConvTranspose3d_1          221.248k  905.969664M  \n",
      "10_bg_generator.adains.1.Linear_z_proj               8.32k       8.192k  \n",
      "11_bg_generator.adains.1.ReLU_relu                       -            -  \n",
      "12_bg_generator.adains.1.InstanceNorm3d_ins_norm         -            -  \n",
      "13_bg_generator.LeakyReLU_lrelu                          -            -  \n",
      "14_fg_generator.adain0.Linear_z_proj              132.096k     131.072k  \n",
      "15_fg_generator.adain0.ReLU_relu                         -            -  \n",
      "16_fg_generator.adain0.InstanceNorm3d_ins_norm           -            -  \n",
      "17_fg_generator.LeakyReLU_lrelu                          -            -  \n",
      "18_fg_generator.deconvs.ConvTranspose3d_0          1.7696M  905.969664M  \n",
      "19_fg_generator.adains.0.Linear_z_proj             33.024k      32.768k  \n",
      "20_fg_generator.adains.0.ReLU_relu                       -            -  \n",
      "21_fg_generator.adains.0.InstanceNorm3d_ins_norm         -            -  \n",
      "22_fg_generator.LeakyReLU_lrelu                          -            -  \n",
      "23_fg_generator.deconvs.ConvTranspose3d_1         221.248k  905.969664M  \n",
      "24_fg_generator.adains.1.Linear_z_proj             16.512k      16.384k  \n",
      "25_fg_generator.adains.1.ReLU_relu                       -            -  \n",
      "26_fg_generator.adains.1.InstanceNorm3d_ins_norm         -            -  \n",
      "27_fg_generator.LeakyReLU_lrelu                          -            -  \n",
      "28_proj_conv                                        262.4k   67.108864M  \n",
      "29_lrelu                                                 -            -  \n",
      "30_deconvs.ConvTranspose2d_0                      262.208k  268.435456M  \n",
      "31_inst_norms.0.Linear_z_proj                        8.32k       8.192k  \n",
      "32_inst_norms.0.ReLU_relu                                -            -  \n",
      "33_inst_norms.0.InstanceNorm2d_ins_norm                  -            -  \n",
      "34_lrelu                                                 -            -  \n",
      "35_deconvs.ConvTranspose2d_1                         65.6k  268.435456M  \n",
      "36_inst_norms.1.Linear_z_proj                        8.32k       8.192k  \n",
      "37_inst_norms.1.ReLU_relu                                -            -  \n",
      "38_inst_norms.1.InstanceNorm2d_ins_norm                  -            -  \n",
      "39_lrelu                                                 -            -  \n",
      "40_out_conv                                         4.803k     19.6608M  \n",
      "--------------------------------------------------------------------------------------------------------------------\n",
      "                            Totals\n",
      "Total params             3.948483M\n",
      "Trainable params         3.948483M\n",
      "Non-trainable params           0.0\n",
      "Mult-Adds             3.794788352G\n",
      "====================================================================================================================\n"
     ]
    },
    {
     "data": {
      "text/html": [
       "<div>\n",
       "<style scoped>\n",
       "    .dataframe tbody tr th:only-of-type {\n",
       "        vertical-align: middle;\n",
       "    }\n",
       "\n",
       "    .dataframe tbody tr th {\n",
       "        vertical-align: top;\n",
       "    }\n",
       "\n",
       "    .dataframe thead th {\n",
       "        text-align: right;\n",
       "    }\n",
       "</style>\n",
       "<table border=\"1\" class=\"dataframe\">\n",
       "  <thead>\n",
       "    <tr style=\"text-align: right;\">\n",
       "      <th></th>\n",
       "      <th>Kernel Shape</th>\n",
       "      <th>Output Shape</th>\n",
       "      <th>Params</th>\n",
       "      <th>Mult-Adds</th>\n",
       "    </tr>\n",
       "    <tr>\n",
       "      <th>Layer</th>\n",
       "      <th></th>\n",
       "      <th></th>\n",
       "      <th></th>\n",
       "      <th></th>\n",
       "    </tr>\n",
       "  </thead>\n",
       "  <tbody>\n",
       "    <tr>\n",
       "      <td>0_bg_generator.adain0.Linear_z_proj</td>\n",
       "      <td>[64, 512]</td>\n",
       "      <td>[2, 512]</td>\n",
       "      <td>33280.0</td>\n",
       "      <td>32768.0</td>\n",
       "    </tr>\n",
       "    <tr>\n",
       "      <td>1_bg_generator.adain0.ReLU_relu</td>\n",
       "      <td>-</td>\n",
       "      <td>[2, 512]</td>\n",
       "      <td>NaN</td>\n",
       "      <td>NaN</td>\n",
       "    </tr>\n",
       "    <tr>\n",
       "      <td>2_bg_generator.adain0.InstanceNorm3d_ins_norm</td>\n",
       "      <td>-</td>\n",
       "      <td>[2, 256, 4, 4, 4]</td>\n",
       "      <td>NaN</td>\n",
       "      <td>NaN</td>\n",
       "    </tr>\n",
       "    <tr>\n",
       "      <td>3_bg_generator.LeakyReLU_lrelu</td>\n",
       "      <td>-</td>\n",
       "      <td>[2, 256, 4, 4, 4]</td>\n",
       "      <td>NaN</td>\n",
       "      <td>NaN</td>\n",
       "    </tr>\n",
       "    <tr>\n",
       "      <td>4_bg_generator.deconvs.ConvTranspose3d_0</td>\n",
       "      <td>[128, 256, 3, 3, 3]</td>\n",
       "      <td>[2, 128, 8, 8, 8]</td>\n",
       "      <td>884864.0</td>\n",
       "      <td>452984832.0</td>\n",
       "    </tr>\n",
       "    <tr>\n",
       "      <td>5_bg_generator.adains.0.Linear_z_proj</td>\n",
       "      <td>[64, 256]</td>\n",
       "      <td>[2, 256]</td>\n",
       "      <td>16640.0</td>\n",
       "      <td>16384.0</td>\n",
       "    </tr>\n",
       "    <tr>\n",
       "      <td>6_bg_generator.adains.0.ReLU_relu</td>\n",
       "      <td>-</td>\n",
       "      <td>[2, 256]</td>\n",
       "      <td>NaN</td>\n",
       "      <td>NaN</td>\n",
       "    </tr>\n",
       "    <tr>\n",
       "      <td>7_bg_generator.adains.0.InstanceNorm3d_ins_norm</td>\n",
       "      <td>-</td>\n",
       "      <td>[2, 128, 8, 8, 8]</td>\n",
       "      <td>NaN</td>\n",
       "      <td>NaN</td>\n",
       "    </tr>\n",
       "    <tr>\n",
       "      <td>8_bg_generator.LeakyReLU_lrelu</td>\n",
       "      <td>-</td>\n",
       "      <td>[2, 128, 8, 8, 8]</td>\n",
       "      <td>NaN</td>\n",
       "      <td>NaN</td>\n",
       "    </tr>\n",
       "    <tr>\n",
       "      <td>9_bg_generator.deconvs.ConvTranspose3d_1</td>\n",
       "      <td>[64, 128, 3, 3, 3]</td>\n",
       "      <td>[2, 64, 16, 16, 16]</td>\n",
       "      <td>221248.0</td>\n",
       "      <td>905969664.0</td>\n",
       "    </tr>\n",
       "    <tr>\n",
       "      <td>10_bg_generator.adains.1.Linear_z_proj</td>\n",
       "      <td>[64, 128]</td>\n",
       "      <td>[2, 128]</td>\n",
       "      <td>8320.0</td>\n",
       "      <td>8192.0</td>\n",
       "    </tr>\n",
       "    <tr>\n",
       "      <td>11_bg_generator.adains.1.ReLU_relu</td>\n",
       "      <td>-</td>\n",
       "      <td>[2, 128]</td>\n",
       "      <td>NaN</td>\n",
       "      <td>NaN</td>\n",
       "    </tr>\n",
       "    <tr>\n",
       "      <td>12_bg_generator.adains.1.InstanceNorm3d_ins_norm</td>\n",
       "      <td>-</td>\n",
       "      <td>[2, 64, 16, 16, 16]</td>\n",
       "      <td>NaN</td>\n",
       "      <td>NaN</td>\n",
       "    </tr>\n",
       "    <tr>\n",
       "      <td>13_bg_generator.LeakyReLU_lrelu</td>\n",
       "      <td>-</td>\n",
       "      <td>[2, 64, 16, 16, 16]</td>\n",
       "      <td>NaN</td>\n",
       "      <td>NaN</td>\n",
       "    </tr>\n",
       "    <tr>\n",
       "      <td>14_fg_generator.adain0.Linear_z_proj</td>\n",
       "      <td>[128, 1024]</td>\n",
       "      <td>[274, 1024]</td>\n",
       "      <td>132096.0</td>\n",
       "      <td>131072.0</td>\n",
       "    </tr>\n",
       "    <tr>\n",
       "      <td>15_fg_generator.adain0.ReLU_relu</td>\n",
       "      <td>-</td>\n",
       "      <td>[274, 1024]</td>\n",
       "      <td>NaN</td>\n",
       "      <td>NaN</td>\n",
       "    </tr>\n",
       "    <tr>\n",
       "      <td>16_fg_generator.adain0.InstanceNorm3d_ins_norm</td>\n",
       "      <td>-</td>\n",
       "      <td>[274, 512, 4, 4, 4]</td>\n",
       "      <td>NaN</td>\n",
       "      <td>NaN</td>\n",
       "    </tr>\n",
       "    <tr>\n",
       "      <td>17_fg_generator.LeakyReLU_lrelu</td>\n",
       "      <td>-</td>\n",
       "      <td>[274, 512, 4, 4, 4]</td>\n",
       "      <td>NaN</td>\n",
       "      <td>NaN</td>\n",
       "    </tr>\n",
       "    <tr>\n",
       "      <td>18_fg_generator.deconvs.ConvTranspose3d_0</td>\n",
       "      <td>[128, 512, 3, 3, 3]</td>\n",
       "      <td>[274, 128, 8, 8, 8]</td>\n",
       "      <td>1769600.0</td>\n",
       "      <td>905969664.0</td>\n",
       "    </tr>\n",
       "    <tr>\n",
       "      <td>19_fg_generator.adains.0.Linear_z_proj</td>\n",
       "      <td>[128, 256]</td>\n",
       "      <td>[274, 256]</td>\n",
       "      <td>33024.0</td>\n",
       "      <td>32768.0</td>\n",
       "    </tr>\n",
       "    <tr>\n",
       "      <td>20_fg_generator.adains.0.ReLU_relu</td>\n",
       "      <td>-</td>\n",
       "      <td>[274, 256]</td>\n",
       "      <td>NaN</td>\n",
       "      <td>NaN</td>\n",
       "    </tr>\n",
       "    <tr>\n",
       "      <td>21_fg_generator.adains.0.InstanceNorm3d_ins_norm</td>\n",
       "      <td>-</td>\n",
       "      <td>[274, 128, 8, 8, 8]</td>\n",
       "      <td>NaN</td>\n",
       "      <td>NaN</td>\n",
       "    </tr>\n",
       "    <tr>\n",
       "      <td>22_fg_generator.LeakyReLU_lrelu</td>\n",
       "      <td>-</td>\n",
       "      <td>[274, 128, 8, 8, 8]</td>\n",
       "      <td>NaN</td>\n",
       "      <td>NaN</td>\n",
       "    </tr>\n",
       "    <tr>\n",
       "      <td>23_fg_generator.deconvs.ConvTranspose3d_1</td>\n",
       "      <td>[64, 128, 3, 3, 3]</td>\n",
       "      <td>[274, 64, 16, 16, 16]</td>\n",
       "      <td>221248.0</td>\n",
       "      <td>905969664.0</td>\n",
       "    </tr>\n",
       "    <tr>\n",
       "      <td>24_fg_generator.adains.1.Linear_z_proj</td>\n",
       "      <td>[128, 128]</td>\n",
       "      <td>[274, 128]</td>\n",
       "      <td>16512.0</td>\n",
       "      <td>16384.0</td>\n",
       "    </tr>\n",
       "    <tr>\n",
       "      <td>25_fg_generator.adains.1.ReLU_relu</td>\n",
       "      <td>-</td>\n",
       "      <td>[274, 128]</td>\n",
       "      <td>NaN</td>\n",
       "      <td>NaN</td>\n",
       "    </tr>\n",
       "    <tr>\n",
       "      <td>26_fg_generator.adains.1.InstanceNorm3d_ins_norm</td>\n",
       "      <td>-</td>\n",
       "      <td>[274, 64, 16, 16, 16]</td>\n",
       "      <td>NaN</td>\n",
       "      <td>NaN</td>\n",
       "    </tr>\n",
       "    <tr>\n",
       "      <td>27_fg_generator.LeakyReLU_lrelu</td>\n",
       "      <td>-</td>\n",
       "      <td>[274, 64, 16, 16, 16]</td>\n",
       "      <td>NaN</td>\n",
       "      <td>NaN</td>\n",
       "    </tr>\n",
       "    <tr>\n",
       "      <td>28_proj_conv</td>\n",
       "      <td>[1024, 256, 1, 1]</td>\n",
       "      <td>[2, 256, 16, 16]</td>\n",
       "      <td>262400.0</td>\n",
       "      <td>67108864.0</td>\n",
       "    </tr>\n",
       "    <tr>\n",
       "      <td>29_lrelu</td>\n",
       "      <td>-</td>\n",
       "      <td>[2, 256, 16, 16]</td>\n",
       "      <td>NaN</td>\n",
       "      <td>NaN</td>\n",
       "    </tr>\n",
       "    <tr>\n",
       "      <td>30_deconvs.ConvTranspose2d_0</td>\n",
       "      <td>[64, 256, 4, 4]</td>\n",
       "      <td>[2, 64, 32, 32]</td>\n",
       "      <td>262208.0</td>\n",
       "      <td>268435456.0</td>\n",
       "    </tr>\n",
       "    <tr>\n",
       "      <td>31_inst_norms.0.Linear_z_proj</td>\n",
       "      <td>[64, 128]</td>\n",
       "      <td>[2, 128]</td>\n",
       "      <td>8320.0</td>\n",
       "      <td>8192.0</td>\n",
       "    </tr>\n",
       "    <tr>\n",
       "      <td>32_inst_norms.0.ReLU_relu</td>\n",
       "      <td>-</td>\n",
       "      <td>[2, 128]</td>\n",
       "      <td>NaN</td>\n",
       "      <td>NaN</td>\n",
       "    </tr>\n",
       "    <tr>\n",
       "      <td>33_inst_norms.0.InstanceNorm2d_ins_norm</td>\n",
       "      <td>-</td>\n",
       "      <td>[2, 64, 32, 32]</td>\n",
       "      <td>NaN</td>\n",
       "      <td>NaN</td>\n",
       "    </tr>\n",
       "    <tr>\n",
       "      <td>34_lrelu</td>\n",
       "      <td>-</td>\n",
       "      <td>[2, 64, 32, 32]</td>\n",
       "      <td>NaN</td>\n",
       "      <td>NaN</td>\n",
       "    </tr>\n",
       "    <tr>\n",
       "      <td>35_deconvs.ConvTranspose2d_1</td>\n",
       "      <td>[64, 64, 4, 4]</td>\n",
       "      <td>[2, 64, 64, 64]</td>\n",
       "      <td>65600.0</td>\n",
       "      <td>268435456.0</td>\n",
       "    </tr>\n",
       "    <tr>\n",
       "      <td>36_inst_norms.1.Linear_z_proj</td>\n",
       "      <td>[64, 128]</td>\n",
       "      <td>[2, 128]</td>\n",
       "      <td>8320.0</td>\n",
       "      <td>8192.0</td>\n",
       "    </tr>\n",
       "    <tr>\n",
       "      <td>37_inst_norms.1.ReLU_relu</td>\n",
       "      <td>-</td>\n",
       "      <td>[2, 128]</td>\n",
       "      <td>NaN</td>\n",
       "      <td>NaN</td>\n",
       "    </tr>\n",
       "    <tr>\n",
       "      <td>38_inst_norms.1.InstanceNorm2d_ins_norm</td>\n",
       "      <td>-</td>\n",
       "      <td>[2, 64, 64, 64]</td>\n",
       "      <td>NaN</td>\n",
       "      <td>NaN</td>\n",
       "    </tr>\n",
       "    <tr>\n",
       "      <td>39_lrelu</td>\n",
       "      <td>-</td>\n",
       "      <td>[2, 64, 64, 64]</td>\n",
       "      <td>NaN</td>\n",
       "      <td>NaN</td>\n",
       "    </tr>\n",
       "    <tr>\n",
       "      <td>40_out_conv</td>\n",
       "      <td>[3, 64, 5, 5]</td>\n",
       "      <td>[2, 3, 64, 64]</td>\n",
       "      <td>4803.0</td>\n",
       "      <td>19660800.0</td>\n",
       "    </tr>\n",
       "  </tbody>\n",
       "</table>\n",
       "</div>"
      ],
      "text/plain": [
       "                                                         Kernel Shape  \\\n",
       "Layer                                                                   \n",
       "0_bg_generator.adain0.Linear_z_proj                         [64, 512]   \n",
       "1_bg_generator.adain0.ReLU_relu                                     -   \n",
       "2_bg_generator.adain0.InstanceNorm3d_ins_norm                       -   \n",
       "3_bg_generator.LeakyReLU_lrelu                                      -   \n",
       "4_bg_generator.deconvs.ConvTranspose3d_0          [128, 256, 3, 3, 3]   \n",
       "5_bg_generator.adains.0.Linear_z_proj                       [64, 256]   \n",
       "6_bg_generator.adains.0.ReLU_relu                                   -   \n",
       "7_bg_generator.adains.0.InstanceNorm3d_ins_norm                     -   \n",
       "8_bg_generator.LeakyReLU_lrelu                                      -   \n",
       "9_bg_generator.deconvs.ConvTranspose3d_1           [64, 128, 3, 3, 3]   \n",
       "10_bg_generator.adains.1.Linear_z_proj                      [64, 128]   \n",
       "11_bg_generator.adains.1.ReLU_relu                                  -   \n",
       "12_bg_generator.adains.1.InstanceNorm3d_ins_norm                    -   \n",
       "13_bg_generator.LeakyReLU_lrelu                                     -   \n",
       "14_fg_generator.adain0.Linear_z_proj                      [128, 1024]   \n",
       "15_fg_generator.adain0.ReLU_relu                                    -   \n",
       "16_fg_generator.adain0.InstanceNorm3d_ins_norm                      -   \n",
       "17_fg_generator.LeakyReLU_lrelu                                     -   \n",
       "18_fg_generator.deconvs.ConvTranspose3d_0         [128, 512, 3, 3, 3]   \n",
       "19_fg_generator.adains.0.Linear_z_proj                     [128, 256]   \n",
       "20_fg_generator.adains.0.ReLU_relu                                  -   \n",
       "21_fg_generator.adains.0.InstanceNorm3d_ins_norm                    -   \n",
       "22_fg_generator.LeakyReLU_lrelu                                     -   \n",
       "23_fg_generator.deconvs.ConvTranspose3d_1          [64, 128, 3, 3, 3]   \n",
       "24_fg_generator.adains.1.Linear_z_proj                     [128, 128]   \n",
       "25_fg_generator.adains.1.ReLU_relu                                  -   \n",
       "26_fg_generator.adains.1.InstanceNorm3d_ins_norm                    -   \n",
       "27_fg_generator.LeakyReLU_lrelu                                     -   \n",
       "28_proj_conv                                        [1024, 256, 1, 1]   \n",
       "29_lrelu                                                            -   \n",
       "30_deconvs.ConvTranspose2d_0                          [64, 256, 4, 4]   \n",
       "31_inst_norms.0.Linear_z_proj                               [64, 128]   \n",
       "32_inst_norms.0.ReLU_relu                                           -   \n",
       "33_inst_norms.0.InstanceNorm2d_ins_norm                             -   \n",
       "34_lrelu                                                            -   \n",
       "35_deconvs.ConvTranspose2d_1                           [64, 64, 4, 4]   \n",
       "36_inst_norms.1.Linear_z_proj                               [64, 128]   \n",
       "37_inst_norms.1.ReLU_relu                                           -   \n",
       "38_inst_norms.1.InstanceNorm2d_ins_norm                             -   \n",
       "39_lrelu                                                            -   \n",
       "40_out_conv                                             [3, 64, 5, 5]   \n",
       "\n",
       "                                                           Output Shape  \\\n",
       "Layer                                                                     \n",
       "0_bg_generator.adain0.Linear_z_proj                            [2, 512]   \n",
       "1_bg_generator.adain0.ReLU_relu                                [2, 512]   \n",
       "2_bg_generator.adain0.InstanceNorm3d_ins_norm         [2, 256, 4, 4, 4]   \n",
       "3_bg_generator.LeakyReLU_lrelu                        [2, 256, 4, 4, 4]   \n",
       "4_bg_generator.deconvs.ConvTranspose3d_0              [2, 128, 8, 8, 8]   \n",
       "5_bg_generator.adains.0.Linear_z_proj                          [2, 256]   \n",
       "6_bg_generator.adains.0.ReLU_relu                              [2, 256]   \n",
       "7_bg_generator.adains.0.InstanceNorm3d_ins_norm       [2, 128, 8, 8, 8]   \n",
       "8_bg_generator.LeakyReLU_lrelu                        [2, 128, 8, 8, 8]   \n",
       "9_bg_generator.deconvs.ConvTranspose3d_1            [2, 64, 16, 16, 16]   \n",
       "10_bg_generator.adains.1.Linear_z_proj                         [2, 128]   \n",
       "11_bg_generator.adains.1.ReLU_relu                             [2, 128]   \n",
       "12_bg_generator.adains.1.InstanceNorm3d_ins_norm    [2, 64, 16, 16, 16]   \n",
       "13_bg_generator.LeakyReLU_lrelu                     [2, 64, 16, 16, 16]   \n",
       "14_fg_generator.adain0.Linear_z_proj                        [274, 1024]   \n",
       "15_fg_generator.adain0.ReLU_relu                            [274, 1024]   \n",
       "16_fg_generator.adain0.InstanceNorm3d_ins_norm      [274, 512, 4, 4, 4]   \n",
       "17_fg_generator.LeakyReLU_lrelu                     [274, 512, 4, 4, 4]   \n",
       "18_fg_generator.deconvs.ConvTranspose3d_0           [274, 128, 8, 8, 8]   \n",
       "19_fg_generator.adains.0.Linear_z_proj                       [274, 256]   \n",
       "20_fg_generator.adains.0.ReLU_relu                           [274, 256]   \n",
       "21_fg_generator.adains.0.InstanceNorm3d_ins_norm    [274, 128, 8, 8, 8]   \n",
       "22_fg_generator.LeakyReLU_lrelu                     [274, 128, 8, 8, 8]   \n",
       "23_fg_generator.deconvs.ConvTranspose3d_1         [274, 64, 16, 16, 16]   \n",
       "24_fg_generator.adains.1.Linear_z_proj                       [274, 128]   \n",
       "25_fg_generator.adains.1.ReLU_relu                           [274, 128]   \n",
       "26_fg_generator.adains.1.InstanceNorm3d_ins_norm  [274, 64, 16, 16, 16]   \n",
       "27_fg_generator.LeakyReLU_lrelu                   [274, 64, 16, 16, 16]   \n",
       "28_proj_conv                                           [2, 256, 16, 16]   \n",
       "29_lrelu                                               [2, 256, 16, 16]   \n",
       "30_deconvs.ConvTranspose2d_0                            [2, 64, 32, 32]   \n",
       "31_inst_norms.0.Linear_z_proj                                  [2, 128]   \n",
       "32_inst_norms.0.ReLU_relu                                      [2, 128]   \n",
       "33_inst_norms.0.InstanceNorm2d_ins_norm                 [2, 64, 32, 32]   \n",
       "34_lrelu                                                [2, 64, 32, 32]   \n",
       "35_deconvs.ConvTranspose2d_1                            [2, 64, 64, 64]   \n",
       "36_inst_norms.1.Linear_z_proj                                  [2, 128]   \n",
       "37_inst_norms.1.ReLU_relu                                      [2, 128]   \n",
       "38_inst_norms.1.InstanceNorm2d_ins_norm                 [2, 64, 64, 64]   \n",
       "39_lrelu                                                [2, 64, 64, 64]   \n",
       "40_out_conv                                              [2, 3, 64, 64]   \n",
       "\n",
       "                                                     Params    Mult-Adds  \n",
       "Layer                                                                     \n",
       "0_bg_generator.adain0.Linear_z_proj                 33280.0      32768.0  \n",
       "1_bg_generator.adain0.ReLU_relu                         NaN          NaN  \n",
       "2_bg_generator.adain0.InstanceNorm3d_ins_norm           NaN          NaN  \n",
       "3_bg_generator.LeakyReLU_lrelu                          NaN          NaN  \n",
       "4_bg_generator.deconvs.ConvTranspose3d_0           884864.0  452984832.0  \n",
       "5_bg_generator.adains.0.Linear_z_proj               16640.0      16384.0  \n",
       "6_bg_generator.adains.0.ReLU_relu                       NaN          NaN  \n",
       "7_bg_generator.adains.0.InstanceNorm3d_ins_norm         NaN          NaN  \n",
       "8_bg_generator.LeakyReLU_lrelu                          NaN          NaN  \n",
       "9_bg_generator.deconvs.ConvTranspose3d_1           221248.0  905969664.0  \n",
       "10_bg_generator.adains.1.Linear_z_proj               8320.0       8192.0  \n",
       "11_bg_generator.adains.1.ReLU_relu                      NaN          NaN  \n",
       "12_bg_generator.adains.1.InstanceNorm3d_ins_norm        NaN          NaN  \n",
       "13_bg_generator.LeakyReLU_lrelu                         NaN          NaN  \n",
       "14_fg_generator.adain0.Linear_z_proj               132096.0     131072.0  \n",
       "15_fg_generator.adain0.ReLU_relu                        NaN          NaN  \n",
       "16_fg_generator.adain0.InstanceNorm3d_ins_norm          NaN          NaN  \n",
       "17_fg_generator.LeakyReLU_lrelu                         NaN          NaN  \n",
       "18_fg_generator.deconvs.ConvTranspose3d_0         1769600.0  905969664.0  \n",
       "19_fg_generator.adains.0.Linear_z_proj              33024.0      32768.0  \n",
       "20_fg_generator.adains.0.ReLU_relu                      NaN          NaN  \n",
       "21_fg_generator.adains.0.InstanceNorm3d_ins_norm        NaN          NaN  \n",
       "22_fg_generator.LeakyReLU_lrelu                         NaN          NaN  \n",
       "23_fg_generator.deconvs.ConvTranspose3d_1          221248.0  905969664.0  \n",
       "24_fg_generator.adains.1.Linear_z_proj              16512.0      16384.0  \n",
       "25_fg_generator.adains.1.ReLU_relu                      NaN          NaN  \n",
       "26_fg_generator.adains.1.InstanceNorm3d_ins_norm        NaN          NaN  \n",
       "27_fg_generator.LeakyReLU_lrelu                         NaN          NaN  \n",
       "28_proj_conv                                       262400.0   67108864.0  \n",
       "29_lrelu                                                NaN          NaN  \n",
       "30_deconvs.ConvTranspose2d_0                       262208.0  268435456.0  \n",
       "31_inst_norms.0.Linear_z_proj                        8320.0       8192.0  \n",
       "32_inst_norms.0.ReLU_relu                               NaN          NaN  \n",
       "33_inst_norms.0.InstanceNorm2d_ins_norm                 NaN          NaN  \n",
       "34_lrelu                                                NaN          NaN  \n",
       "35_deconvs.ConvTranspose2d_1                        65600.0  268435456.0  \n",
       "36_inst_norms.1.Linear_z_proj                        8320.0       8192.0  \n",
       "37_inst_norms.1.ReLU_relu                               NaN          NaN  \n",
       "38_inst_norms.1.InstanceNorm2d_ins_norm                 NaN          NaN  \n",
       "39_lrelu                                                NaN          NaN  \n",
       "40_out_conv                                          4803.0   19660800.0  "
      ]
     },
     "execution_count": 80,
     "metadata": {},
     "output_type": "execute_result"
    }
   ],
   "source": [
    "summary(generator, z_bg, z_fg=z_fg, view_in_bg=view_in_bg, view_in_fg=view_in_fg)"
   ]
  },
  {
   "cell_type": "markdown",
   "metadata": {},
   "source": [
    "# Overfit"
   ]
  },
  {
   "cell_type": "code",
   "execution_count": null,
   "metadata": {},
   "outputs": [],
   "source": [
    "batch64, batch128"
   ]
  },
  {
   "cell_type": "code",
   "execution_count": 23,
   "metadata": {
    "ExecuteTime": {
     "end_time": "2020-03-31T20:13:14.330026Z",
     "start_time": "2020-03-31T20:13:14.290592Z"
    }
   },
   "outputs": [
    {
     "data": {
      "text/plain": [
       "<torch.autograd.anomaly_mode.set_detect_anomaly at 0x7f054486ac18>"
      ]
     },
     "execution_count": 23,
     "metadata": {},
     "output_type": "execute_result"
    }
   ],
   "source": [
    "torch.autograd.set_detect_anomaly(False)"
   ]
  },
  {
   "cell_type": "code",
   "execution_count": null,
   "metadata": {
    "ExecuteTime": {
     "start_time": "2020-03-31T20:15:35.855Z"
    }
   },
   "outputs": [
    {
     "data": {
      "application/vnd.jupyter.widget-view+json": {
       "model_id": "44cb084358504683a12840bbb885143a",
       "version_major": 2,
       "version_minor": 0
      },
      "text/plain": [
       "HBox(children=(IntProgress(value=0, max=50), HTML(value='')))"
      ]
     },
     "metadata": {},
     "output_type": "display_data"
    },
    {
     "data": {
      "application/vnd.jupyter.widget-view+json": {
       "model_id": "05bdf06f4924491aa1816eafd13ba528",
       "version_major": 2,
       "version_minor": 0
      },
      "text/plain": [
       "HBox(children=(IntProgress(value=0, max=64), HTML(value='')))"
      ]
     },
     "metadata": {},
     "output_type": "display_data"
    },
    {
     "name": "stderr",
     "output_type": "stream",
     "text": [
      "/home/samenabar/.venvs/grievous/lib/python3.6/site-packages/torch/nn/functional.py:2764: UserWarning: Default grid_sample and affine_grid behavior has changed to align_corners=False since 1.3.0. Please specify align_corners=True if the old behavior is desired. See the documentation of grid_sample for details.\n",
      "  warnings.warn(\"Default grid_sample and affine_grid behavior has changed \"\n",
      "/home/samenabar/.venvs/grievous/lib/python3.6/site-packages/torch/nn/functional.py:2705: UserWarning: Default grid_sample and affine_grid behavior has changed to align_corners=False since 1.3.0. Please specify align_corners=True if the old behavior is desired. See the documentation of grid_sample for details.\n",
      "  warnings.warn(\"Default grid_sample and affine_grid behavior has changed \"\n"
     ]
    },
    {
     "name": "stdout",
     "output_type": "stream",
     "text": [
      "\n"
     ]
    },
    {
     "data": {
      "application/vnd.jupyter.widget-view+json": {
       "model_id": "202e5b919b2d4e09ab29eb976efc45e0",
       "version_major": 2,
       "version_minor": 0
      },
      "text/plain": [
       "HBox(children=(IntProgress(value=0, max=64), HTML(value='')))"
      ]
     },
     "metadata": {},
     "output_type": "display_data"
    },
    {
     "name": "stdout",
     "output_type": "stream",
     "text": [
      "\n"
     ]
    },
    {
     "data": {
      "application/vnd.jupyter.widget-view+json": {
       "model_id": "17aabdc495b84e4f8f3d4ddccb057da1",
       "version_major": 2,
       "version_minor": 0
      },
      "text/plain": [
       "HBox(children=(IntProgress(value=0, max=64), HTML(value='')))"
      ]
     },
     "metadata": {},
     "output_type": "display_data"
    },
    {
     "name": "stdout",
     "output_type": "stream",
     "text": [
      "\n"
     ]
    },
    {
     "data": {
      "application/vnd.jupyter.widget-view+json": {
       "model_id": "5573e1886d4248d495813f794600dd51",
       "version_major": 2,
       "version_minor": 0
      },
      "text/plain": [
       "HBox(children=(IntProgress(value=0, max=64), HTML(value='')))"
      ]
     },
     "metadata": {},
     "output_type": "display_data"
    },
    {
     "name": "stdout",
     "output_type": "stream",
     "text": [
      "\n"
     ]
    },
    {
     "data": {
      "application/vnd.jupyter.widget-view+json": {
       "model_id": "bfbddb799559418f99a14049b868f371",
       "version_major": 2,
       "version_minor": 0
      },
      "text/plain": [
       "HBox(children=(IntProgress(value=0, max=64), HTML(value='')))"
      ]
     },
     "metadata": {},
     "output_type": "display_data"
    },
    {
     "name": "stdout",
     "output_type": "stream",
     "text": [
      "\n"
     ]
    },
    {
     "data": {
      "application/vnd.jupyter.widget-view+json": {
       "model_id": "f06c6f8c46844234bebc43042e07e099",
       "version_major": 2,
       "version_minor": 0
      },
      "text/plain": [
       "HBox(children=(IntProgress(value=0, max=64), HTML(value='')))"
      ]
     },
     "metadata": {},
     "output_type": "display_data"
    },
    {
     "name": "stdout",
     "output_type": "stream",
     "text": [
      "\n"
     ]
    },
    {
     "data": {
      "application/vnd.jupyter.widget-view+json": {
       "model_id": "8aff381d384c429284fac93a9ff80bcc",
       "version_major": 2,
       "version_minor": 0
      },
      "text/plain": [
       "HBox(children=(IntProgress(value=0, max=64), HTML(value='')))"
      ]
     },
     "metadata": {},
     "output_type": "display_data"
    },
    {
     "name": "stdout",
     "output_type": "stream",
     "text": [
      "\n"
     ]
    },
    {
     "data": {
      "application/vnd.jupyter.widget-view+json": {
       "model_id": "17073ba2115b44868936d8946606459a",
       "version_major": 2,
       "version_minor": 0
      },
      "text/plain": [
       "HBox(children=(IntProgress(value=0, max=64), HTML(value='')))"
      ]
     },
     "metadata": {},
     "output_type": "display_data"
    },
    {
     "name": "stdout",
     "output_type": "stream",
     "text": [
      "\n"
     ]
    },
    {
     "data": {
      "application/vnd.jupyter.widget-view+json": {
       "model_id": "66d8d82ecc014dc59959571594f0c03d",
       "version_major": 2,
       "version_minor": 0
      },
      "text/plain": [
       "HBox(children=(IntProgress(value=0, max=64), HTML(value='')))"
      ]
     },
     "metadata": {},
     "output_type": "display_data"
    },
    {
     "name": "stdout",
     "output_type": "stream",
     "text": [
      "\n"
     ]
    },
    {
     "data": {
      "application/vnd.jupyter.widget-view+json": {
       "model_id": "b96e6038fe9c468fad9876be467045e7",
       "version_major": 2,
       "version_minor": 0
      },
      "text/plain": [
       "HBox(children=(IntProgress(value=0, max=64), HTML(value='')))"
      ]
     },
     "metadata": {},
     "output_type": "display_data"
    },
    {
     "name": "stdout",
     "output_type": "stream",
     "text": [
      "\n"
     ]
    },
    {
     "data": {
      "application/vnd.jupyter.widget-view+json": {
       "model_id": "b4a57eaf8d3c45a6bbf74367fd70256a",
       "version_major": 2,
       "version_minor": 0
      },
      "text/plain": [
       "HBox(children=(IntProgress(value=0, max=64), HTML(value='')))"
      ]
     },
     "metadata": {},
     "output_type": "display_data"
    },
    {
     "name": "stdout",
     "output_type": "stream",
     "text": [
      "\n"
     ]
    },
    {
     "data": {
      "application/vnd.jupyter.widget-view+json": {
       "model_id": "d00f51aa3d214e6580d8641f8a95a994",
       "version_major": 2,
       "version_minor": 0
      },
      "text/plain": [
       "HBox(children=(IntProgress(value=0, max=64), HTML(value='')))"
      ]
     },
     "metadata": {},
     "output_type": "display_data"
    },
    {
     "name": "stdout",
     "output_type": "stream",
     "text": [
      "\n"
     ]
    },
    {
     "data": {
      "application/vnd.jupyter.widget-view+json": {
       "model_id": "59c3df5ae60b4e00aed8a906a3d61eeb",
       "version_major": 2,
       "version_minor": 0
      },
      "text/plain": [
       "HBox(children=(IntProgress(value=0, max=64), HTML(value='')))"
      ]
     },
     "metadata": {},
     "output_type": "display_data"
    },
    {
     "name": "stdout",
     "output_type": "stream",
     "text": [
      "\n"
     ]
    },
    {
     "data": {
      "application/vnd.jupyter.widget-view+json": {
       "model_id": "7a2c3e0266ad4882bdc00cbf20122f67",
       "version_major": 2,
       "version_minor": 0
      },
      "text/plain": [
       "HBox(children=(IntProgress(value=0, max=64), HTML(value='')))"
      ]
     },
     "metadata": {},
     "output_type": "display_data"
    }
   ],
   "source": [
    "bsz = 4\n",
    "# in_batch = batch128[:bsz].to(device)\n",
    "# out_batch = batch64[:bsz].to(device)\n",
    "loader = torch.utils.data.DataLoader(\n",
    "    subset,\n",
    "    batch_size=bsz,\n",
    "    shuffle=True,\n",
    "    pin_memory=True,\n",
    ")\n",
    "\n",
    "generator = Generator(\n",
    "    z_dim_bg=64, \n",
    "    z_dim_fg=128, \n",
    "    use_learnable_proj=False,\n",
    "    use_inverse_transform=False\n",
    ").to(device)\n",
    "scene_encoder = SceneEncoder().to(device)\n",
    "\n",
    "lr = 1e-4\n",
    "optimizer = torch.optim.Adam([\n",
    "    {'params': generator.parameters(), 'lr': lr},\n",
    "    {'params': scene_encoder.parameters(), 'lr': lr}\n",
    "], lr=1e-4)\n",
    "\n",
    "l1_loss = nn.L1Loss()\n",
    "\n",
    "num_epochs = 50\n",
    "scene_encoder.zero_grad()\n",
    "generator.zero_grad()\n",
    "\n",
    "epoch_bar = tqdm(range(num_epochs), total=num_epochs)\n",
    "for epoch in epoch_bar:\n",
    "    pbar = tqdm(loader, total=len(loader))\n",
    "    for batch64, batch128 in pbar:\n",
    "        in_batch = batch128.to(device)\n",
    "        out_batch = batch64.to(device)\n",
    "        encoded_scene = scene_encoder(in_batch)\n",
    "        z_bg = encoded_scene['bg_feats']\n",
    "        view_in_bg = encoded_scene['bg_transform_params']\n",
    "        z_fg = encoded_scene['valid_img_feats']\n",
    "        view_in_fg = encoded_scene['fg_transform_params']\n",
    "\n",
    "        generated = generator(z_bg=z_bg, z_fg=z_fg, view_in_bg=view_in_bg, view_in_fg=view_in_fg)\n",
    "        loss = l1_loss(generated, out_batch)\n",
    "\n",
    "        loss.backward()\n",
    "        optimizer.step()\n",
    "\n",
    "        scene_encoder.zero_grad()\n",
    "        generator.zero_grad()\n",
    "\n",
    "        pbar.set_postfix(\n",
    "            loss=loss.item(),\n",
    "            num_objs=z_fg.size(1),\n",
    "        )"
   ]
  },
  {
   "cell_type": "code",
   "execution_count": 15,
   "metadata": {
    "ExecuteTime": {
     "end_time": "2020-03-31T20:08:13.435248Z",
     "start_time": "2020-03-31T20:08:13.147172Z"
    }
   },
   "outputs": [],
   "source": [
    "import matplotlib.pyplot as plt\n",
    "from torchvision.utils import make_grid"
   ]
  },
  {
   "cell_type": "code",
   "execution_count": 20,
   "metadata": {
    "ExecuteTime": {
     "end_time": "2020-03-31T20:08:50.543111Z",
     "start_time": "2020-03-31T20:08:49.985957Z"
    }
   },
   "outputs": [
    {
     "data": {
      "text/plain": [
       "<matplotlib.image.AxesImage at 0x7f0541ccbef0>"
      ]
     },
     "execution_count": 20,
     "metadata": {},
     "output_type": "execute_result"
    },
    {
     "data": {
      "image/png": "[encoded data removed]",
      "text/plain": [
       "<Figure size 1152x720 with 1 Axes>"
      ]
     },
     "metadata": {
      "needs_background": "light"
     },
     "output_type": "display_data"
    }
   ],
   "source": [
    "fig = plt.figure(figsize=(16, 10))\n",
    "plt.imshow(T.functional.to_pil_image(make_grid(out_batch).cpu()))"
   ]
  },
  {
   "cell_type": "code",
   "execution_count": 21,
   "metadata": {
    "ExecuteTime": {
     "end_time": "2020-03-31T20:08:53.053720Z",
     "start_time": "2020-03-31T20:08:52.627846Z"
    }
   },
   "outputs": [
    {
     "data": {
      "text/plain": [
       "<matplotlib.image.AxesImage at 0x7f0544e0f320>"
      ]
     },
     "execution_count": 21,
     "metadata": {},
     "output_type": "execute_result"
    },
    {
     "data": {
      "image/png": "[encoded data removed]",
      "text/plain": [
       "<Figure size 1152x720 with 1 Axes>"
      ]
     },
     "metadata": {
      "needs_background": "light"
     },
     "output_type": "display_data"
    }
   ],
   "source": [
    "fig = plt.figure(figsize=(16, 10))\n",
    "plt.imshow(T.functional.to_pil_image(make_grid(generated).cpu()))"
   ]
  },
  {
   "cell_type": "code",
   "execution_count": null,
   "metadata": {},
   "outputs": [],
   "source": []
  }
 ],
 "metadata": {
  "kernelspec": {
   "display_name": "grievous",
   "language": "python",
   "name": "grievous"
  },
  "language_info": {
   "codemirror_mode": {
    "name": "ipython",
    "version": 3
   },
   "file_extension": ".py",
   "mimetype": "text/x-python",
   "name": "python",
   "nbconvert_exporter": "python",
   "pygments_lexer": "ipython3",
   "version": "3.6.8"
  },
  "toc": {
   "base_numbering": 1,
   "nav_menu": {},
   "number_sections": true,
   "sideBar": true,
   "skip_h1_title": false,
   "title_cell": "Table of Contents",
   "title_sidebar": "Contents",
   "toc_cell": false,
   "toc_position": {},
   "toc_section_display": true,
   "toc_window_display": false
  }
 },
 "nbformat": 4,
 "nbformat_minor": 2
}
