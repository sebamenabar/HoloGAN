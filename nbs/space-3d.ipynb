{
 "cells": [
  {
   "cell_type": "code",
   "execution_count": 1,
   "metadata": {
    "ExecuteTime": {
     "end_time": "2020-04-01T17:51:59.583507Z",
     "start_time": "2020-04-01T17:51:59.567960Z"
    }
   },
   "outputs": [],
   "source": [
    "%load_ext autoreload\n",
    "%autoreload 2"
   ]
  },
  {
   "cell_type": "code",
   "execution_count": 2,
   "metadata": {
    "ExecuteTime": {
     "end_time": "2020-04-01T17:51:59.608538Z",
     "start_time": "2020-04-01T17:51:59.598541Z"
    }
   },
   "outputs": [],
   "source": [
    "import os\n",
    "import sys\n",
    "\n",
    "sys.path.insert(0, '../src')"
   ]
  },
  {
   "cell_type": "code",
   "execution_count": 3,
   "metadata": {
    "ExecuteTime": {
     "end_time": "2020-04-01T17:52:01.961111Z",
     "start_time": "2020-04-01T17:51:59.895893Z"
    }
   },
   "outputs": [
    {
     "name": "stdout",
     "output_type": "stream",
     "text": [
      "cuda\n"
     ]
    }
   ],
   "source": [
    "import torch\n",
    "import torch.nn as nn\n",
    "import torch.distributions as D\n",
    "from torch.distributions.kl import kl_divergence\n",
    "from torchvision import transforms as T\n",
    "\n",
    "from tqdm.autonotebook import tqdm\n",
    "from torchsummaryX import summary\n",
    "\n",
    "from model import Generator\n",
    "from space_modules import SceneEncoder\n",
    "from data_utils import ImageFilelistMultiscale, show_batch\n",
    "\n",
    "torch.set_printoptions(precision=5, linewidth=180)\n",
    "if torch.cuda.is_available():\n",
    "    device = torch.device('cuda')\n",
    "else:\n",
    "    device = torch.device('cpu')\n",
    "print(device)"
   ]
  },
  {
   "cell_type": "code",
   "execution_count": 4,
   "metadata": {
    "ExecuteTime": {
     "end_time": "2020-04-01T17:52:06.704842Z",
     "start_time": "2020-04-01T17:52:01.963159Z"
    }
   },
   "outputs": [],
   "source": [
    "dataset = ImageFilelistMultiscale('/storage1/datasets/CLEVR_v1.0/images/train/', '*.png', resolutions=((64,64), (128, 128)))\n",
    "# subset = torch.utils.data.Subset(dataset, list(range(1024)))\n",
    "\n",
    "loader = torch.utils.data.DataLoader(\n",
    "    dataset,\n",
    "    batch_size=4,\n",
    "    shuffle=True,\n",
    "    pin_memory=True,\n",
    ")\n",
    "batch64, batch128 = next(iter(loader))"
   ]
  },
  {
   "cell_type": "code",
   "execution_count": 8,
   "metadata": {
    "ExecuteTime": {
     "end_time": "2020-04-01T15:21:29.002055Z",
     "start_time": "2020-04-01T15:21:28.841460Z"
    },
    "scrolled": true
   },
   "outputs": [
    {
     "name": "stdout",
     "output_type": "stream",
     "text": [
      "============================================================================================================\n",
      "                                                        Kernel Shape  \\\n",
      "Layer                                                                  \n",
      "0_img_encoder.conv_layers.0.Conv2d_0                   [3, 16, 4, 4]   \n",
      "1_img_encoder.conv_layers.0.GroupNorm_1                         [16]   \n",
      "2_img_encoder.conv_layers.0.CELU_2                                 -   \n",
      "3_img_encoder.conv_layers.1.Conv2d_0                  [16, 32, 4, 4]   \n",
      "4_img_encoder.conv_layers.1.GroupNorm_1                         [32]   \n",
      "5_img_encoder.conv_layers.1.CELU_2                                 -   \n",
      "6_img_encoder.conv_layers.2.Conv2d_0                  [32, 64, 4, 4]   \n",
      "7_img_encoder.conv_layers.2.GroupNorm_1                         [64]   \n",
      "8_img_encoder.conv_layers.2.CELU_2                                 -   \n",
      "9_img_encoder.conv_layers.3.Conv2d_0                 [64, 128, 3, 3]   \n",
      "10_img_encoder.conv_layers.3.GroupNorm_1                       [128]   \n",
      "11_img_encoder.conv_layers.3.CELU_2                                -   \n",
      "12_img_encoder.conv_layers.4.Conv2d_0               [128, 256, 3, 3]   \n",
      "13_img_encoder.conv_layers.4.GroupNorm_1                       [256]   \n",
      "14_img_encoder.conv_layers.4.CELU_2                                -   \n",
      "15_img_encoder.conv_layers.5.Conv2d_0               [256, 128, 1, 1]   \n",
      "16_img_encoder.conv_layers.5.GroupNorm_1                       [128]   \n",
      "17_img_encoder.conv_layers.5.CELU_2                                -   \n",
      "18_img_encoder.res_conn.0.Conv2d_0                  [128, 128, 3, 3]   \n",
      "19_img_encoder.res_conn.0.GroupNorm_1                          [128]   \n",
      "20_img_encoder.res_conn.0.CELU_2                                   -   \n",
      "21_img_encoder.res_conn.1.Conv2d_0                  [128, 128, 3, 3]   \n",
      "22_img_encoder.res_conn.1.GroupNorm_1                          [128]   \n",
      "23_img_encoder.res_conn.1.CELU_2                                   -   \n",
      "24_img_encoder.res_enc.Conv2d_0                     [256, 128, 3, 3]   \n",
      "25_img_encoder.res_enc.GroupNorm_1                             [128]   \n",
      "26_img_encoder.res_enc.CELU_2                                      -   \n",
      "27_bg_encoder.Conv2d_0                               [128, 64, 3, 3]   \n",
      "28_bg_encoder.BatchNorm2d_1                                     [64]   \n",
      "29_bg_encoder.MaxPool2d_2                                          -   \n",
      "30_bg_encoder.ELU_3                                                -   \n",
      "31_bg_encoder.Conv2d_4                                [64, 73, 3, 3]   \n",
      "32_bg_encoder.BatchNorm2d_5                                     [73]   \n",
      "33_bg_encoder.MaxPool2d_6                                          -   \n",
      "34_znet                                               [128, 9, 1, 1]   \n",
      "35_transform_decoder.Linear_scale_center_encoder             [4, 64]   \n",
      "36_transform_decoder.ELU_act                                       -   \n",
      "37_transform_decoder.Bilinear_interaction1              [64, 64, 64]   \n",
      "38_transform_decoder.ELU_act                                       -   \n",
      "39_transform_decoder.interaction2.Bilinear_bili...     [64, 64, 128]   \n",
      "40_transform_decoder.interaction2.Linear_linear            [192, 64]   \n",
      "41_transform_decoder.ELU_act                                       -   \n",
      "42_transform_decoder.Linear_linear                          [64, 64]   \n",
      "43_transform_decoder.ELU_act                                       -   \n",
      "44_transform_decoder.Linear_out_proj                         [64, 9]   \n",
      "\n",
      "                                                        Output Shape  \\\n",
      "Layer                                                                  \n",
      "0_img_encoder.conv_layers.0.Conv2d_0                 [4, 16, 64, 64]   \n",
      "1_img_encoder.conv_layers.0.GroupNorm_1              [4, 16, 64, 64]   \n",
      "2_img_encoder.conv_layers.0.CELU_2                   [4, 16, 64, 64]   \n",
      "3_img_encoder.conv_layers.1.Conv2d_0                 [4, 32, 32, 32]   \n",
      "4_img_encoder.conv_layers.1.GroupNorm_1              [4, 32, 32, 32]   \n",
      "5_img_encoder.conv_layers.1.CELU_2                   [4, 32, 32, 32]   \n",
      "6_img_encoder.conv_layers.2.Conv2d_0                 [4, 64, 16, 16]   \n",
      "7_img_encoder.conv_layers.2.GroupNorm_1              [4, 64, 16, 16]   \n",
      "8_img_encoder.conv_layers.2.CELU_2                   [4, 64, 16, 16]   \n",
      "9_img_encoder.conv_layers.3.Conv2d_0                [4, 128, 16, 16]   \n",
      "10_img_encoder.conv_layers.3.GroupNorm_1            [4, 128, 16, 16]   \n",
      "11_img_encoder.conv_layers.3.CELU_2                 [4, 128, 16, 16]   \n",
      "12_img_encoder.conv_layers.4.Conv2d_0               [4, 256, 16, 16]   \n",
      "13_img_encoder.conv_layers.4.GroupNorm_1            [4, 256, 16, 16]   \n",
      "14_img_encoder.conv_layers.4.CELU_2                 [4, 256, 16, 16]   \n",
      "15_img_encoder.conv_layers.5.Conv2d_0               [4, 128, 16, 16]   \n",
      "16_img_encoder.conv_layers.5.GroupNorm_1            [4, 128, 16, 16]   \n",
      "17_img_encoder.conv_layers.5.CELU_2                 [4, 128, 16, 16]   \n",
      "18_img_encoder.res_conn.0.Conv2d_0                  [4, 128, 16, 16]   \n",
      "19_img_encoder.res_conn.0.GroupNorm_1               [4, 128, 16, 16]   \n",
      "20_img_encoder.res_conn.0.CELU_2                    [4, 128, 16, 16]   \n",
      "21_img_encoder.res_conn.1.Conv2d_0                  [4, 128, 16, 16]   \n",
      "22_img_encoder.res_conn.1.GroupNorm_1               [4, 128, 16, 16]   \n",
      "23_img_encoder.res_conn.1.CELU_2                    [4, 128, 16, 16]   \n",
      "24_img_encoder.res_enc.Conv2d_0                     [4, 128, 16, 16]   \n",
      "25_img_encoder.res_enc.GroupNorm_1                  [4, 128, 16, 16]   \n",
      "26_img_encoder.res_enc.CELU_2                       [4, 128, 16, 16]   \n",
      "27_bg_encoder.Conv2d_0                                 [4, 64, 8, 8]   \n",
      "28_bg_encoder.BatchNorm2d_1                            [4, 64, 8, 8]   \n",
      "29_bg_encoder.MaxPool2d_2                              [4, 64, 4, 4]   \n",
      "30_bg_encoder.ELU_3                                    [4, 64, 4, 4]   \n",
      "31_bg_encoder.Conv2d_4                                 [4, 73, 2, 2]   \n",
      "32_bg_encoder.BatchNorm2d_5                            [4, 73, 2, 2]   \n",
      "33_bg_encoder.MaxPool2d_6                              [4, 73, 1, 1]   \n",
      "34_znet                                               [4, 9, 16, 16]   \n",
      "35_transform_decoder.Linear_scale_center_encoder        [4, 153, 64]   \n",
      "36_transform_decoder.ELU_act                            [4, 153, 64]   \n",
      "37_transform_decoder.Bilinear_interaction1              [4, 153, 64]   \n",
      "38_transform_decoder.ELU_act                            [4, 153, 64]   \n",
      "39_transform_decoder.interaction2.Bilinear_bili...      [4, 153, 64]   \n",
      "40_transform_decoder.interaction2.Linear_linear         [4, 153, 64]   \n",
      "41_transform_decoder.ELU_act                            [4, 153, 64]   \n",
      "42_transform_decoder.Linear_linear                      [4, 153, 64]   \n",
      "43_transform_decoder.ELU_act                            [4, 153, 64]   \n",
      "44_transform_decoder.Linear_out_proj                     [4, 153, 9]   \n",
      "\n",
      "                                                      Params   Mult-Adds  \n",
      "Layer                                                                     \n",
      "0_img_encoder.conv_layers.0.Conv2d_0                   784.0   3.145728M  \n",
      "1_img_encoder.conv_layers.0.GroupNorm_1                 32.0        16.0  \n",
      "2_img_encoder.conv_layers.0.CELU_2                         -           -  \n",
      "3_img_encoder.conv_layers.1.Conv2d_0                  8.224k   8.388608M  \n",
      "4_img_encoder.conv_layers.1.GroupNorm_1                 64.0        32.0  \n",
      "5_img_encoder.conv_layers.1.CELU_2                         -           -  \n",
      "6_img_encoder.conv_layers.2.Conv2d_0                 32.832k   8.388608M  \n",
      "7_img_encoder.conv_layers.2.GroupNorm_1                128.0        64.0  \n",
      "8_img_encoder.conv_layers.2.CELU_2                         -           -  \n",
      "9_img_encoder.conv_layers.3.Conv2d_0                 73.856k  18.874368M  \n",
      "10_img_encoder.conv_layers.3.GroupNorm_1               256.0       128.0  \n",
      "11_img_encoder.conv_layers.3.CELU_2                        -           -  \n",
      "12_img_encoder.conv_layers.4.Conv2d_0               295.168k  75.497472M  \n",
      "13_img_encoder.conv_layers.4.GroupNorm_1               512.0       256.0  \n",
      "14_img_encoder.conv_layers.4.CELU_2                        -           -  \n",
      "15_img_encoder.conv_layers.5.Conv2d_0                32.896k   8.388608M  \n",
      "16_img_encoder.conv_layers.5.GroupNorm_1               256.0       128.0  \n",
      "17_img_encoder.conv_layers.5.CELU_2                        -           -  \n",
      "18_img_encoder.res_conn.0.Conv2d_0                  147.584k  37.748736M  \n",
      "19_img_encoder.res_conn.0.GroupNorm_1                  256.0       128.0  \n",
      "20_img_encoder.res_conn.0.CELU_2                           -           -  \n",
      "21_img_encoder.res_conn.1.Conv2d_0                  147.584k  37.748736M  \n",
      "22_img_encoder.res_conn.1.GroupNorm_1                  256.0       128.0  \n",
      "23_img_encoder.res_conn.1.CELU_2                           -           -  \n",
      "24_img_encoder.res_enc.Conv2d_0                      295.04k  75.497472M  \n",
      "25_img_encoder.res_enc.GroupNorm_1                     256.0       128.0  \n",
      "26_img_encoder.res_enc.CELU_2                              -           -  \n",
      "27_bg_encoder.Conv2d_0                               73.792k   4.718592M  \n",
      "28_bg_encoder.BatchNorm2d_1                            128.0        64.0  \n",
      "29_bg_encoder.MaxPool2d_2                                  -           -  \n",
      "30_bg_encoder.ELU_3                                        -           -  \n",
      "31_bg_encoder.Conv2d_4                               42.121k    168.192k  \n",
      "32_bg_encoder.BatchNorm2d_5                            146.0        73.0  \n",
      "33_bg_encoder.MaxPool2d_6                                  -           -  \n",
      "34_znet                                               1.161k    294.912k  \n",
      "35_transform_decoder.Linear_scale_center_encoder       320.0       256.0  \n",
      "36_transform_decoder.ELU_act                               -           -  \n",
      "37_transform_decoder.Bilinear_interaction1          262.208k    262.144k  \n",
      "38_transform_decoder.ELU_act                               -           -  \n",
      "39_transform_decoder.interaction2.Bilinear_bili...  524.352k    524.288k  \n",
      "40_transform_decoder.interaction2.Linear_linear      12.288k     12.288k  \n",
      "41_transform_decoder.ELU_act                               -           -  \n",
      "42_transform_decoder.Linear_linear                     4.16k      4.096k  \n",
      "43_transform_decoder.ELU_act                               -           -  \n",
      "44_transform_decoder.Linear_out_proj                   585.0       576.0  \n",
      "------------------------------------------------------------------------------------------------------------\n",
      "                           Totals\n",
      "Total params            1.957245M\n",
      "Trainable params        1.957245M\n",
      "Non-trainable params          0.0\n",
      "Mult-Adds             279.664825M\n",
      "============================================================================================================\n"
     ]
    },
    {
     "data": {
      "text/html": [
       "<div>\n",
       "<style scoped>\n",
       "    .dataframe tbody tr th:only-of-type {\n",
       "        vertical-align: middle;\n",
       "    }\n",
       "\n",
       "    .dataframe tbody tr th {\n",
       "        vertical-align: top;\n",
       "    }\n",
       "\n",
       "    .dataframe thead th {\n",
       "        text-align: right;\n",
       "    }\n",
       "</style>\n",
       "<table border=\"1\" class=\"dataframe\">\n",
       "  <thead>\n",
       "    <tr style=\"text-align: right;\">\n",
       "      <th></th>\n",
       "      <th>Kernel Shape</th>\n",
       "      <th>Output Shape</th>\n",
       "      <th>Params</th>\n",
       "      <th>Mult-Adds</th>\n",
       "    </tr>\n",
       "    <tr>\n",
       "      <th>Layer</th>\n",
       "      <th></th>\n",
       "      <th></th>\n",
       "      <th></th>\n",
       "      <th></th>\n",
       "    </tr>\n",
       "  </thead>\n",
       "  <tbody>\n",
       "    <tr>\n",
       "      <td>0_img_encoder.conv_layers.0.Conv2d_0</td>\n",
       "      <td>[3, 16, 4, 4]</td>\n",
       "      <td>[4, 16, 64, 64]</td>\n",
       "      <td>784.0</td>\n",
       "      <td>3145728.0</td>\n",
       "    </tr>\n",
       "    <tr>\n",
       "      <td>1_img_encoder.conv_layers.0.GroupNorm_1</td>\n",
       "      <td>[16]</td>\n",
       "      <td>[4, 16, 64, 64]</td>\n",
       "      <td>32.0</td>\n",
       "      <td>16.0</td>\n",
       "    </tr>\n",
       "    <tr>\n",
       "      <td>2_img_encoder.conv_layers.0.CELU_2</td>\n",
       "      <td>-</td>\n",
       "      <td>[4, 16, 64, 64]</td>\n",
       "      <td>NaN</td>\n",
       "      <td>NaN</td>\n",
       "    </tr>\n",
       "    <tr>\n",
       "      <td>3_img_encoder.conv_layers.1.Conv2d_0</td>\n",
       "      <td>[16, 32, 4, 4]</td>\n",
       "      <td>[4, 32, 32, 32]</td>\n",
       "      <td>8224.0</td>\n",
       "      <td>8388608.0</td>\n",
       "    </tr>\n",
       "    <tr>\n",
       "      <td>4_img_encoder.conv_layers.1.GroupNorm_1</td>\n",
       "      <td>[32]</td>\n",
       "      <td>[4, 32, 32, 32]</td>\n",
       "      <td>64.0</td>\n",
       "      <td>32.0</td>\n",
       "    </tr>\n",
       "    <tr>\n",
       "      <td>5_img_encoder.conv_layers.1.CELU_2</td>\n",
       "      <td>-</td>\n",
       "      <td>[4, 32, 32, 32]</td>\n",
       "      <td>NaN</td>\n",
       "      <td>NaN</td>\n",
       "    </tr>\n",
       "    <tr>\n",
       "      <td>6_img_encoder.conv_layers.2.Conv2d_0</td>\n",
       "      <td>[32, 64, 4, 4]</td>\n",
       "      <td>[4, 64, 16, 16]</td>\n",
       "      <td>32832.0</td>\n",
       "      <td>8388608.0</td>\n",
       "    </tr>\n",
       "    <tr>\n",
       "      <td>7_img_encoder.conv_layers.2.GroupNorm_1</td>\n",
       "      <td>[64]</td>\n",
       "      <td>[4, 64, 16, 16]</td>\n",
       "      <td>128.0</td>\n",
       "      <td>64.0</td>\n",
       "    </tr>\n",
       "    <tr>\n",
       "      <td>8_img_encoder.conv_layers.2.CELU_2</td>\n",
       "      <td>-</td>\n",
       "      <td>[4, 64, 16, 16]</td>\n",
       "      <td>NaN</td>\n",
       "      <td>NaN</td>\n",
       "    </tr>\n",
       "    <tr>\n",
       "      <td>9_img_encoder.conv_layers.3.Conv2d_0</td>\n",
       "      <td>[64, 128, 3, 3]</td>\n",
       "      <td>[4, 128, 16, 16]</td>\n",
       "      <td>73856.0</td>\n",
       "      <td>18874368.0</td>\n",
       "    </tr>\n",
       "    <tr>\n",
       "      <td>10_img_encoder.conv_layers.3.GroupNorm_1</td>\n",
       "      <td>[128]</td>\n",
       "      <td>[4, 128, 16, 16]</td>\n",
       "      <td>256.0</td>\n",
       "      <td>128.0</td>\n",
       "    </tr>\n",
       "    <tr>\n",
       "      <td>11_img_encoder.conv_layers.3.CELU_2</td>\n",
       "      <td>-</td>\n",
       "      <td>[4, 128, 16, 16]</td>\n",
       "      <td>NaN</td>\n",
       "      <td>NaN</td>\n",
       "    </tr>\n",
       "    <tr>\n",
       "      <td>12_img_encoder.conv_layers.4.Conv2d_0</td>\n",
       "      <td>[128, 256, 3, 3]</td>\n",
       "      <td>[4, 256, 16, 16]</td>\n",
       "      <td>295168.0</td>\n",
       "      <td>75497472.0</td>\n",
       "    </tr>\n",
       "    <tr>\n",
       "      <td>13_img_encoder.conv_layers.4.GroupNorm_1</td>\n",
       "      <td>[256]</td>\n",
       "      <td>[4, 256, 16, 16]</td>\n",
       "      <td>512.0</td>\n",
       "      <td>256.0</td>\n",
       "    </tr>\n",
       "    <tr>\n",
       "      <td>14_img_encoder.conv_layers.4.CELU_2</td>\n",
       "      <td>-</td>\n",
       "      <td>[4, 256, 16, 16]</td>\n",
       "      <td>NaN</td>\n",
       "      <td>NaN</td>\n",
       "    </tr>\n",
       "    <tr>\n",
       "      <td>15_img_encoder.conv_layers.5.Conv2d_0</td>\n",
       "      <td>[256, 128, 1, 1]</td>\n",
       "      <td>[4, 128, 16, 16]</td>\n",
       "      <td>32896.0</td>\n",
       "      <td>8388608.0</td>\n",
       "    </tr>\n",
       "    <tr>\n",
       "      <td>16_img_encoder.conv_layers.5.GroupNorm_1</td>\n",
       "      <td>[128]</td>\n",
       "      <td>[4, 128, 16, 16]</td>\n",
       "      <td>256.0</td>\n",
       "      <td>128.0</td>\n",
       "    </tr>\n",
       "    <tr>\n",
       "      <td>17_img_encoder.conv_layers.5.CELU_2</td>\n",
       "      <td>-</td>\n",
       "      <td>[4, 128, 16, 16]</td>\n",
       "      <td>NaN</td>\n",
       "      <td>NaN</td>\n",
       "    </tr>\n",
       "    <tr>\n",
       "      <td>18_img_encoder.res_conn.0.Conv2d_0</td>\n",
       "      <td>[128, 128, 3, 3]</td>\n",
       "      <td>[4, 128, 16, 16]</td>\n",
       "      <td>147584.0</td>\n",
       "      <td>37748736.0</td>\n",
       "    </tr>\n",
       "    <tr>\n",
       "      <td>19_img_encoder.res_conn.0.GroupNorm_1</td>\n",
       "      <td>[128]</td>\n",
       "      <td>[4, 128, 16, 16]</td>\n",
       "      <td>256.0</td>\n",
       "      <td>128.0</td>\n",
       "    </tr>\n",
       "    <tr>\n",
       "      <td>20_img_encoder.res_conn.0.CELU_2</td>\n",
       "      <td>-</td>\n",
       "      <td>[4, 128, 16, 16]</td>\n",
       "      <td>NaN</td>\n",
       "      <td>NaN</td>\n",
       "    </tr>\n",
       "    <tr>\n",
       "      <td>21_img_encoder.res_conn.1.Conv2d_0</td>\n",
       "      <td>[128, 128, 3, 3]</td>\n",
       "      <td>[4, 128, 16, 16]</td>\n",
       "      <td>147584.0</td>\n",
       "      <td>37748736.0</td>\n",
       "    </tr>\n",
       "    <tr>\n",
       "      <td>22_img_encoder.res_conn.1.GroupNorm_1</td>\n",
       "      <td>[128]</td>\n",
       "      <td>[4, 128, 16, 16]</td>\n",
       "      <td>256.0</td>\n",
       "      <td>128.0</td>\n",
       "    </tr>\n",
       "    <tr>\n",
       "      <td>23_img_encoder.res_conn.1.CELU_2</td>\n",
       "      <td>-</td>\n",
       "      <td>[4, 128, 16, 16]</td>\n",
       "      <td>NaN</td>\n",
       "      <td>NaN</td>\n",
       "    </tr>\n",
       "    <tr>\n",
       "      <td>24_img_encoder.res_enc.Conv2d_0</td>\n",
       "      <td>[256, 128, 3, 3]</td>\n",
       "      <td>[4, 128, 16, 16]</td>\n",
       "      <td>295040.0</td>\n",
       "      <td>75497472.0</td>\n",
       "    </tr>\n",
       "    <tr>\n",
       "      <td>25_img_encoder.res_enc.GroupNorm_1</td>\n",
       "      <td>[128]</td>\n",
       "      <td>[4, 128, 16, 16]</td>\n",
       "      <td>256.0</td>\n",
       "      <td>128.0</td>\n",
       "    </tr>\n",
       "    <tr>\n",
       "      <td>26_img_encoder.res_enc.CELU_2</td>\n",
       "      <td>-</td>\n",
       "      <td>[4, 128, 16, 16]</td>\n",
       "      <td>NaN</td>\n",
       "      <td>NaN</td>\n",
       "    </tr>\n",
       "    <tr>\n",
       "      <td>27_bg_encoder.Conv2d_0</td>\n",
       "      <td>[128, 64, 3, 3]</td>\n",
       "      <td>[4, 64, 8, 8]</td>\n",
       "      <td>73792.0</td>\n",
       "      <td>4718592.0</td>\n",
       "    </tr>\n",
       "    <tr>\n",
       "      <td>28_bg_encoder.BatchNorm2d_1</td>\n",
       "      <td>[64]</td>\n",
       "      <td>[4, 64, 8, 8]</td>\n",
       "      <td>128.0</td>\n",
       "      <td>64.0</td>\n",
       "    </tr>\n",
       "    <tr>\n",
       "      <td>29_bg_encoder.MaxPool2d_2</td>\n",
       "      <td>-</td>\n",
       "      <td>[4, 64, 4, 4]</td>\n",
       "      <td>NaN</td>\n",
       "      <td>NaN</td>\n",
       "    </tr>\n",
       "    <tr>\n",
       "      <td>30_bg_encoder.ELU_3</td>\n",
       "      <td>-</td>\n",
       "      <td>[4, 64, 4, 4]</td>\n",
       "      <td>NaN</td>\n",
       "      <td>NaN</td>\n",
       "    </tr>\n",
       "    <tr>\n",
       "      <td>31_bg_encoder.Conv2d_4</td>\n",
       "      <td>[64, 73, 3, 3]</td>\n",
       "      <td>[4, 73, 2, 2]</td>\n",
       "      <td>42121.0</td>\n",
       "      <td>168192.0</td>\n",
       "    </tr>\n",
       "    <tr>\n",
       "      <td>32_bg_encoder.BatchNorm2d_5</td>\n",
       "      <td>[73]</td>\n",
       "      <td>[4, 73, 2, 2]</td>\n",
       "      <td>146.0</td>\n",
       "      <td>73.0</td>\n",
       "    </tr>\n",
       "    <tr>\n",
       "      <td>33_bg_encoder.MaxPool2d_6</td>\n",
       "      <td>-</td>\n",
       "      <td>[4, 73, 1, 1]</td>\n",
       "      <td>NaN</td>\n",
       "      <td>NaN</td>\n",
       "    </tr>\n",
       "    <tr>\n",
       "      <td>34_znet</td>\n",
       "      <td>[128, 9, 1, 1]</td>\n",
       "      <td>[4, 9, 16, 16]</td>\n",
       "      <td>1161.0</td>\n",
       "      <td>294912.0</td>\n",
       "    </tr>\n",
       "    <tr>\n",
       "      <td>35_transform_decoder.Linear_scale_center_encoder</td>\n",
       "      <td>[4, 64]</td>\n",
       "      <td>[4, 153, 64]</td>\n",
       "      <td>320.0</td>\n",
       "      <td>256.0</td>\n",
       "    </tr>\n",
       "    <tr>\n",
       "      <td>36_transform_decoder.ELU_act</td>\n",
       "      <td>-</td>\n",
       "      <td>[4, 153, 64]</td>\n",
       "      <td>NaN</td>\n",
       "      <td>NaN</td>\n",
       "    </tr>\n",
       "    <tr>\n",
       "      <td>37_transform_decoder.Bilinear_interaction1</td>\n",
       "      <td>[64, 64, 64]</td>\n",
       "      <td>[4, 153, 64]</td>\n",
       "      <td>262208.0</td>\n",
       "      <td>262144.0</td>\n",
       "    </tr>\n",
       "    <tr>\n",
       "      <td>38_transform_decoder.ELU_act</td>\n",
       "      <td>-</td>\n",
       "      <td>[4, 153, 64]</td>\n",
       "      <td>NaN</td>\n",
       "      <td>NaN</td>\n",
       "    </tr>\n",
       "    <tr>\n",
       "      <td>39_transform_decoder.interaction2.Bilinear_bilinear</td>\n",
       "      <td>[64, 64, 128]</td>\n",
       "      <td>[4, 153, 64]</td>\n",
       "      <td>524352.0</td>\n",
       "      <td>524288.0</td>\n",
       "    </tr>\n",
       "    <tr>\n",
       "      <td>40_transform_decoder.interaction2.Linear_linear</td>\n",
       "      <td>[192, 64]</td>\n",
       "      <td>[4, 153, 64]</td>\n",
       "      <td>12288.0</td>\n",
       "      <td>12288.0</td>\n",
       "    </tr>\n",
       "    <tr>\n",
       "      <td>41_transform_decoder.ELU_act</td>\n",
       "      <td>-</td>\n",
       "      <td>[4, 153, 64]</td>\n",
       "      <td>NaN</td>\n",
       "      <td>NaN</td>\n",
       "    </tr>\n",
       "    <tr>\n",
       "      <td>42_transform_decoder.Linear_linear</td>\n",
       "      <td>[64, 64]</td>\n",
       "      <td>[4, 153, 64]</td>\n",
       "      <td>4160.0</td>\n",
       "      <td>4096.0</td>\n",
       "    </tr>\n",
       "    <tr>\n",
       "      <td>43_transform_decoder.ELU_act</td>\n",
       "      <td>-</td>\n",
       "      <td>[4, 153, 64]</td>\n",
       "      <td>NaN</td>\n",
       "      <td>NaN</td>\n",
       "    </tr>\n",
       "    <tr>\n",
       "      <td>44_transform_decoder.Linear_out_proj</td>\n",
       "      <td>[64, 9]</td>\n",
       "      <td>[4, 153, 9]</td>\n",
       "      <td>585.0</td>\n",
       "      <td>576.0</td>\n",
       "    </tr>\n",
       "  </tbody>\n",
       "</table>\n",
       "</div>"
      ],
      "text/plain": [
       "                                                        Kernel Shape  \\\n",
       "Layer                                                                  \n",
       "0_img_encoder.conv_layers.0.Conv2d_0                   [3, 16, 4, 4]   \n",
       "1_img_encoder.conv_layers.0.GroupNorm_1                         [16]   \n",
       "2_img_encoder.conv_layers.0.CELU_2                                 -   \n",
       "3_img_encoder.conv_layers.1.Conv2d_0                  [16, 32, 4, 4]   \n",
       "4_img_encoder.conv_layers.1.GroupNorm_1                         [32]   \n",
       "5_img_encoder.conv_layers.1.CELU_2                                 -   \n",
       "6_img_encoder.conv_layers.2.Conv2d_0                  [32, 64, 4, 4]   \n",
       "7_img_encoder.conv_layers.2.GroupNorm_1                         [64]   \n",
       "8_img_encoder.conv_layers.2.CELU_2                                 -   \n",
       "9_img_encoder.conv_layers.3.Conv2d_0                 [64, 128, 3, 3]   \n",
       "10_img_encoder.conv_layers.3.GroupNorm_1                       [128]   \n",
       "11_img_encoder.conv_layers.3.CELU_2                                -   \n",
       "12_img_encoder.conv_layers.4.Conv2d_0               [128, 256, 3, 3]   \n",
       "13_img_encoder.conv_layers.4.GroupNorm_1                       [256]   \n",
       "14_img_encoder.conv_layers.4.CELU_2                                -   \n",
       "15_img_encoder.conv_layers.5.Conv2d_0               [256, 128, 1, 1]   \n",
       "16_img_encoder.conv_layers.5.GroupNorm_1                       [128]   \n",
       "17_img_encoder.conv_layers.5.CELU_2                                -   \n",
       "18_img_encoder.res_conn.0.Conv2d_0                  [128, 128, 3, 3]   \n",
       "19_img_encoder.res_conn.0.GroupNorm_1                          [128]   \n",
       "20_img_encoder.res_conn.0.CELU_2                                   -   \n",
       "21_img_encoder.res_conn.1.Conv2d_0                  [128, 128, 3, 3]   \n",
       "22_img_encoder.res_conn.1.GroupNorm_1                          [128]   \n",
       "23_img_encoder.res_conn.1.CELU_2                                   -   \n",
       "24_img_encoder.res_enc.Conv2d_0                     [256, 128, 3, 3]   \n",
       "25_img_encoder.res_enc.GroupNorm_1                             [128]   \n",
       "26_img_encoder.res_enc.CELU_2                                      -   \n",
       "27_bg_encoder.Conv2d_0                               [128, 64, 3, 3]   \n",
       "28_bg_encoder.BatchNorm2d_1                                     [64]   \n",
       "29_bg_encoder.MaxPool2d_2                                          -   \n",
       "30_bg_encoder.ELU_3                                                -   \n",
       "31_bg_encoder.Conv2d_4                                [64, 73, 3, 3]   \n",
       "32_bg_encoder.BatchNorm2d_5                                     [73]   \n",
       "33_bg_encoder.MaxPool2d_6                                          -   \n",
       "34_znet                                               [128, 9, 1, 1]   \n",
       "35_transform_decoder.Linear_scale_center_encoder             [4, 64]   \n",
       "36_transform_decoder.ELU_act                                       -   \n",
       "37_transform_decoder.Bilinear_interaction1              [64, 64, 64]   \n",
       "38_transform_decoder.ELU_act                                       -   \n",
       "39_transform_decoder.interaction2.Bilinear_bili...     [64, 64, 128]   \n",
       "40_transform_decoder.interaction2.Linear_linear            [192, 64]   \n",
       "41_transform_decoder.ELU_act                                       -   \n",
       "42_transform_decoder.Linear_linear                          [64, 64]   \n",
       "43_transform_decoder.ELU_act                                       -   \n",
       "44_transform_decoder.Linear_out_proj                         [64, 9]   \n",
       "\n",
       "                                                        Output Shape  \\\n",
       "Layer                                                                  \n",
       "0_img_encoder.conv_layers.0.Conv2d_0                 [4, 16, 64, 64]   \n",
       "1_img_encoder.conv_layers.0.GroupNorm_1              [4, 16, 64, 64]   \n",
       "2_img_encoder.conv_layers.0.CELU_2                   [4, 16, 64, 64]   \n",
       "3_img_encoder.conv_layers.1.Conv2d_0                 [4, 32, 32, 32]   \n",
       "4_img_encoder.conv_layers.1.GroupNorm_1              [4, 32, 32, 32]   \n",
       "5_img_encoder.conv_layers.1.CELU_2                   [4, 32, 32, 32]   \n",
       "6_img_encoder.conv_layers.2.Conv2d_0                 [4, 64, 16, 16]   \n",
       "7_img_encoder.conv_layers.2.GroupNorm_1              [4, 64, 16, 16]   \n",
       "8_img_encoder.conv_layers.2.CELU_2                   [4, 64, 16, 16]   \n",
       "9_img_encoder.conv_layers.3.Conv2d_0                [4, 128, 16, 16]   \n",
       "10_img_encoder.conv_layers.3.GroupNorm_1            [4, 128, 16, 16]   \n",
       "11_img_encoder.conv_layers.3.CELU_2                 [4, 128, 16, 16]   \n",
       "12_img_encoder.conv_layers.4.Conv2d_0               [4, 256, 16, 16]   \n",
       "13_img_encoder.conv_layers.4.GroupNorm_1            [4, 256, 16, 16]   \n",
       "14_img_encoder.conv_layers.4.CELU_2                 [4, 256, 16, 16]   \n",
       "15_img_encoder.conv_layers.5.Conv2d_0               [4, 128, 16, 16]   \n",
       "16_img_encoder.conv_layers.5.GroupNorm_1            [4, 128, 16, 16]   \n",
       "17_img_encoder.conv_layers.5.CELU_2                 [4, 128, 16, 16]   \n",
       "18_img_encoder.res_conn.0.Conv2d_0                  [4, 128, 16, 16]   \n",
       "19_img_encoder.res_conn.0.GroupNorm_1               [4, 128, 16, 16]   \n",
       "20_img_encoder.res_conn.0.CELU_2                    [4, 128, 16, 16]   \n",
       "21_img_encoder.res_conn.1.Conv2d_0                  [4, 128, 16, 16]   \n",
       "22_img_encoder.res_conn.1.GroupNorm_1               [4, 128, 16, 16]   \n",
       "23_img_encoder.res_conn.1.CELU_2                    [4, 128, 16, 16]   \n",
       "24_img_encoder.res_enc.Conv2d_0                     [4, 128, 16, 16]   \n",
       "25_img_encoder.res_enc.GroupNorm_1                  [4, 128, 16, 16]   \n",
       "26_img_encoder.res_enc.CELU_2                       [4, 128, 16, 16]   \n",
       "27_bg_encoder.Conv2d_0                                 [4, 64, 8, 8]   \n",
       "28_bg_encoder.BatchNorm2d_1                            [4, 64, 8, 8]   \n",
       "29_bg_encoder.MaxPool2d_2                              [4, 64, 4, 4]   \n",
       "30_bg_encoder.ELU_3                                    [4, 64, 4, 4]   \n",
       "31_bg_encoder.Conv2d_4                                 [4, 73, 2, 2]   \n",
       "32_bg_encoder.BatchNorm2d_5                            [4, 73, 2, 2]   \n",
       "33_bg_encoder.MaxPool2d_6                              [4, 73, 1, 1]   \n",
       "34_znet                                               [4, 9, 16, 16]   \n",
       "35_transform_decoder.Linear_scale_center_encoder        [4, 153, 64]   \n",
       "36_transform_decoder.ELU_act                            [4, 153, 64]   \n",
       "37_transform_decoder.Bilinear_interaction1              [4, 153, 64]   \n",
       "38_transform_decoder.ELU_act                            [4, 153, 64]   \n",
       "39_transform_decoder.interaction2.Bilinear_bili...      [4, 153, 64]   \n",
       "40_transform_decoder.interaction2.Linear_linear         [4, 153, 64]   \n",
       "41_transform_decoder.ELU_act                            [4, 153, 64]   \n",
       "42_transform_decoder.Linear_linear                      [4, 153, 64]   \n",
       "43_transform_decoder.ELU_act                            [4, 153, 64]   \n",
       "44_transform_decoder.Linear_out_proj                     [4, 153, 9]   \n",
       "\n",
       "                                                      Params   Mult-Adds  \n",
       "Layer                                                                     \n",
       "0_img_encoder.conv_layers.0.Conv2d_0                   784.0   3145728.0  \n",
       "1_img_encoder.conv_layers.0.GroupNorm_1                 32.0        16.0  \n",
       "2_img_encoder.conv_layers.0.CELU_2                       NaN         NaN  \n",
       "3_img_encoder.conv_layers.1.Conv2d_0                  8224.0   8388608.0  \n",
       "4_img_encoder.conv_layers.1.GroupNorm_1                 64.0        32.0  \n",
       "5_img_encoder.conv_layers.1.CELU_2                       NaN         NaN  \n",
       "6_img_encoder.conv_layers.2.Conv2d_0                 32832.0   8388608.0  \n",
       "7_img_encoder.conv_layers.2.GroupNorm_1                128.0        64.0  \n",
       "8_img_encoder.conv_layers.2.CELU_2                       NaN         NaN  \n",
       "9_img_encoder.conv_layers.3.Conv2d_0                 73856.0  18874368.0  \n",
       "10_img_encoder.conv_layers.3.GroupNorm_1               256.0       128.0  \n",
       "11_img_encoder.conv_layers.3.CELU_2                      NaN         NaN  \n",
       "12_img_encoder.conv_layers.4.Conv2d_0               295168.0  75497472.0  \n",
       "13_img_encoder.conv_layers.4.GroupNorm_1               512.0       256.0  \n",
       "14_img_encoder.conv_layers.4.CELU_2                      NaN         NaN  \n",
       "15_img_encoder.conv_layers.5.Conv2d_0                32896.0   8388608.0  \n",
       "16_img_encoder.conv_layers.5.GroupNorm_1               256.0       128.0  \n",
       "17_img_encoder.conv_layers.5.CELU_2                      NaN         NaN  \n",
       "18_img_encoder.res_conn.0.Conv2d_0                  147584.0  37748736.0  \n",
       "19_img_encoder.res_conn.0.GroupNorm_1                  256.0       128.0  \n",
       "20_img_encoder.res_conn.0.CELU_2                         NaN         NaN  \n",
       "21_img_encoder.res_conn.1.Conv2d_0                  147584.0  37748736.0  \n",
       "22_img_encoder.res_conn.1.GroupNorm_1                  256.0       128.0  \n",
       "23_img_encoder.res_conn.1.CELU_2                         NaN         NaN  \n",
       "24_img_encoder.res_enc.Conv2d_0                     295040.0  75497472.0  \n",
       "25_img_encoder.res_enc.GroupNorm_1                     256.0       128.0  \n",
       "26_img_encoder.res_enc.CELU_2                            NaN         NaN  \n",
       "27_bg_encoder.Conv2d_0                               73792.0   4718592.0  \n",
       "28_bg_encoder.BatchNorm2d_1                            128.0        64.0  \n",
       "29_bg_encoder.MaxPool2d_2                                NaN         NaN  \n",
       "30_bg_encoder.ELU_3                                      NaN         NaN  \n",
       "31_bg_encoder.Conv2d_4                               42121.0    168192.0  \n",
       "32_bg_encoder.BatchNorm2d_5                            146.0        73.0  \n",
       "33_bg_encoder.MaxPool2d_6                                NaN         NaN  \n",
       "34_znet                                               1161.0    294912.0  \n",
       "35_transform_decoder.Linear_scale_center_encoder       320.0       256.0  \n",
       "36_transform_decoder.ELU_act                             NaN         NaN  \n",
       "37_transform_decoder.Bilinear_interaction1          262208.0    262144.0  \n",
       "38_transform_decoder.ELU_act                             NaN         NaN  \n",
       "39_transform_decoder.interaction2.Bilinear_bili...  524352.0    524288.0  \n",
       "40_transform_decoder.interaction2.Linear_linear      12288.0     12288.0  \n",
       "41_transform_decoder.ELU_act                             NaN         NaN  \n",
       "42_transform_decoder.Linear_linear                    4160.0      4096.0  \n",
       "43_transform_decoder.ELU_act                             NaN         NaN  \n",
       "44_transform_decoder.Linear_out_proj                   585.0       576.0  "
      ]
     },
     "execution_count": 8,
     "metadata": {},
     "output_type": "execute_result"
    }
   ],
   "source": [
    "scene_encoder = SceneEncoder().to(device)\n",
    "summary(scene_encoder, batch128.to(device))"
   ]
  },
  {
   "cell_type": "code",
   "execution_count": 9,
   "metadata": {
    "ExecuteTime": {
     "end_time": "2020-04-01T15:21:30.810018Z",
     "start_time": "2020-04-01T15:21:30.749487Z"
    }
   },
   "outputs": [
    {
     "name": "stdout",
     "output_type": "stream",
     "text": [
      "dict_keys(['img_feats', 'bg_feats', 'bg_transform_params', 'glimpses_info', 'obj_pres', 'valid_img_feats', 'valid_scale', 'valid_center', 'fg_transform_params'])\n",
      "Background features: torch.Size([4, 64])\n",
      "Background transform params: torch.Size([4, 9])\n",
      "Foreground features: torch.Size([4, 138, 128])\n",
      "Foreground transform params: torch.Size([4, 138, 9])\n"
     ]
    }
   ],
   "source": [
    "encoded_scene = scene_encoder(batch128.to(device))\n",
    "print(encoded_scene.keys())\n",
    "z_bg = encoded_scene['bg_feats']\n",
    "print('Background features:', z_bg.size())\n",
    "view_in_bg = encoded_scene['bg_transform_params']\n",
    "print('Background transform params:', view_in_bg.size())\n",
    "z_fg = encoded_scene['valid_img_feats']\n",
    "print('Foreground features:', z_fg.size())\n",
    "view_in_fg = encoded_scene['fg_transform_params']\n",
    "print('Foreground transform params:', view_in_fg.size())"
   ]
  },
  {
   "cell_type": "code",
   "execution_count": 10,
   "metadata": {
    "ExecuteTime": {
     "end_time": "2020-04-01T15:21:32.563139Z",
     "start_time": "2020-04-01T15:21:32.454676Z"
    }
   },
   "outputs": [],
   "source": [
    "generator = Generator(z_dim_bg=64, z_dim_fg=128, use_learnable_proj=False, use_inverse_transform=False).to(device)"
   ]
  },
  {
   "cell_type": "code",
   "execution_count": 11,
   "metadata": {
    "ExecuteTime": {
     "end_time": "2020-04-01T15:21:33.147405Z",
     "start_time": "2020-04-01T15:21:32.918640Z"
    }
   },
   "outputs": [
    {
     "name": "stderr",
     "output_type": "stream",
     "text": [
      "/home/samenabar/.venvs/grievous/lib/python3.6/site-packages/torch/nn/functional.py:2764: UserWarning: Default grid_sample and affine_grid behavior has changed to align_corners=False since 1.3.0. Please specify align_corners=True if the old behavior is desired. See the documentation of grid_sample for details.\n",
      "  warnings.warn(\"Default grid_sample and affine_grid behavior has changed \"\n",
      "/home/samenabar/.venvs/grievous/lib/python3.6/site-packages/torch/nn/functional.py:2705: UserWarning: Default grid_sample and affine_grid behavior has changed to align_corners=False since 1.3.0. Please specify align_corners=True if the old behavior is desired. See the documentation of grid_sample for details.\n",
      "  warnings.warn(\"Default grid_sample and affine_grid behavior has changed \"\n"
     ]
    }
   ],
   "source": [
    "generated = generator(z_bg=z_bg, z_fg=z_fg, view_in_bg=view_in_bg, view_in_fg=view_in_fg)"
   ]
  },
  {
   "cell_type": "code",
   "execution_count": 13,
   "metadata": {
    "ExecuteTime": {
     "end_time": "2020-04-01T15:22:06.879231Z",
     "start_time": "2020-04-01T15:22:06.836958Z"
    }
   },
   "outputs": [
    {
     "data": {
      "image/png": "[encoded data removed]",
      "text/plain": [
       "<PIL.Image.Image image mode=RGB size=64x64 at 0x7F4628065E10>"
      ]
     },
     "execution_count": 13,
     "metadata": {},
     "output_type": "execute_result"
    }
   ],
   "source": [
    "T.functional.to_pil_image(generated[0].cpu())"
   ]
  },
  {
   "cell_type": "code",
   "execution_count": 14,
   "metadata": {
    "ExecuteTime": {
     "end_time": "2020-04-01T15:22:08.904687Z",
     "start_time": "2020-04-01T15:22:08.608437Z"
    }
   },
   "outputs": [
    {
     "name": "stdout",
     "output_type": "stream",
     "text": [
      "====================================================================================================================\n",
      "                                                         Kernel Shape  \\\n",
      "Layer                                                                   \n",
      "0_bg_generator.adain0.Linear_z_proj                         [64, 512]   \n",
      "1_bg_generator.adain0.ReLU_relu                                     -   \n",
      "2_bg_generator.adain0.InstanceNorm3d_ins_norm                       -   \n",
      "3_bg_generator.LeakyReLU_lrelu                                      -   \n",
      "4_bg_generator.deconvs.ConvTranspose3d_0          [128, 256, 3, 3, 3]   \n",
      "5_bg_generator.adains.0.Linear_z_proj                       [64, 256]   \n",
      "6_bg_generator.adains.0.ReLU_relu                                   -   \n",
      "7_bg_generator.adains.0.InstanceNorm3d_ins_norm                     -   \n",
      "8_bg_generator.LeakyReLU_lrelu                                      -   \n",
      "9_bg_generator.deconvs.ConvTranspose3d_1           [64, 128, 3, 3, 3]   \n",
      "10_bg_generator.adains.1.Linear_z_proj                      [64, 128]   \n",
      "11_bg_generator.adains.1.ReLU_relu                                  -   \n",
      "12_bg_generator.adains.1.InstanceNorm3d_ins_norm                    -   \n",
      "13_bg_generator.LeakyReLU_lrelu                                     -   \n",
      "14_fg_generator.adain0.Linear_z_proj                      [128, 1024]   \n",
      "15_fg_generator.adain0.ReLU_relu                                    -   \n",
      "16_fg_generator.adain0.InstanceNorm3d_ins_norm                      -   \n",
      "17_fg_generator.LeakyReLU_lrelu                                     -   \n",
      "18_fg_generator.deconvs.ConvTranspose3d_0         [128, 512, 3, 3, 3]   \n",
      "19_fg_generator.adains.0.Linear_z_proj                     [128, 256]   \n",
      "20_fg_generator.adains.0.ReLU_relu                                  -   \n",
      "21_fg_generator.adains.0.InstanceNorm3d_ins_norm                    -   \n",
      "22_fg_generator.LeakyReLU_lrelu                                     -   \n",
      "23_fg_generator.deconvs.ConvTranspose3d_1          [64, 128, 3, 3, 3]   \n",
      "24_fg_generator.adains.1.Linear_z_proj                     [128, 128]   \n",
      "25_fg_generator.adains.1.ReLU_relu                                  -   \n",
      "26_fg_generator.adains.1.InstanceNorm3d_ins_norm                    -   \n",
      "27_fg_generator.LeakyReLU_lrelu                                     -   \n",
      "28_proj_conv                                        [1024, 256, 1, 1]   \n",
      "29_lrelu                                                            -   \n",
      "30_deconvs.ConvTranspose2d_0                          [64, 256, 4, 4]   \n",
      "31_inst_norms.0.Linear_z_proj                               [64, 128]   \n",
      "32_inst_norms.0.ReLU_relu                                           -   \n",
      "33_inst_norms.0.InstanceNorm2d_ins_norm                             -   \n",
      "34_lrelu                                                            -   \n",
      "35_deconvs.ConvTranspose2d_1                           [64, 64, 4, 4]   \n",
      "36_inst_norms.1.Linear_z_proj                               [64, 128]   \n",
      "37_inst_norms.1.ReLU_relu                                           -   \n",
      "38_inst_norms.1.InstanceNorm2d_ins_norm                             -   \n",
      "39_lrelu                                                            -   \n",
      "40_out_conv                                             [3, 64, 5, 5]   \n",
      "\n",
      "                                                           Output Shape  \\\n",
      "Layer                                                                     \n",
      "0_bg_generator.adain0.Linear_z_proj                            [4, 512]   \n",
      "1_bg_generator.adain0.ReLU_relu                                [4, 512]   \n",
      "2_bg_generator.adain0.InstanceNorm3d_ins_norm         [4, 256, 4, 4, 4]   \n",
      "3_bg_generator.LeakyReLU_lrelu                        [4, 256, 4, 4, 4]   \n",
      "4_bg_generator.deconvs.ConvTranspose3d_0              [4, 128, 8, 8, 8]   \n",
      "5_bg_generator.adains.0.Linear_z_proj                          [4, 256]   \n",
      "6_bg_generator.adains.0.ReLU_relu                              [4, 256]   \n",
      "7_bg_generator.adains.0.InstanceNorm3d_ins_norm       [4, 128, 8, 8, 8]   \n",
      "8_bg_generator.LeakyReLU_lrelu                        [4, 128, 8, 8, 8]   \n",
      "9_bg_generator.deconvs.ConvTranspose3d_1            [4, 64, 16, 16, 16]   \n",
      "10_bg_generator.adains.1.Linear_z_proj                         [4, 128]   \n",
      "11_bg_generator.adains.1.ReLU_relu                             [4, 128]   \n",
      "12_bg_generator.adains.1.InstanceNorm3d_ins_norm    [4, 64, 16, 16, 16]   \n",
      "13_bg_generator.LeakyReLU_lrelu                     [4, 64, 16, 16, 16]   \n",
      "14_fg_generator.adain0.Linear_z_proj                        [552, 1024]   \n",
      "15_fg_generator.adain0.ReLU_relu                            [552, 1024]   \n",
      "16_fg_generator.adain0.InstanceNorm3d_ins_norm      [552, 512, 4, 4, 4]   \n",
      "17_fg_generator.LeakyReLU_lrelu                     [552, 512, 4, 4, 4]   \n",
      "18_fg_generator.deconvs.ConvTranspose3d_0           [552, 128, 8, 8, 8]   \n",
      "19_fg_generator.adains.0.Linear_z_proj                       [552, 256]   \n",
      "20_fg_generator.adains.0.ReLU_relu                           [552, 256]   \n",
      "21_fg_generator.adains.0.InstanceNorm3d_ins_norm    [552, 128, 8, 8, 8]   \n",
      "22_fg_generator.LeakyReLU_lrelu                     [552, 128, 8, 8, 8]   \n",
      "23_fg_generator.deconvs.ConvTranspose3d_1         [552, 64, 16, 16, 16]   \n",
      "24_fg_generator.adains.1.Linear_z_proj                       [552, 128]   \n",
      "25_fg_generator.adains.1.ReLU_relu                           [552, 128]   \n",
      "26_fg_generator.adains.1.InstanceNorm3d_ins_norm  [552, 64, 16, 16, 16]   \n",
      "27_fg_generator.LeakyReLU_lrelu                   [552, 64, 16, 16, 16]   \n",
      "28_proj_conv                                           [4, 256, 16, 16]   \n",
      "29_lrelu                                               [4, 256, 16, 16]   \n",
      "30_deconvs.ConvTranspose2d_0                            [4, 64, 32, 32]   \n",
      "31_inst_norms.0.Linear_z_proj                                  [4, 128]   \n",
      "32_inst_norms.0.ReLU_relu                                      [4, 128]   \n",
      "33_inst_norms.0.InstanceNorm2d_ins_norm                 [4, 64, 32, 32]   \n",
      "34_lrelu                                                [4, 64, 32, 32]   \n",
      "35_deconvs.ConvTranspose2d_1                            [4, 64, 64, 64]   \n",
      "36_inst_norms.1.Linear_z_proj                                  [4, 128]   \n",
      "37_inst_norms.1.ReLU_relu                                      [4, 128]   \n",
      "38_inst_norms.1.InstanceNorm2d_ins_norm                 [4, 64, 64, 64]   \n",
      "39_lrelu                                                [4, 64, 64, 64]   \n",
      "40_out_conv                                              [4, 3, 64, 64]   \n",
      "\n",
      "                                                    Params    Mult-Adds  \n",
      "Layer                                                                    \n",
      "0_bg_generator.adain0.Linear_z_proj                 33.28k      32.768k  \n",
      "1_bg_generator.adain0.ReLU_relu                          -            -  \n",
      "2_bg_generator.adain0.InstanceNorm3d_ins_norm            -            -  \n",
      "3_bg_generator.LeakyReLU_lrelu                           -            -  \n",
      "4_bg_generator.deconvs.ConvTranspose3d_0          884.864k  452.984832M  \n",
      "5_bg_generator.adains.0.Linear_z_proj               16.64k      16.384k  \n",
      "6_bg_generator.adains.0.ReLU_relu                        -            -  \n",
      "7_bg_generator.adains.0.InstanceNorm3d_ins_norm          -            -  \n",
      "8_bg_generator.LeakyReLU_lrelu                           -            -  \n",
      "9_bg_generator.deconvs.ConvTranspose3d_1          221.248k  905.969664M  \n",
      "10_bg_generator.adains.1.Linear_z_proj               8.32k       8.192k  \n",
      "11_bg_generator.adains.1.ReLU_relu                       -            -  \n",
      "12_bg_generator.adains.1.InstanceNorm3d_ins_norm         -            -  \n",
      "13_bg_generator.LeakyReLU_lrelu                          -            -  \n",
      "14_fg_generator.adain0.Linear_z_proj              132.096k     131.072k  \n",
      "15_fg_generator.adain0.ReLU_relu                         -            -  \n",
      "16_fg_generator.adain0.InstanceNorm3d_ins_norm           -            -  \n",
      "17_fg_generator.LeakyReLU_lrelu                          -            -  \n",
      "18_fg_generator.deconvs.ConvTranspose3d_0          1.7696M  905.969664M  \n",
      "19_fg_generator.adains.0.Linear_z_proj             33.024k      32.768k  \n",
      "20_fg_generator.adains.0.ReLU_relu                       -            -  \n",
      "21_fg_generator.adains.0.InstanceNorm3d_ins_norm         -            -  \n",
      "22_fg_generator.LeakyReLU_lrelu                          -            -  \n",
      "23_fg_generator.deconvs.ConvTranspose3d_1         221.248k  905.969664M  \n",
      "24_fg_generator.adains.1.Linear_z_proj             16.512k      16.384k  \n",
      "25_fg_generator.adains.1.ReLU_relu                       -            -  \n",
      "26_fg_generator.adains.1.InstanceNorm3d_ins_norm         -            -  \n",
      "27_fg_generator.LeakyReLU_lrelu                          -            -  \n",
      "28_proj_conv                                        262.4k   67.108864M  \n",
      "29_lrelu                                                 -            -  \n",
      "30_deconvs.ConvTranspose2d_0                      262.208k  268.435456M  \n",
      "31_inst_norms.0.Linear_z_proj                        8.32k       8.192k  \n",
      "32_inst_norms.0.ReLU_relu                                -            -  \n",
      "33_inst_norms.0.InstanceNorm2d_ins_norm                  -            -  \n",
      "34_lrelu                                                 -            -  \n",
      "35_deconvs.ConvTranspose2d_1                         65.6k  268.435456M  \n",
      "36_inst_norms.1.Linear_z_proj                        8.32k       8.192k  \n",
      "37_inst_norms.1.ReLU_relu                                -            -  \n",
      "38_inst_norms.1.InstanceNorm2d_ins_norm                  -            -  \n",
      "39_lrelu                                                 -            -  \n",
      "40_out_conv                                         4.803k     19.6608M  \n",
      "--------------------------------------------------------------------------------------------------------------------\n",
      "                            Totals\n",
      "Total params             3.948483M\n",
      "Trainable params         3.948483M\n",
      "Non-trainable params           0.0\n",
      "Mult-Adds             3.794788352G\n",
      "====================================================================================================================\n"
     ]
    },
    {
     "data": {
      "text/html": [
       "<div>\n",
       "<style scoped>\n",
       "    .dataframe tbody tr th:only-of-type {\n",
       "        vertical-align: middle;\n",
       "    }\n",
       "\n",
       "    .dataframe tbody tr th {\n",
       "        vertical-align: top;\n",
       "    }\n",
       "\n",
       "    .dataframe thead th {\n",
       "        text-align: right;\n",
       "    }\n",
       "</style>\n",
       "<table border=\"1\" class=\"dataframe\">\n",
       "  <thead>\n",
       "    <tr style=\"text-align: right;\">\n",
       "      <th></th>\n",
       "      <th>Kernel Shape</th>\n",
       "      <th>Output Shape</th>\n",
       "      <th>Params</th>\n",
       "      <th>Mult-Adds</th>\n",
       "    </tr>\n",
       "    <tr>\n",
       "      <th>Layer</th>\n",
       "      <th></th>\n",
       "      <th></th>\n",
       "      <th></th>\n",
       "      <th></th>\n",
       "    </tr>\n",
       "  </thead>\n",
       "  <tbody>\n",
       "    <tr>\n",
       "      <td>0_bg_generator.adain0.Linear_z_proj</td>\n",
       "      <td>[64, 512]</td>\n",
       "      <td>[4, 512]</td>\n",
       "      <td>33280.0</td>\n",
       "      <td>32768.0</td>\n",
       "    </tr>\n",
       "    <tr>\n",
       "      <td>1_bg_generator.adain0.ReLU_relu</td>\n",
       "      <td>-</td>\n",
       "      <td>[4, 512]</td>\n",
       "      <td>NaN</td>\n",
       "      <td>NaN</td>\n",
       "    </tr>\n",
       "    <tr>\n",
       "      <td>2_bg_generator.adain0.InstanceNorm3d_ins_norm</td>\n",
       "      <td>-</td>\n",
       "      <td>[4, 256, 4, 4, 4]</td>\n",
       "      <td>NaN</td>\n",
       "      <td>NaN</td>\n",
       "    </tr>\n",
       "    <tr>\n",
       "      <td>3_bg_generator.LeakyReLU_lrelu</td>\n",
       "      <td>-</td>\n",
       "      <td>[4, 256, 4, 4, 4]</td>\n",
       "      <td>NaN</td>\n",
       "      <td>NaN</td>\n",
       "    </tr>\n",
       "    <tr>\n",
       "      <td>4_bg_generator.deconvs.ConvTranspose3d_0</td>\n",
       "      <td>[128, 256, 3, 3, 3]</td>\n",
       "      <td>[4, 128, 8, 8, 8]</td>\n",
       "      <td>884864.0</td>\n",
       "      <td>452984832.0</td>\n",
       "    </tr>\n",
       "    <tr>\n",
       "      <td>5_bg_generator.adains.0.Linear_z_proj</td>\n",
       "      <td>[64, 256]</td>\n",
       "      <td>[4, 256]</td>\n",
       "      <td>16640.0</td>\n",
       "      <td>16384.0</td>\n",
       "    </tr>\n",
       "    <tr>\n",
       "      <td>6_bg_generator.adains.0.ReLU_relu</td>\n",
       "      <td>-</td>\n",
       "      <td>[4, 256]</td>\n",
       "      <td>NaN</td>\n",
       "      <td>NaN</td>\n",
       "    </tr>\n",
       "    <tr>\n",
       "      <td>7_bg_generator.adains.0.InstanceNorm3d_ins_norm</td>\n",
       "      <td>-</td>\n",
       "      <td>[4, 128, 8, 8, 8]</td>\n",
       "      <td>NaN</td>\n",
       "      <td>NaN</td>\n",
       "    </tr>\n",
       "    <tr>\n",
       "      <td>8_bg_generator.LeakyReLU_lrelu</td>\n",
       "      <td>-</td>\n",
       "      <td>[4, 128, 8, 8, 8]</td>\n",
       "      <td>NaN</td>\n",
       "      <td>NaN</td>\n",
       "    </tr>\n",
       "    <tr>\n",
       "      <td>9_bg_generator.deconvs.ConvTranspose3d_1</td>\n",
       "      <td>[64, 128, 3, 3, 3]</td>\n",
       "      <td>[4, 64, 16, 16, 16]</td>\n",
       "      <td>221248.0</td>\n",
       "      <td>905969664.0</td>\n",
       "    </tr>\n",
       "    <tr>\n",
       "      <td>10_bg_generator.adains.1.Linear_z_proj</td>\n",
       "      <td>[64, 128]</td>\n",
       "      <td>[4, 128]</td>\n",
       "      <td>8320.0</td>\n",
       "      <td>8192.0</td>\n",
       "    </tr>\n",
       "    <tr>\n",
       "      <td>11_bg_generator.adains.1.ReLU_relu</td>\n",
       "      <td>-</td>\n",
       "      <td>[4, 128]</td>\n",
       "      <td>NaN</td>\n",
       "      <td>NaN</td>\n",
       "    </tr>\n",
       "    <tr>\n",
       "      <td>12_bg_generator.adains.1.InstanceNorm3d_ins_norm</td>\n",
       "      <td>-</td>\n",
       "      <td>[4, 64, 16, 16, 16]</td>\n",
       "      <td>NaN</td>\n",
       "      <td>NaN</td>\n",
       "    </tr>\n",
       "    <tr>\n",
       "      <td>13_bg_generator.LeakyReLU_lrelu</td>\n",
       "      <td>-</td>\n",
       "      <td>[4, 64, 16, 16, 16]</td>\n",
       "      <td>NaN</td>\n",
       "      <td>NaN</td>\n",
       "    </tr>\n",
       "    <tr>\n",
       "      <td>14_fg_generator.adain0.Linear_z_proj</td>\n",
       "      <td>[128, 1024]</td>\n",
       "      <td>[552, 1024]</td>\n",
       "      <td>132096.0</td>\n",
       "      <td>131072.0</td>\n",
       "    </tr>\n",
       "    <tr>\n",
       "      <td>15_fg_generator.adain0.ReLU_relu</td>\n",
       "      <td>-</td>\n",
       "      <td>[552, 1024]</td>\n",
       "      <td>NaN</td>\n",
       "      <td>NaN</td>\n",
       "    </tr>\n",
       "    <tr>\n",
       "      <td>16_fg_generator.adain0.InstanceNorm3d_ins_norm</td>\n",
       "      <td>-</td>\n",
       "      <td>[552, 512, 4, 4, 4]</td>\n",
       "      <td>NaN</td>\n",
       "      <td>NaN</td>\n",
       "    </tr>\n",
       "    <tr>\n",
       "      <td>17_fg_generator.LeakyReLU_lrelu</td>\n",
       "      <td>-</td>\n",
       "      <td>[552, 512, 4, 4, 4]</td>\n",
       "      <td>NaN</td>\n",
       "      <td>NaN</td>\n",
       "    </tr>\n",
       "    <tr>\n",
       "      <td>18_fg_generator.deconvs.ConvTranspose3d_0</td>\n",
       "      <td>[128, 512, 3, 3, 3]</td>\n",
       "      <td>[552, 128, 8, 8, 8]</td>\n",
       "      <td>1769600.0</td>\n",
       "      <td>905969664.0</td>\n",
       "    </tr>\n",
       "    <tr>\n",
       "      <td>19_fg_generator.adains.0.Linear_z_proj</td>\n",
       "      <td>[128, 256]</td>\n",
       "      <td>[552, 256]</td>\n",
       "      <td>33024.0</td>\n",
       "      <td>32768.0</td>\n",
       "    </tr>\n",
       "    <tr>\n",
       "      <td>20_fg_generator.adains.0.ReLU_relu</td>\n",
       "      <td>-</td>\n",
       "      <td>[552, 256]</td>\n",
       "      <td>NaN</td>\n",
       "      <td>NaN</td>\n",
       "    </tr>\n",
       "    <tr>\n",
       "      <td>21_fg_generator.adains.0.InstanceNorm3d_ins_norm</td>\n",
       "      <td>-</td>\n",
       "      <td>[552, 128, 8, 8, 8]</td>\n",
       "      <td>NaN</td>\n",
       "      <td>NaN</td>\n",
       "    </tr>\n",
       "    <tr>\n",
       "      <td>22_fg_generator.LeakyReLU_lrelu</td>\n",
       "      <td>-</td>\n",
       "      <td>[552, 128, 8, 8, 8]</td>\n",
       "      <td>NaN</td>\n",
       "      <td>NaN</td>\n",
       "    </tr>\n",
       "    <tr>\n",
       "      <td>23_fg_generator.deconvs.ConvTranspose3d_1</td>\n",
       "      <td>[64, 128, 3, 3, 3]</td>\n",
       "      <td>[552, 64, 16, 16, 16]</td>\n",
       "      <td>221248.0</td>\n",
       "      <td>905969664.0</td>\n",
       "    </tr>\n",
       "    <tr>\n",
       "      <td>24_fg_generator.adains.1.Linear_z_proj</td>\n",
       "      <td>[128, 128]</td>\n",
       "      <td>[552, 128]</td>\n",
       "      <td>16512.0</td>\n",
       "      <td>16384.0</td>\n",
       "    </tr>\n",
       "    <tr>\n",
       "      <td>25_fg_generator.adains.1.ReLU_relu</td>\n",
       "      <td>-</td>\n",
       "      <td>[552, 128]</td>\n",
       "      <td>NaN</td>\n",
       "      <td>NaN</td>\n",
       "    </tr>\n",
       "    <tr>\n",
       "      <td>26_fg_generator.adains.1.InstanceNorm3d_ins_norm</td>\n",
       "      <td>-</td>\n",
       "      <td>[552, 64, 16, 16, 16]</td>\n",
       "      <td>NaN</td>\n",
       "      <td>NaN</td>\n",
       "    </tr>\n",
       "    <tr>\n",
       "      <td>27_fg_generator.LeakyReLU_lrelu</td>\n",
       "      <td>-</td>\n",
       "      <td>[552, 64, 16, 16, 16]</td>\n",
       "      <td>NaN</td>\n",
       "      <td>NaN</td>\n",
       "    </tr>\n",
       "    <tr>\n",
       "      <td>28_proj_conv</td>\n",
       "      <td>[1024, 256, 1, 1]</td>\n",
       "      <td>[4, 256, 16, 16]</td>\n",
       "      <td>262400.0</td>\n",
       "      <td>67108864.0</td>\n",
       "    </tr>\n",
       "    <tr>\n",
       "      <td>29_lrelu</td>\n",
       "      <td>-</td>\n",
       "      <td>[4, 256, 16, 16]</td>\n",
       "      <td>NaN</td>\n",
       "      <td>NaN</td>\n",
       "    </tr>\n",
       "    <tr>\n",
       "      <td>30_deconvs.ConvTranspose2d_0</td>\n",
       "      <td>[64, 256, 4, 4]</td>\n",
       "      <td>[4, 64, 32, 32]</td>\n",
       "      <td>262208.0</td>\n",
       "      <td>268435456.0</td>\n",
       "    </tr>\n",
       "    <tr>\n",
       "      <td>31_inst_norms.0.Linear_z_proj</td>\n",
       "      <td>[64, 128]</td>\n",
       "      <td>[4, 128]</td>\n",
       "      <td>8320.0</td>\n",
       "      <td>8192.0</td>\n",
       "    </tr>\n",
       "    <tr>\n",
       "      <td>32_inst_norms.0.ReLU_relu</td>\n",
       "      <td>-</td>\n",
       "      <td>[4, 128]</td>\n",
       "      <td>NaN</td>\n",
       "      <td>NaN</td>\n",
       "    </tr>\n",
       "    <tr>\n",
       "      <td>33_inst_norms.0.InstanceNorm2d_ins_norm</td>\n",
       "      <td>-</td>\n",
       "      <td>[4, 64, 32, 32]</td>\n",
       "      <td>NaN</td>\n",
       "      <td>NaN</td>\n",
       "    </tr>\n",
       "    <tr>\n",
       "      <td>34_lrelu</td>\n",
       "      <td>-</td>\n",
       "      <td>[4, 64, 32, 32]</td>\n",
       "      <td>NaN</td>\n",
       "      <td>NaN</td>\n",
       "    </tr>\n",
       "    <tr>\n",
       "      <td>35_deconvs.ConvTranspose2d_1</td>\n",
       "      <td>[64, 64, 4, 4]</td>\n",
       "      <td>[4, 64, 64, 64]</td>\n",
       "      <td>65600.0</td>\n",
       "      <td>268435456.0</td>\n",
       "    </tr>\n",
       "    <tr>\n",
       "      <td>36_inst_norms.1.Linear_z_proj</td>\n",
       "      <td>[64, 128]</td>\n",
       "      <td>[4, 128]</td>\n",
       "      <td>8320.0</td>\n",
       "      <td>8192.0</td>\n",
       "    </tr>\n",
       "    <tr>\n",
       "      <td>37_inst_norms.1.ReLU_relu</td>\n",
       "      <td>-</td>\n",
       "      <td>[4, 128]</td>\n",
       "      <td>NaN</td>\n",
       "      <td>NaN</td>\n",
       "    </tr>\n",
       "    <tr>\n",
       "      <td>38_inst_norms.1.InstanceNorm2d_ins_norm</td>\n",
       "      <td>-</td>\n",
       "      <td>[4, 64, 64, 64]</td>\n",
       "      <td>NaN</td>\n",
       "      <td>NaN</td>\n",
       "    </tr>\n",
       "    <tr>\n",
       "      <td>39_lrelu</td>\n",
       "      <td>-</td>\n",
       "      <td>[4, 64, 64, 64]</td>\n",
       "      <td>NaN</td>\n",
       "      <td>NaN</td>\n",
       "    </tr>\n",
       "    <tr>\n",
       "      <td>40_out_conv</td>\n",
       "      <td>[3, 64, 5, 5]</td>\n",
       "      <td>[4, 3, 64, 64]</td>\n",
       "      <td>4803.0</td>\n",
       "      <td>19660800.0</td>\n",
       "    </tr>\n",
       "  </tbody>\n",
       "</table>\n",
       "</div>"
      ],
      "text/plain": [
       "                                                         Kernel Shape  \\\n",
       "Layer                                                                   \n",
       "0_bg_generator.adain0.Linear_z_proj                         [64, 512]   \n",
       "1_bg_generator.adain0.ReLU_relu                                     -   \n",
       "2_bg_generator.adain0.InstanceNorm3d_ins_norm                       -   \n",
       "3_bg_generator.LeakyReLU_lrelu                                      -   \n",
       "4_bg_generator.deconvs.ConvTranspose3d_0          [128, 256, 3, 3, 3]   \n",
       "5_bg_generator.adains.0.Linear_z_proj                       [64, 256]   \n",
       "6_bg_generator.adains.0.ReLU_relu                                   -   \n",
       "7_bg_generator.adains.0.InstanceNorm3d_ins_norm                     -   \n",
       "8_bg_generator.LeakyReLU_lrelu                                      -   \n",
       "9_bg_generator.deconvs.ConvTranspose3d_1           [64, 128, 3, 3, 3]   \n",
       "10_bg_generator.adains.1.Linear_z_proj                      [64, 128]   \n",
       "11_bg_generator.adains.1.ReLU_relu                                  -   \n",
       "12_bg_generator.adains.1.InstanceNorm3d_ins_norm                    -   \n",
       "13_bg_generator.LeakyReLU_lrelu                                     -   \n",
       "14_fg_generator.adain0.Linear_z_proj                      [128, 1024]   \n",
       "15_fg_generator.adain0.ReLU_relu                                    -   \n",
       "16_fg_generator.adain0.InstanceNorm3d_ins_norm                      -   \n",
       "17_fg_generator.LeakyReLU_lrelu                                     -   \n",
       "18_fg_generator.deconvs.ConvTranspose3d_0         [128, 512, 3, 3, 3]   \n",
       "19_fg_generator.adains.0.Linear_z_proj                     [128, 256]   \n",
       "20_fg_generator.adains.0.ReLU_relu                                  -   \n",
       "21_fg_generator.adains.0.InstanceNorm3d_ins_norm                    -   \n",
       "22_fg_generator.LeakyReLU_lrelu                                     -   \n",
       "23_fg_generator.deconvs.ConvTranspose3d_1          [64, 128, 3, 3, 3]   \n",
       "24_fg_generator.adains.1.Linear_z_proj                     [128, 128]   \n",
       "25_fg_generator.adains.1.ReLU_relu                                  -   \n",
       "26_fg_generator.adains.1.InstanceNorm3d_ins_norm                    -   \n",
       "27_fg_generator.LeakyReLU_lrelu                                     -   \n",
       "28_proj_conv                                        [1024, 256, 1, 1]   \n",
       "29_lrelu                                                            -   \n",
       "30_deconvs.ConvTranspose2d_0                          [64, 256, 4, 4]   \n",
       "31_inst_norms.0.Linear_z_proj                               [64, 128]   \n",
       "32_inst_norms.0.ReLU_relu                                           -   \n",
       "33_inst_norms.0.InstanceNorm2d_ins_norm                             -   \n",
       "34_lrelu                                                            -   \n",
       "35_deconvs.ConvTranspose2d_1                           [64, 64, 4, 4]   \n",
       "36_inst_norms.1.Linear_z_proj                               [64, 128]   \n",
       "37_inst_norms.1.ReLU_relu                                           -   \n",
       "38_inst_norms.1.InstanceNorm2d_ins_norm                             -   \n",
       "39_lrelu                                                            -   \n",
       "40_out_conv                                             [3, 64, 5, 5]   \n",
       "\n",
       "                                                           Output Shape  \\\n",
       "Layer                                                                     \n",
       "0_bg_generator.adain0.Linear_z_proj                            [4, 512]   \n",
       "1_bg_generator.adain0.ReLU_relu                                [4, 512]   \n",
       "2_bg_generator.adain0.InstanceNorm3d_ins_norm         [4, 256, 4, 4, 4]   \n",
       "3_bg_generator.LeakyReLU_lrelu                        [4, 256, 4, 4, 4]   \n",
       "4_bg_generator.deconvs.ConvTranspose3d_0              [4, 128, 8, 8, 8]   \n",
       "5_bg_generator.adains.0.Linear_z_proj                          [4, 256]   \n",
       "6_bg_generator.adains.0.ReLU_relu                              [4, 256]   \n",
       "7_bg_generator.adains.0.InstanceNorm3d_ins_norm       [4, 128, 8, 8, 8]   \n",
       "8_bg_generator.LeakyReLU_lrelu                        [4, 128, 8, 8, 8]   \n",
       "9_bg_generator.deconvs.ConvTranspose3d_1            [4, 64, 16, 16, 16]   \n",
       "10_bg_generator.adains.1.Linear_z_proj                         [4, 128]   \n",
       "11_bg_generator.adains.1.ReLU_relu                             [4, 128]   \n",
       "12_bg_generator.adains.1.InstanceNorm3d_ins_norm    [4, 64, 16, 16, 16]   \n",
       "13_bg_generator.LeakyReLU_lrelu                     [4, 64, 16, 16, 16]   \n",
       "14_fg_generator.adain0.Linear_z_proj                        [552, 1024]   \n",
       "15_fg_generator.adain0.ReLU_relu                            [552, 1024]   \n",
       "16_fg_generator.adain0.InstanceNorm3d_ins_norm      [552, 512, 4, 4, 4]   \n",
       "17_fg_generator.LeakyReLU_lrelu                     [552, 512, 4, 4, 4]   \n",
       "18_fg_generator.deconvs.ConvTranspose3d_0           [552, 128, 8, 8, 8]   \n",
       "19_fg_generator.adains.0.Linear_z_proj                       [552, 256]   \n",
       "20_fg_generator.adains.0.ReLU_relu                           [552, 256]   \n",
       "21_fg_generator.adains.0.InstanceNorm3d_ins_norm    [552, 128, 8, 8, 8]   \n",
       "22_fg_generator.LeakyReLU_lrelu                     [552, 128, 8, 8, 8]   \n",
       "23_fg_generator.deconvs.ConvTranspose3d_1         [552, 64, 16, 16, 16]   \n",
       "24_fg_generator.adains.1.Linear_z_proj                       [552, 128]   \n",
       "25_fg_generator.adains.1.ReLU_relu                           [552, 128]   \n",
       "26_fg_generator.adains.1.InstanceNorm3d_ins_norm  [552, 64, 16, 16, 16]   \n",
       "27_fg_generator.LeakyReLU_lrelu                   [552, 64, 16, 16, 16]   \n",
       "28_proj_conv                                           [4, 256, 16, 16]   \n",
       "29_lrelu                                               [4, 256, 16, 16]   \n",
       "30_deconvs.ConvTranspose2d_0                            [4, 64, 32, 32]   \n",
       "31_inst_norms.0.Linear_z_proj                                  [4, 128]   \n",
       "32_inst_norms.0.ReLU_relu                                      [4, 128]   \n",
       "33_inst_norms.0.InstanceNorm2d_ins_norm                 [4, 64, 32, 32]   \n",
       "34_lrelu                                                [4, 64, 32, 32]   \n",
       "35_deconvs.ConvTranspose2d_1                            [4, 64, 64, 64]   \n",
       "36_inst_norms.1.Linear_z_proj                                  [4, 128]   \n",
       "37_inst_norms.1.ReLU_relu                                      [4, 128]   \n",
       "38_inst_norms.1.InstanceNorm2d_ins_norm                 [4, 64, 64, 64]   \n",
       "39_lrelu                                                [4, 64, 64, 64]   \n",
       "40_out_conv                                              [4, 3, 64, 64]   \n",
       "\n",
       "                                                     Params    Mult-Adds  \n",
       "Layer                                                                     \n",
       "0_bg_generator.adain0.Linear_z_proj                 33280.0      32768.0  \n",
       "1_bg_generator.adain0.ReLU_relu                         NaN          NaN  \n",
       "2_bg_generator.adain0.InstanceNorm3d_ins_norm           NaN          NaN  \n",
       "3_bg_generator.LeakyReLU_lrelu                          NaN          NaN  \n",
       "4_bg_generator.deconvs.ConvTranspose3d_0           884864.0  452984832.0  \n",
       "5_bg_generator.adains.0.Linear_z_proj               16640.0      16384.0  \n",
       "6_bg_generator.adains.0.ReLU_relu                       NaN          NaN  \n",
       "7_bg_generator.adains.0.InstanceNorm3d_ins_norm         NaN          NaN  \n",
       "8_bg_generator.LeakyReLU_lrelu                          NaN          NaN  \n",
       "9_bg_generator.deconvs.ConvTranspose3d_1           221248.0  905969664.0  \n",
       "10_bg_generator.adains.1.Linear_z_proj               8320.0       8192.0  \n",
       "11_bg_generator.adains.1.ReLU_relu                      NaN          NaN  \n",
       "12_bg_generator.adains.1.InstanceNorm3d_ins_norm        NaN          NaN  \n",
       "13_bg_generator.LeakyReLU_lrelu                         NaN          NaN  \n",
       "14_fg_generator.adain0.Linear_z_proj               132096.0     131072.0  \n",
       "15_fg_generator.adain0.ReLU_relu                        NaN          NaN  \n",
       "16_fg_generator.adain0.InstanceNorm3d_ins_norm          NaN          NaN  \n",
       "17_fg_generator.LeakyReLU_lrelu                         NaN          NaN  \n",
       "18_fg_generator.deconvs.ConvTranspose3d_0         1769600.0  905969664.0  \n",
       "19_fg_generator.adains.0.Linear_z_proj              33024.0      32768.0  \n",
       "20_fg_generator.adains.0.ReLU_relu                      NaN          NaN  \n",
       "21_fg_generator.adains.0.InstanceNorm3d_ins_norm        NaN          NaN  \n",
       "22_fg_generator.LeakyReLU_lrelu                         NaN          NaN  \n",
       "23_fg_generator.deconvs.ConvTranspose3d_1          221248.0  905969664.0  \n",
       "24_fg_generator.adains.1.Linear_z_proj              16512.0      16384.0  \n",
       "25_fg_generator.adains.1.ReLU_relu                      NaN          NaN  \n",
       "26_fg_generator.adains.1.InstanceNorm3d_ins_norm        NaN          NaN  \n",
       "27_fg_generator.LeakyReLU_lrelu                         NaN          NaN  \n",
       "28_proj_conv                                       262400.0   67108864.0  \n",
       "29_lrelu                                                NaN          NaN  \n",
       "30_deconvs.ConvTranspose2d_0                       262208.0  268435456.0  \n",
       "31_inst_norms.0.Linear_z_proj                        8320.0       8192.0  \n",
       "32_inst_norms.0.ReLU_relu                               NaN          NaN  \n",
       "33_inst_norms.0.InstanceNorm2d_ins_norm                 NaN          NaN  \n",
       "34_lrelu                                                NaN          NaN  \n",
       "35_deconvs.ConvTranspose2d_1                        65600.0  268435456.0  \n",
       "36_inst_norms.1.Linear_z_proj                        8320.0       8192.0  \n",
       "37_inst_norms.1.ReLU_relu                               NaN          NaN  \n",
       "38_inst_norms.1.InstanceNorm2d_ins_norm                 NaN          NaN  \n",
       "39_lrelu                                                NaN          NaN  \n",
       "40_out_conv                                          4803.0   19660800.0  "
      ]
     },
     "execution_count": 14,
     "metadata": {},
     "output_type": "execute_result"
    }
   ],
   "source": [
    "summary(generator, z_bg, z_fg=z_fg, view_in_bg=view_in_bg, view_in_fg=view_in_fg)"
   ]
  },
  {
   "cell_type": "markdown",
   "metadata": {},
   "source": [
    "# Overfit"
   ]
  },
  {
   "cell_type": "code",
   "execution_count": 12,
   "metadata": {
    "ExecuteTime": {
     "end_time": "2020-04-01T15:53:13.805349Z",
     "start_time": "2020-04-01T15:53:13.778464Z"
    }
   },
   "outputs": [
    {
     "data": {
      "text/plain": [
       "<torch.autograd.anomaly_mode.set_detect_anomaly at 0x7fb6ec691898>"
      ]
     },
     "execution_count": 12,
     "metadata": {},
     "output_type": "execute_result"
    }
   ],
   "source": [
    "torch.autograd.set_detect_anomaly(True)"
   ]
  },
  {
   "cell_type": "code",
   "execution_count": 5,
   "metadata": {
    "ExecuteTime": {
     "end_time": "2020-04-01T17:52:24.130359Z",
     "start_time": "2020-04-01T17:52:23.859268Z"
    }
   },
   "outputs": [],
   "source": [
    "def compute_kl_loss(\n",
    "    presence_logits,\n",
    "    valid_indexes,\n",
    "    scale_mean,\n",
    "    scale_std,\n",
    "    center_shift_mean,\n",
    "    center_shift_std,\n",
    "    presence_prior,\n",
    "    scale_prior,\n",
    "    center_prior,\n",
    "):\n",
    "    presence_likelihood = D.Bernoulli(logits=presence_logits)\n",
    "    presence_kl = kl_divergence(presence_likelihood, presence_prior).mean()\n",
    "    \n",
    "    # valid_indexes = (presence_logits.squeeze(-1) >= 0.0)\n",
    "    \n",
    "    scale_kl = center_kl = 0.0\n",
    "    if valid_indexes.sum() > 0:\n",
    "        scale_mean = scale_mean[valid_indexes]\n",
    "        scale_std = scale_std[valid_indexes]\n",
    "        scale_likelihood = D.Normal(loc=scale_mean, scale=scale_std)\n",
    "        scale_kl = kl_divergence(scale_likelihood, scale_prior).mean()\n",
    "\n",
    "        center_mean = center_shift_mean[valid_indexes]\n",
    "        center_std = center_shift_std[valid_indexes]\n",
    "        center_likelihood = D.Normal(loc=center_mean, scale=center_std)\n",
    "        center_kl = kl_divergence(center_likelihood, center_prior).mean()\n",
    "    \n",
    "    return presence_kl, scale_kl, center_kl"
   ]
  },
  {
   "cell_type": "code",
   "execution_count": 19,
   "metadata": {
    "ExecuteTime": {
     "end_time": "2020-04-01T15:57:30.814332Z",
     "start_time": "2020-04-01T15:57:30.791798Z"
    }
   },
   "outputs": [],
   "source": [
    "from torch import autograd"
   ]
  },
  {
   "cell_type": "code",
   "execution_count": 30,
   "metadata": {
    "ExecuteTime": {
     "end_time": "2020-04-01T16:01:35.150344Z",
     "start_time": "2020-04-01T16:01:35.118369Z"
    }
   },
   "outputs": [
    {
     "data": {
      "text/plain": [
       "(tensor(False, device='cuda:0'), tensor(False, device='cuda:0'))"
      ]
     },
     "execution_count": 30,
     "metadata": {},
     "output_type": "execute_result"
    }
   ],
   "source": [
    "torch.isnan(scale_mean).any(), torch.isnan(scale_std).any()"
   ]
  },
  {
   "cell_type": "code",
   "execution_count": 31,
   "metadata": {
    "ExecuteTime": {
     "end_time": "2020-04-01T16:01:54.374203Z",
     "start_time": "2020-04-01T16:01:54.342173Z"
    }
   },
   "outputs": [],
   "source": [
    "valid_indexes = (presence_logits.squeeze(-1) >= 0.0)"
   ]
  },
  {
   "cell_type": "code",
   "execution_count": 32,
   "metadata": {
    "ExecuteTime": {
     "end_time": "2020-04-01T16:01:55.487980Z",
     "start_time": "2020-04-01T16:01:55.457543Z"
    }
   },
   "outputs": [],
   "source": [
    "scale_mean = scale_mean[valid_indexes]\n",
    "scale_std = scale_std[valid_indexes]\n",
    "scale_likelihood = D.Normal(loc=scale_mean, scale=scale_std)\n",
    "scale_kl = kl_divergence(scale_likelihood, scale_prior).mean()"
   ]
  },
  {
   "cell_type": "code",
   "execution_count": 36,
   "metadata": {
    "ExecuteTime": {
     "end_time": "2020-04-01T16:02:16.172056Z",
     "start_time": "2020-04-01T16:02:16.148472Z"
    }
   },
   "outputs": [
    {
     "data": {
      "text/plain": [
       "tensor(0, device='cuda:0')"
      ]
     },
     "execution_count": 36,
     "metadata": {},
     "output_type": "execute_result"
    }
   ],
   "source": [
    "valid_indexes.sum()"
   ]
  },
  {
   "cell_type": "code",
   "execution_count": 53,
   "metadata": {
    "ExecuteTime": {
     "end_time": "2020-04-01T16:49:42.227253Z",
     "start_time": "2020-04-01T16:49:42.185461Z"
    }
   },
   "outputs": [
    {
     "data": {
      "text/plain": [
       "tensor(-1.3721, device='cuda:0', grad_fn=<MeanBackward0>)"
      ]
     },
     "execution_count": 53,
     "metadata": {},
     "output_type": "execute_result"
    }
   ],
   "source": [
    "encoded_scene['glimpses_info']['pres_p_logits'].mean()"
   ]
  },
  {
   "cell_type": "code",
   "execution_count": 51,
   "metadata": {
    "ExecuteTime": {
     "end_time": "2020-04-01T16:49:24.134097Z",
     "start_time": "2020-04-01T16:49:24.105502Z"
    }
   },
   "outputs": [
    {
     "data": {
      "text/plain": [
       "tensor([[0],\n",
       "        [0],\n",
       "        [0],\n",
       "        [0]], device='cuda:0')"
      ]
     },
     "execution_count": 51,
     "metadata": {},
     "output_type": "execute_result"
    }
   ],
   "source": [
    "(encoded_scene['glimpses_info']['pres_p_logits'] >= 0.0).sum((1, 2))"
   ]
  },
  {
   "cell_type": "code",
   "execution_count": 55,
   "metadata": {
    "ExecuteTime": {
     "end_time": "2020-04-01T16:51:43.750926Z",
     "start_time": "2020-04-01T16:51:43.727376Z"
    }
   },
   "outputs": [
    {
     "data": {
      "text/plain": [
       "torch.Size([4, 16, 16])"
      ]
     },
     "execution_count": 55,
     "metadata": {},
     "output_type": "execute_result"
    }
   ],
   "source": [
    "(encoded_scene['obj_pres'] >= 0.5)"
   ]
  },
  {
   "cell_type": "code",
   "execution_count": 48,
   "metadata": {
    "ExecuteTime": {
     "end_time": "2020-04-01T16:47:55.514209Z",
     "start_time": "2020-04-01T16:47:55.489711Z"
    }
   },
   "outputs": [
    {
     "data": {
      "text/plain": [
       "tensor([60, 73, 59, 55], device='cuda:0')"
      ]
     },
     "execution_count": 48,
     "metadata": {},
     "output_type": "execute_result"
    }
   ],
   "source": [
    "(encoded_scene['obj_pres'] >= 0.5).sum((1, 2))"
   ]
  },
  {
   "cell_type": "code",
   "execution_count": 9,
   "metadata": {
    "ExecuteTime": {
     "end_time": "2020-04-01T17:53:17.342705Z",
     "start_time": "2020-04-01T17:53:17.294274Z"
    }
   },
   "outputs": [],
   "source": [
    "presence_prior = D.Bernoulli(3e-2)\n",
    "scale_prior = D.Normal(loc=-2, scale=0.1)\n",
    "center_prior = D.Normal(loc=0, scale=0.1)"
   ]
  },
  {
   "cell_type": "code",
   "execution_count": null,
   "metadata": {
    "ExecuteTime": {
     "start_time": "2020-04-01T18:56:15.261Z"
    }
   },
   "outputs": [
    {
     "data": {
      "application/vnd.jupyter.widget-view+json": {
       "model_id": "4cf63ca398b4402a829c6176cdfdfac5",
       "version_major": 2,
       "version_minor": 0
      },
      "text/plain": [
       "HBox(children=(IntProgress(value=0, max=10), HTML(value='')))"
      ]
     },
     "metadata": {},
     "output_type": "display_data"
    },
    {
     "data": {
      "application/vnd.jupyter.widget-view+json": {
       "model_id": "dc9862bdf175496487b03164723a56dc",
       "version_major": 2,
       "version_minor": 0
      },
      "text/plain": [
       "HBox(children=(IntProgress(value=0, max=17500), HTML(value='')))"
      ]
     },
     "metadata": {},
     "output_type": "display_data"
    }
   ],
   "source": [
    "bsz = 4\n",
    "# in_batch = batch128[:bsz].to(device)\n",
    "# out_batch = batch64[:bsz].to(device)\n",
    "loader = torch.utils.data.DataLoader(\n",
    "    dataset,\n",
    "    batch_size=bsz,\n",
    "    shuffle=True,\n",
    "    pin_memory=True,\n",
    ")\n",
    "\n",
    "# generator = Generator(\n",
    "#     z_dim_bg=64, \n",
    "#     z_dim_fg=128, \n",
    "#     use_learnable_proj=False,\n",
    "#     use_inverse_transform=False\n",
    "# ).to(device)\n",
    "# scene_encoder = SceneEncoder().to(device)\n",
    "\n",
    "lr = 1e-4\n",
    "optimizer = torch.optim.Adam([\n",
    "    {'params': generator.parameters(), 'lr': lr},\n",
    "    {'params': scene_encoder.parameters(), 'lr': lr}\n",
    "], lr=1e-4)\n",
    "\n",
    "l1_loss = nn.L1Loss()\n",
    "\n",
    "num_epochs = 10\n",
    "generator.zero_grad()\n",
    "scene_encoder.zero_grad()\n",
    "\n",
    "epoch_bar = tqdm(range(num_epochs), total=num_epochs)\n",
    "# with autograd.detect_anomaly(False):\n",
    "for epoch in epoch_bar:\n",
    "    pbar = tqdm(loader, total=len(loader))\n",
    "    for batch64, batch128 in pbar:\n",
    "        in_batch = batch128.to(device)\n",
    "        out_batch = batch64.to(device)\n",
    "        encoded_scene = scene_encoder(in_batch)\n",
    "        z_bg = encoded_scene['bg_feats']\n",
    "        view_in_bg = encoded_scene['bg_transform_params']\n",
    "        z_fg = encoded_scene['valid_img_feats']\n",
    "        view_in_fg = encoded_scene['fg_transform_params']\n",
    "\n",
    "        generated = generator(z_bg=z_bg, z_fg=z_fg, view_in_bg=view_in_bg, view_in_fg=view_in_fg)\n",
    "        recon_loss = l1_loss(generated, out_batch)\n",
    "\n",
    "        valid_indexes = encoded_scene['obj_pres'] >= 0.5\n",
    "        presence_logits = encoded_scene['glimpses_info']['pres_p_logits']\n",
    "        scale_mean, scale_std = encoded_scene['glimpses_info']['scale_mean'], encoded_scene['glimpses_info']['scale_std']\n",
    "        center_mean, center_std = encoded_scene['glimpses_info']['center_shift_mean'], encoded_scene['glimpses_info']['center_shift_std']\n",
    "        presence_kl, scale_kl, center_kl = compute_kl_loss(\n",
    "            presence_logits,\n",
    "            valid_indexes,\n",
    "            scale_mean, scale_std,\n",
    "            center_mean, center_std,\n",
    "            presence_prior, scale_prior, center_prior,\n",
    "        )\n",
    "        kl_loss = 1e-5 * (presence_kl + scale_kl + center_kl)\n",
    "\n",
    "        loss = recon_loss + kl_loss\n",
    "        loss.backward()\n",
    "        optimizer.step()\n",
    "\n",
    "        scene_encoder.zero_grad()\n",
    "        generator.zero_grad()\n",
    "\n",
    "        pbar.set_postfix(\n",
    "            recon_loss=recon_loss.item(),\n",
    "            num_objs=z_fg.size(1),\n",
    "            presence_kl=presence_kl.item(),\n",
    "            scale_kl=scale_kl.item(),\n",
    "            center_kl=center_kl.item(),\n",
    "        )"
   ]
  },
  {
   "cell_type": "code",
   "execution_count": 13,
   "metadata": {
    "ExecuteTime": {
     "end_time": "2020-04-01T18:43:29.500096Z",
     "start_time": "2020-04-01T18:43:29.478960Z"
    }
   },
   "outputs": [],
   "source": [
    "import matplotlib.pyplot as plt\n",
    "from torchvision.utils import make_grid"
   ]
  },
  {
   "cell_type": "code",
   "execution_count": 17,
   "metadata": {
    "ExecuteTime": {
     "end_time": "2020-04-01T18:44:17.158410Z",
     "start_time": "2020-04-01T18:44:17.136873Z"
    }
   },
   "outputs": [],
   "source": [
    "loader = torch.utils.data.DataLoader(\n",
    "    dataset,\n",
    "    batch_size=bsz,\n",
    "    shuffle=True,\n",
    "    pin_memory=True,\n",
    ")\n",
    "loader_iter = iter(loader)"
   ]
  },
  {
   "cell_type": "code",
   "execution_count": 18,
   "metadata": {
    "ExecuteTime": {
     "end_time": "2020-04-01T18:44:21.332193Z",
     "start_time": "2020-04-01T18:44:21.190760Z"
    }
   },
   "outputs": [],
   "source": [
    "batch64, batch128 = next(loader_iter)\n",
    "out_batch = batch64.to(device)\n",
    "in_batch = batch128.to(device)\n",
    "\n",
    "encoded_scene = scene_encoder(in_batch)\n",
    "z_bg = encoded_scene['bg_feats']\n",
    "view_in_bg = encoded_scene['bg_transform_params']\n",
    "z_fg = encoded_scene['valid_img_feats']\n",
    "view_in_fg = encoded_scene['fg_transform_params']\n",
    "\n",
    "generated = generator(z_bg=z_bg, z_fg=z_fg, view_in_bg=view_in_bg, view_in_fg=view_in_fg)"
   ]
  },
  {
   "cell_type": "code",
   "execution_count": 30,
   "metadata": {
    "ExecuteTime": {
     "end_time": "2020-04-01T18:50:56.637597Z",
     "start_time": "2020-04-01T18:50:56.613649Z"
    }
   },
   "outputs": [],
   "source": [
    "import numpy as np\n",
    "np.set_printoptions(edgeitems=10)\n",
    "np.core.arrayprint._line_width = 180"
   ]
  },
  {
   "cell_type": "code",
   "execution_count": 32,
   "metadata": {
    "ExecuteTime": {
     "end_time": "2020-04-01T18:52:30.709950Z",
     "start_time": "2020-04-01T18:52:30.403359Z"
    }
   },
   "outputs": [],
   "source": [
    "torch.set_printoptions(precision=5, linewidth=180)"
   ]
  },
  {
   "cell_type": "code",
   "execution_count": 33,
   "metadata": {
    "ExecuteTime": {
     "end_time": "2020-04-01T18:52:31.141107Z",
     "start_time": "2020-04-01T18:52:31.093782Z"
    }
   },
   "outputs": [
    {
     "name": "stdout",
     "output_type": "stream",
     "text": [
      "tensor([[[-0.18099, -0.03404, -0.20308,  0.50000,  0.50000,  0.50000, -1.00000, -0.86041,  0.91466],\n",
      "         [-0.38776, -0.54792, -0.02777,  0.50000,  0.50000,  0.50000, -0.67871, -0.27786,  0.69050],\n",
      "         [-0.26740, -0.21905, -0.07725,  0.50000,  0.50000,  0.50000, -1.00000, -0.67464,  0.83248],\n",
      "         [ 0.00796, -0.15706,  0.05469,  0.50000,  0.50000,  0.50000, -0.11944, -0.23299,  0.06407],\n",
      "         [ 0.00796, -0.15706,  0.05469,  0.50000,  0.50000,  0.50000, -0.11944, -0.23299,  0.06407],\n",
      "         [ 0.00796, -0.15706,  0.05469,  0.50000,  0.50000,  0.50000, -0.11944, -0.23299,  0.06407],\n",
      "         [ 0.00796, -0.15706,  0.05469,  0.50000,  0.50000,  0.50000, -0.11944, -0.23299,  0.06407],\n",
      "         [ 0.00796, -0.15706,  0.05469,  0.50000,  0.50000,  0.50000, -0.11944, -0.23299,  0.06407],\n",
      "         [ 0.00796, -0.15706,  0.05469,  0.50000,  0.50000,  0.50000, -0.11944, -0.23299,  0.06407]],\n",
      "\n",
      "        [[-0.28561, -0.27194,  0.14369,  0.50000,  0.50000,  0.50000, -0.09714,  0.10516,  0.33293],\n",
      "         [-0.34545, -0.31145,  0.03940,  0.50000,  0.50000,  0.50000, -0.46428,  0.05554,  0.35792],\n",
      "         [-0.42968,  0.31814,  0.02919,  0.50000,  0.50000,  0.50000, -1.00000, -0.39082,  0.25215],\n",
      "         [-0.38613, -0.48313,  0.04698,  0.50000,  0.50000,  0.50000, -0.86297, -0.33983,  0.88526],\n",
      "         [-0.22124, -0.15603, -0.07763,  0.50000,  0.50000,  0.50000, -1.00000, -0.74308,  0.66788],\n",
      "         [-0.43084, -0.55278,  0.08314,  0.50000,  0.50000,  0.50000, -0.81616, -0.31544,  0.31431],\n",
      "         [-0.31861, -0.62109,  0.59088,  0.50000,  0.50000,  0.50000, -0.46934, -0.36836, -0.06645],\n",
      "         [-0.40538, -0.63087,  0.76517,  0.50000,  0.50000,  0.50000, -0.87973, -0.37780, -0.16595],\n",
      "         [-0.29088, -0.63167,  0.70168,  0.50000,  0.50000,  0.50000, -0.40620, -0.36989, -0.09160]],\n",
      "\n",
      "        [[-0.36670, -0.45441, -0.05043,  0.50000,  0.50000,  0.50000, -0.94218, -0.40039,  0.84082],\n",
      "         [-0.46318, -0.65484,  0.38058,  0.50000,  0.50000,  0.50000, -0.34751, -0.13296,  0.43120],\n",
      "         [-0.44972, -0.58943,  0.19015,  0.50000,  0.50000,  0.50000, -0.81758, -0.28701,  0.23506],\n",
      "         [-0.23302, -0.17946,  0.05243,  0.50000,  0.50000,  0.50000, -1.00000, -0.77426,  0.34539],\n",
      "         [-0.12764,  0.09148, -0.35049,  0.50000,  0.50000,  0.50000, -1.00000, -1.00000,  0.35335],\n",
      "         [-0.19323, -0.06560,  0.04006,  0.50000,  0.50000,  0.50000, -1.00000, -0.97586,  0.12779],\n",
      "         [-0.29721, -0.41437,  0.66603,  0.50000,  0.50000,  0.50000, -1.00000, -0.67701, -0.13210],\n",
      "         [ 0.00796, -0.15706,  0.05469,  0.50000,  0.50000,  0.50000, -0.11944, -0.23299,  0.06407],\n",
      "         [ 0.00796, -0.15706,  0.05469,  0.50000,  0.50000,  0.50000, -0.11944, -0.23299,  0.06407]],\n",
      "\n",
      "        [[-0.19301, -0.07839, -0.15028,  0.50000,  0.50000,  0.50000, -1.00000, -0.77287,  0.88056],\n",
      "         [-0.22836, -0.13996, -0.04326,  0.50000,  0.50000,  0.50000, -1.00000, -0.75958,  0.62280],\n",
      "         [-0.47336, -0.66137,  0.47983,  0.50000,  0.50000,  0.50000, -0.36074, -0.13380,  0.38693],\n",
      "         [-0.46645, -0.65025,  0.40093,  0.50000,  0.50000,  0.50000, -0.44025, -0.15213,  0.39362],\n",
      "         [-0.21638, -0.15158, -0.02604,  0.50000,  0.50000,  0.50000, -1.00000, -0.78805,  0.45019],\n",
      "         [-0.43680, -0.56475,  0.19511,  0.50000,  0.50000,  0.50000, -0.81523, -0.33267,  0.30085],\n",
      "         [-0.40326, -0.67030,  0.69546,  0.50000,  0.50000,  0.50000, -0.78214, -0.34483, -0.13178],\n",
      "         [-0.28432, -0.63111,  0.64324,  0.50000,  0.50000,  0.50000, -0.39455, -0.36859, -0.06983],\n",
      "         [ 0.00796, -0.15706,  0.05469,  0.50000,  0.50000,  0.50000, -0.11944, -0.23299,  0.06407]]], device='cuda:0', grad_fn=<SliceBackward>)\n"
     ]
    }
   ],
   "source": [
    "print(view_in_fg[:])"
   ]
  },
  {
   "cell_type": "code",
   "execution_count": 19,
   "metadata": {
    "ExecuteTime": {
     "end_time": "2020-04-01T18:44:22.547625Z",
     "start_time": "2020-04-01T18:44:22.145023Z"
    }
   },
   "outputs": [
    {
     "data": {
      "text/plain": [
       "<matplotlib.image.AxesImage at 0x7fcf48067588>"
      ]
     },
     "execution_count": 19,
     "metadata": {},
     "output_type": "execute_result"
    },
    {
     "data": {
      "image/png": "[encoded data removed]",
      "text/plain": [
       "<Figure size 1152x720 with 1 Axes>"
      ]
     },
     "metadata": {
      "needs_background": "light"
     },
     "output_type": "display_data"
    }
   ],
   "source": [
    "fig = plt.figure(figsize=(16, 10))\n",
    "plt.imshow(T.functional.to_pil_image(make_grid(out_batch).cpu()))"
   ]
  },
  {
   "cell_type": "code",
   "execution_count": 20,
   "metadata": {
    "ExecuteTime": {
     "end_time": "2020-04-01T18:44:24.377961Z",
     "start_time": "2020-04-01T18:44:23.701760Z"
    }
   },
   "outputs": [
    {
     "data": {
      "text/plain": [
       "<matplotlib.image.AxesImage at 0x7fcf4053abe0>"
      ]
     },
     "execution_count": 20,
     "metadata": {},
     "output_type": "execute_result"
    },
    {
     "data": {
      "image/png": "[encoded data removed]",
      "text/plain": [
       "<Figure size 1152x720 with 1 Axes>"
      ]
     },
     "metadata": {
      "needs_background": "light"
     },
     "output_type": "display_data"
    }
   ],
   "source": [
    "fig = plt.figure(figsize=(16, 10))\n",
    "plt.imshow(T.functional.to_pil_image(make_grid(generated).cpu()))"
   ]
  },
  {
   "cell_type": "code",
   "execution_count": null,
   "metadata": {},
   "outputs": [],
   "source": []
  }
 ],
 "metadata": {
  "kernelspec": {
   "display_name": "grievous",
   "language": "python",
   "name": "grievous"
  },
  "language_info": {
   "codemirror_mode": {
    "name": "ipython",
    "version": 3
   },
   "file_extension": ".py",
   "mimetype": "text/x-python",
   "name": "python",
   "nbconvert_exporter": "python",
   "pygments_lexer": "ipython3",
   "version": "3.6.8"
  },
  "toc": {
   "base_numbering": 1,
   "nav_menu": {},
   "number_sections": true,
   "sideBar": true,
   "skip_h1_title": false,
   "title_cell": "Table of Contents",
   "title_sidebar": "Contents",
   "toc_cell": false,
   "toc_position": {},
   "toc_section_display": true,
   "toc_window_display": false
  }
 },
 "nbformat": 4,
 "nbformat_minor": 2
}
